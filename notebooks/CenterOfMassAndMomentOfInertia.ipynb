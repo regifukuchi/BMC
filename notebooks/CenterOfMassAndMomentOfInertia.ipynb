{
 "cells": [
  {
   "cell_type": "markdown",
   "metadata": {
    "lang": "en"
   },
   "source": [
    "# Center of Mass and Moment of Inertia\n",
    "Renato Naville Watanabe"
   ]
  },
  {
   "cell_type": "code",
   "execution_count": 21,
   "metadata": {
    "collapsed": true
   },
   "outputs": [],
   "source": [
    "import numpy as np\n",
    "import sympy as sym\n"
   ]
  },
  {
   "cell_type": "markdown",
   "metadata": {},
   "source": [
    "### Center of mass\n",
    "\n",
    "The center of mass of a set of particles is formally defined as the point where the sum of the vectors linking this point to each particle, weighted by its mass, is zero.\n",
    "\n",
    "<figure><img src=\"../images/cmparticles.png\\\" width=500 />\n",
    "\n",
    " The sum of the vectors linking the center of mass to each particle is:\n",
    "\n",
    "\\begin{equation}\n",
    "  \\sum\\limits_{i = 1}^nm_i{\\bf\\vec{r_{i/cm}}}= \\sum\\limits_{i = 1}^nm_i\\left({\\bf\\vec{r_i}} - {\\bf\\vec{r}_{cm}}\\right) = \\sum\\limits_{i = 1}^nm_i{\\bf\\vec{r_i}} - \\sum\\limits_{i = 1}^nm_i{\\bf\\vec{r}_{cm}} = \\sum\\limits_{i = 1}^nm_i{\\bf\\vec{r_i}} - {\\bf\\vec{r}_{cm}}\\sum\\limits_{i = 1}^nm_i\n",
    "\\end{equation}\n",
    "where $n$ is the number of particles.\n",
    "\n",
    "Now, we equal this sum to zero and isolate ${\\bf\\vec{r_{cm}}}$:\n",
    "\n",
    "\\begin{equation}\n",
    "     \\sum\\limits_{i = 1}^nm_i{\\bf\\vec{r_i}} - {\\bf\\vec{r}_{cm}}\\sum\\limits_{i = 1}^nm_i = 0 \\longrightarrow {\\bf\\vec{r}_{cm}} = \\frac{\\sum\\limits_{i = 1}^nm_i{\\bf\\vec{r_i}}}{\\sum\\limits_{i = 1}^nm_i}  = \\frac{\\sum\\limits_{i = 1}^nm_i{\\bf\\vec{r_i}}}{m_T}\n",
    "\\end{equation}\n",
    "\n",
    "where $m_T$ is the total mass of the particles."
   ]
  },
  {
   "cell_type": "markdown",
   "metadata": {},
   "source": [
    "#### Example\n",
    "\n",
    "Two masses with mass $m_1$ and $m_2$\n",
    "\n",
    "\\begin{equation}\n",
    "    \\vec{\\bf{r_{cm}}} = \\frac{m_1\\vec{\\bf{r_1}}+m_2\\vec{\\bf{r_2}}}{m_1+m_2} =  \\frac{m_1\\vec{\\bf{r_1}}+m_2\\vec{\\bf{r_1}}-m_2\\vec{\\bf{r_1}} +m_2\\vec{\\bf{r_2}}}{m_1+m_2}=\\frac{(m_1+m_2)\\vec{\\bf{r_1}}}{m_1+m_2} + \\frac{m_2(\\vec{\\bf{r_2}}-\\vec{\\bf{r_1}})}{m_1+m_2}=\\,\\,\\,\\,\\,\\,\\,\\,\\,\\,\\,\\,\\,\\,\\,\\,\\,\\,\\, = \\vec{\\bf{r_1}} + \\frac{m_2}{m_1+m_2}(\\vec{\\bf{r_2}}-\\vec{\\bf{r_1}})\n",
    "\\end{equation}\n",
    "\n",
    "\n"
   ]
  },
  {
   "cell_type": "markdown",
   "metadata": {},
   "source": [
    "For a rigid body, the center of mass is defined as the point where the integral of the vectors  linking this point to each differential part of mass, weighted by this differential mass, is zero. \n",
    "\n",
    "<figure><img src=\"../images/cmbody.png\\\" width=500 />\n",
    "\n",
    "This integral is:\n",
    "\n",
    "\\begin{equation}\n",
    "    \\int\\limits_{B} {\\bf{\\vec{r}_{/cm}}} dm = \\int\\limits_{B} {\\bf{\\vec{r}}} - {\\bf{\\vec{r}_{cm}}}  dm = \\int\\limits_{B} {\\bf{\\vec{r}}}\\,dm - \\int\\limits_{B}{\\bf{\\vec{r}_{cm}}}  dm = \\int\\limits_{B} {\\bf{\\vec{r}}}\\,dm - {\\bf{\\vec{r}_{cm}}}\\int\\limits_{B}\\, dm\n",
    "\\end{equation}\n",
    "\n",
    "Now we equal this integral to zero and isolate ${\\bf\\vec{r_{cm}}}$:\n",
    "\n",
    "\\begin{equation}\n",
    "    \\int\\limits_{B} {\\bf{\\vec{r}}}\\,dm - {\\bf{\\vec{r}_{cm}}}\\int\\limits_{B}\\, dm  = 0 \\longrightarrow  {\\bf{\\vec{r}_{cm}}} = \\frac{ \\int\\limits_{B} {\\bf{\\vec{r}}}\\,dm}{\\int\\limits_{B}\\, dm}  = \\frac{ \\int\\limits_{B} {\\bf{\\vec{r}}}\\,dm}{m_B}\n",
    "    \\label{eq:cm}\n",
    "\\end{equation}\n",
    "where $m_B$ is the mass of the body."
   ]
  },
  {
   "cell_type": "markdown",
   "metadata": {
    "collapsed": true
   },
   "source": [
    "#### Example\n",
    "\n",
    "bar\n",
    "\n",
    "<figure><img src=\"../images/bar.png\\\" width=300 />\n",
    "\n",
    "\n",
    "\n",
    "\\begin{equation}\n",
    "    {\\bf{\\vec{r}_{cm}}} = \\frac{ \\int\\limits_{B} {\\bf{\\vec{r}}}\\,dm}{m_B} \n",
    "\\end{equation}\n",
    "\n",
    "The mass of the bar is:\n",
    "\n",
    "\\begin{equation}\n",
    "    m_b = \\rho l\n",
    "\\end{equation}\n",
    "\n",
    "The integral can be computed as:\n",
    "\n",
    "\\begin{equation}\n",
    "     \\int\\limits_{B} {\\bf{\\vec{r}}}\\,dm = \\rho\\int\\limits_0^l x\\,dx =\\rho\\frac{l^2}{2}\n",
    "\\end{equation}\n",
    "\n",
    "So, the center of mass of the bar is:\n",
    "\n",
    "\n",
    "\\begin{equation}\n",
    "    {\\bf{\\vec{r}_{cm}}} = \\frac{\\rho\\frac{l^2}{2}}{\\rho l} = \\frac{l}{2}\n",
    "\\end{equation}\n",
    "\n",
    "The center of mass of an homogenous bar is in the middle of the bar."
   ]
  },
  {
   "cell_type": "markdown",
   "metadata": {
    "collapsed": true,
    "lang": "en"
   },
   "source": [
    "Now, we will compute the center of mass of the triangle below.\n",
    "\n",
    "\n",
    "<figure><img src=\"../images/triangle.png\\\" width=800 />\n",
    "\n",
    "The center of mass is given by Eq.~\\eqref{eq:cm}\n",
    "\n",
    "\\begin{equation}\n",
    "    \\vec{\\bf{r_{cm}}} = \\frac{\\int_B \\vec{\\bf{r}}\\,dm}{m} \n",
    "\\end{equation}\n",
    "\n",
    "The mass of the triangle is equal:\n",
    "\n",
    "\\begin{equation}\n",
    "    m = \\rho A = \\frac{\\rho bh}{2}\n",
    "\\end{equation}\n",
    "\n",
    "The integral in the triangle can be computed by separating into two parts: one part we integrate in $x$ until $p$, and the other part from $p$ to $b$. The integration in the $y$ direction will be from 0 to $\\frac{xh}{p}$ in the first integral and from 0 to $\\frac{(b-x)h}{b-p}$:\n",
    "\n",
    "\\begin{equation}\n",
    "     \\int_B \\vec{\\bf{r}}\\,dm = \\rho\\int\\limits_B \\vec{\\bf{r}}\\,dA = \\rho\\left(\\int\\limits_0^p\\int\\limits_0^\\frac{xh}{p} x\\hat{\\bf{i}} + y\\hat{\\bf{j}} \\,dydx + \\int_p^b\\int_0^\\frac{(b-x)h}{b-p} x\\hat{\\bf{i}} + y\\hat{\\bf{j}} \\,dydx\\right)\n",
    "\\end{equation}\n",
    "\n",
    "\n",
    "So, the center of mass of the triangle will be:\n",
    "\n",
    "\\begin{equation}\n",
    "    \\vec{\\bf{r_{cm}}} = \\frac{\\rho\\left(\\int\\limits_0^p\\int\\limits_0^\\frac{xh}{p} x\\hat{\\bf{i}} + y\\hat{\\bf{j}} \\,dydx + \\int_p^b\\int_0^\\frac{(b-x)h}{b-p} x\\hat{\\bf{i}} + y\\hat{\\bf{j}} \\,dydx\\right)}{\\frac{\\rho bh}{2}} = \\frac{2\\left(\\int\\limits_0^p\\int\\limits_0^\\frac{xh}{p} x\\hat{\\bf{i}} + y\\hat{\\bf{j}} \\,dydx + \\int_p^b\\int_0^\\frac{(b-x)h}{b-p} x\\hat{\\bf{i}} + y\\hat{\\bf{j}} \\,dydx\\right)}{bh}\n",
    "\\end{equation}\n",
    "\n",
    "The integral above will be solved using the Symbolic library of the Python."
   ]
  },
  {
   "cell_type": "code",
   "execution_count": 14,
   "metadata": {
    "collapsed": true
   },
   "outputs": [],
   "source": [
    "x,y = sym.symbols('x,y')\n",
    "rho, h, p, b = sym.symbols('rho, h, p, b')"
   ]
  },
  {
   "cell_type": "code",
   "execution_count": 15,
   "metadata": {},
   "outputs": [
    {
     "name": "stdout",
     "output_type": "stream",
     "text": [
      "x_cm =  b/3 + p/3\n"
     ]
    }
   ],
   "source": [
    "xcm = 2*(sym.integrate(sym.integrate(x, (y, 0, x*h/p)), (x, 0, p)) + \n",
    "      sym.integrate(sym.integrate(x, (y, 0, (b-x)*h/(b-p))), (x, p, b)))/(b*h)\n",
    "print('x_cm = ',sym.simplify(xcm))"
   ]
  },
  {
   "cell_type": "code",
   "execution_count": 16,
   "metadata": {},
   "outputs": [
    {
     "name": "stdout",
     "output_type": "stream",
     "text": [
      "y_cm =  h/3\n"
     ]
    }
   ],
   "source": [
    "ycm = 2*(sym.integrate(sym.integrate(y, (y, 0, x*h/p)), (x, 0, p)) + \n",
    "      sym.integrate(sym.integrate(y, (y, 0, (b-x)*h/(b-p))), (x, p, b)))/(b*h)\n",
    "print('y_cm = ',sym.simplify(ycm))"
   ]
  },
  {
   "cell_type": "markdown",
   "metadata": {},
   "source": [
    "So, the center of mass of the triangle is $\\vec{\\bf{r_{cm}}} = \\left(\\frac{b+p}{3}\\right)\\hat{\\bf{i}} + \\frac{h}{3}\\hat{\\bf{j}}$"
   ]
  },
  {
   "cell_type": "markdown",
   "metadata": {},
   "source": [
    "### Center of gravity\n",
    "\n",
    "Center of gravity of a body is the point where the moment caused by the gravitational force in the whole body relative to this point is zero.\n",
    "\n",
    "\\begin{equation}\n",
    "    \\vec{\\bf{M_0}} = \\int\\limits_{B}  \\vec{\\bf{r_B}}\\, \\times\\,\\vec{\\bf{g}}\\,dm \n",
    "\\end{equation}\n",
    "\n",
    "If the acceleration of gravity being applied to the whole body is the same (for all practical purposes, in Biomechanics we can consider it the same in the whole body), the gravity vector can go out of the integral:  \n",
    "\n",
    "\\begin{equation}\n",
    "  \\vec{\\bf{M_0}}= \\int\\limits_{B}\\vec{\\bf{r_B}}\\,dm\\, \\times\\,\\vec{\\bf{g}} =  \\int\\limits_{B}(\\vec{\\bf{r}} - \\vec{\\bf{r_{cm}}})\\,dm\\, \\times\\,\\vec{\\bf{g}} =  \\left(\\int\\limits_{B}\\vec{\\bf{r}}\\,dm -\\int\\limits_{B}\\vec{\\bf{r_{G}}}\\,dm\\,\\right) \\times\\,\\vec{\\bf{g}}\n",
    "\\end{equation}\n",
    "\n",
    "\n",
    "Now, we equal this moment to zero and isolate $\\vec{\\bf{r_{G}}}$:\n",
    "\n",
    "\\begin{equation}\n",
    "            \\left(\\int\\limits_{B}\\vec{\\bf{r}}\\,dm -\\int\\limits_{B}\\vec{\\bf{r_{G}}}\\,dm\\right) \\times\\,\\vec{\\bf{g}} = 0 \\longrightarrow \\int\\limits_{B}\\vec{\\bf{r}}\\,dm -\\int\\limits_{B}\\vec{\\bf{r_{G}}}\\,dm = 0 \\longrightarrow \\int\\limits_{B}\\vec{\\bf{r}}\\,dm -\\vec{\\bf{r_{G}}}\\int\\limits_{B}\\,dm = 0\\,\\,\\,\\,\\,\\, \\longrightarrow \\vec{\\bf{r_{G}}} = \\frac{ \\int\\limits_{B}\\vec{\\bf{r}}\\,dm}{\\int\\limits_{B}\\,dm} = \\frac{ \\int\\limits_{B}\\vec{\\bf{r}}\\,dm}{m_B}  \n",
    "\\end{equation}\n",
    "where $m_B$ is the mass of the body.\n",
    "\n",
    "Note that in this case, that the gravity acceleration is constant, the center of gravity $\\vec{\\bf{r_{G}}}$ is equal to the center of mass $\\vec{\\bf{r_{cm}}}$."
   ]
  },
  {
   "cell_type": "markdown",
   "metadata": {
    "collapsed": true
   },
   "source": [
    "### Geometric center\n",
    "\n",
    "For a rigid body, the geometric center is defined as the point where the integral of the vectors  linking this point to each differential part of mass is zero. It \n",
    "\n",
    "This integral is:\n",
    "\n",
    "\\begin{equation}\n",
    "    \\int\\limits_{B} {\\bf{\\vec{r}_{/gc}}} dV = \\int\\limits_{B} {\\bf{\\vec{r}}} - {\\bf{\\vec{r}_{gc}}}  dV = \\int\\limits_{B} {\\bf{\\vec{r}}}\\,dV - \\int\\limits_{B}{\\bf{\\vec{r}_{gc}}}  dV = \\int\\limits_{B} {\\bf{\\vec{r}}}\\,dV - {\\bf{\\vec{r}_{gc}}}\\int\\limits_{B}\\, dV\n",
    "\\end{equation}\n",
    "\n",
    "Now we equal this integral to zero and isolate ${\\bf\\vec{r_{gc}}}$:\n",
    "\n",
    "\\begin{equation}\n",
    "    \\int\\limits_{B} {\\bf{\\vec{r}}}\\,dV - {\\bf{\\vec{r}_{gc}}}\\int\\limits_{B}\\, dV  = 0 \\longrightarrow  {\\bf{\\vec{r}_{gc}}} = \\frac{ \\int\\limits_{B} {\\bf{\\vec{r}}}\\,dV}{\\int\\limits_{B}\\, dV}  = \\frac{ \\int\\limits_{B} {\\bf{\\vec{r}}}\\,dV}{V}\n",
    "    \\label{eq:gc}\n",
    "\\end{equation}\n",
    "where $V$ is the volume of the body. Note that when the body has a constant density $\\rho$, the center of mass is equal to the geometric center:\n",
    "\n",
    "\\begin{equation}\n",
    "    {\\bf{\\vec{r}_{cm}}} =  \\frac{ \\int\\limits_{B} {\\bf{\\vec{r}}}\\,dm}{m_B} = \\frac{ \\int\\limits_{B} {\\bf{\\vec{r}}}\\rho\\,dV}{\\rho V} = \\frac{ \\rho\\int\\limits_{B} {\\bf{\\vec{r}}}\\,dV}{\\rho V}  =   \\frac{ \\int\\limits_{B} {\\bf{\\vec{r}}}\\,dV}{V} =  {\\bf{\\vec{r}_{gc}}}\n",
    "\\end{equation}"
   ]
  },
  {
   "cell_type": "markdown",
   "metadata": {},
   "source": [
    "### Center of mass of a complex system\n",
    "\n",
    "Now, we will consider a set of $n$ bodies. The center of mass of this set of bodies can be computed by integrating the Eq.~\\eqref{eq:cm} over all bodies:\n",
    "\n",
    "\\begin{equation}\n",
    "     \\vec{\\bf{r_{G}}} =  \\frac{ \\int\\limits_{B1,B2,...,Bn}\\vec{\\bf{r}}\\,dm}{m_{B1}+m_{B2}+... + m_{Bn}} =\\frac{\\int\\limits_{B1}\\vec{\\bf{r}}\\,dm+\\int\\limits_{B2}\\vec{\\bf{r}}\\,dm+...+\\int\\limits_{Bn}\\vec{\\bf{r}}\\,dm}{m_{B1}+m_{B2}+... + m_{Bn}} = \\frac{\\frac{\\int\\limits_{B1}\\vec{\\bf{r}}\\,dm}{m_{B1}}m_{B1} + \\frac{\\int\\limits_{B2}\\vec{\\bf{r}}\\,dm}{m_{B2}}m_{B2} +...+ \\frac{\\int\\limits_{Bn}\\vec{\\bf{r}}\\,dm}{m_{Bn}}m_{Bn}}{m_{B1}+m_{B2}+... + m_{Bn}}  = \\frac{\\vec{\\bf{r_{cm_1}}} m_{B1} + \\vec{\\bf{r_{cm_2}}}m_{B2} +...+ \\vec{\\bf{r_{cm_n}}}m_{Bn}}{m_{B1}+m_{B2}+... + m_{Bn}}=\\frac{\\vec{\\bf{r_{cm_1}}} m_{B1} + \\vec{\\bf{r_{cm_2}}}m_{B2} +...+ \\vec{\\bf{r_{cm_n}}}m_{Bn}}{m_T}\n",
    "\\end{equation}\n",
    "where $\\vec{\\bf{r_{cm_i}}}$ is  the center of mass of the body $i$, $m_{Bi}$ is the mass of the body $i$ and $m_T$ is the total mass of the bodies. The expression above shows that we can interpret each body as a particle with its mass and position. \n"
   ]
  },
  {
   "cell_type": "markdown",
   "metadata": {},
   "source": [
    "Now we will compute the center of mass of the system shown below.\n",
    "\n",
    "<figure><img src=\"../images/threebars.png\\\" width=400 />\n",
    "\n",
    "The system can be seen as a set of three bars, so we can compute it by considering each bar as a particle located at its center of mass. \n",
    "\n",
    "We have previously computed the center of mass of an homogenous bar as being at its center. So, the center of mass of each bar is:\n",
    "\n",
    "\\begin{equation}\n",
    "    \\vec{\\bf{r_{cm_1}}} = -\\frac{l_1}{2}\\hat{\\bf{j}}\n",
    "\\end{equation}\n",
    "\n",
    "\\begin{equation}\n",
    "    \\vec{\\bf{r_{cm_2}}} = \\frac{l_2}{2}\\sin(\\theta_1)\\hat{\\bf{i}}-\\frac{l_2}{2}\\cos(\\theta_1)\\hat{\\bf{j}}\n",
    "\\end{equation}\n",
    "\n",
    "\\begin{equation}\n",
    "    \\vec{\\bf{r_{cm_3}}} = l_2\\sin(\\theta_1)\\hat{\\bf{i}}-l_2\\cos(\\theta_1)\\hat{\\bf{j}}+\\frac{l_3}{2}\\sin(\\theta_2)\\hat{\\bf{i}}-\\frac{l_3}{2}\\cos(\\theta_2)\\hat{\\bf{j}} = \\left(l_2\\sin(\\theta_1)+\\frac{l_3}{2}\\sin(\\theta_2) \\right)\\hat{\\bf{i}} + \\left(l_2\\cos(\\theta_1)-\\frac{l_3}{2}\\cos(\\theta_2) \\right)\\hat{\\bf{j}}\n",
    "\\end{equation}\n",
    "\n",
    "So, the center of mass of the system is:\n",
    "\n",
    "\\begin{equation}\n",
    "         \\vec{\\bf{r_{cm}}} = \\frac{m_1 \\vec{\\bf{r_{cm_1}}}+m_2 \\vec{\\bf{r_{cm_2}}}+m_3 \\vec{\\bf{r_{cm_3}}}}{m_1+m_2+m_3} = \\frac{-m_1\\frac{l_1}{2}\\hat{\\bf{j}} + m_2(\\frac{l_2}{2}\\sin(\\theta_1)\\hat{\\bf{i}}-\\frac{l_2}{2}\\cos(\\theta_1)\\hat{\\bf{j}})+m_3 \\left[\\left(l_2\\sin(\\theta_1)+\\frac{l_3}{2}\\sin(\\theta_2) \\right)\\hat{\\bf{i}} + \\left(l_2\\cos(\\theta_1)-\\frac{l_3}{2}\\cos(\\theta_2) \\right)\\hat{\\bf{j}} \\right]}{m_1+m_2+m_3} = \\frac{m_2\\frac{l_2}{2}\\sin(\\theta_1)\\hat{\\bf{i}}+m_3 \\left(l_2\\sin(\\theta_1)+\\frac{l_3}{2}\\sin(\\theta_2) \\right)\\hat{\\bf{i}}}{m_1+m_2+m_3}+\\frac{-m_1\\frac{l_1}{2}\\hat{\\bf{j}} - m_2\\frac{l_2}{2}\\cos(\\theta_1)\\hat{\\bf{j}}+m_3 \\left(l_2\\cos(\\theta_1)-\\frac{l_3}{2}\\cos(\\theta_2) \\right)\\hat{\\bf{j}}}{m_1+m_2+m_3} = \\frac{m_2\\frac{l_2}{2}\\sin(\\theta_1)+m_3 \\left(l_2\\sin(\\theta_1)+\\frac{l_3}{2}\\sin(\\theta_2)\\right)}{m_1+m_2+m_3}\\hat{\\bf{i}}+\\frac{-m_1\\frac{l_1}{2} - m_2\\frac{l_2}{2}\\cos(\\theta_1)+m_3 \\left(l_2\\cos(\\theta_1)-\\frac{l_3}{2}\\cos(\\theta_2) \\right)}{m_1+m_2+m_3}\\hat{\\bf{j}} = \n",
    "\\end{equation}\n",
    "\n"
   ]
  },
  {
   "cell_type": "markdown",
   "metadata": {},
   "source": [
    "### Moment of inertia\n",
    "\n",
    "The moment of inertia is a measure of how the mass of the body distributes relative to a given axis passing to a given point O. In other words, the moment of inertia relative to a point O for an axis a is defined how far the mass of the body is from this axis. If we define the versor $\\hat{\\bf{n_a}}$ as a versor in the direction of the axis, this distance is the croo product between the vector linking the point O to each part of the body and this versor.\n",
    "\n",
    "<figure><img src=\"../images/inmombody.png\\\" width=500 />\n",
    "\n",
    "\n",
    "Considering that, the moment of inertia relative to the point O for the axis a is defined as:\n",
    " \n",
    "\\begin{equation}\n",
    "    I_{aa}^{O} = \\int\\limits_B (\\vec{\\bf{r_{/O}}} \\times \\hat{\\bf{n_a}}).(\\vec{\\bf{r_{/O}}} \\times \\hat{\\bf{n_a}})\\,dm   \n",
    "    \\label{eq:inmomgen}\n",
    "\\end{equation}\n",
    "\n",
    "For planar movements, we normally compute the moment of inertia relative to the z-axis. So, the Eq.~\\eqref{eq:inmomgen} simplifies to:\n",
    "\n",
    "\\begin{equation}\n",
    "    I_{zz}^O = \\int\\limits_B (\\vec{\\bf{r_{/O}}} \\times \\hat{\\bf{k}}).(\\vec{\\bf{r_{/O}}} \\times \\hat{\\bf{k}})\\,dm =  \\int\\limits_B \\left[(x_{/O}\\hat{\\bf{i}}+y_{/O}\\hat{\\bf{j}} +z_{/O}\\hat{\\bf{k}})\\times \\hat{\\bf{k}}\\right].\\left[(x_{/O}\\hat{\\bf{i}}+y_{/O}\\hat{\\bf{j}} +z_{/O}\\hat{\\bf{k}})\\times \\hat{\\bf{k}}\\right]\\,dm = \\int\\limits_B (-x_{/O}\\hat{\\bf{j}}+y_{/O}\\hat{\\bf{i}}).(-x_{/O}\\hat{\\bf{j}}+y_{/O}\\hat{\\bf{i}})\\,dm \\,\\,\\,\\,\\longrightarrow I_{zz}^O = \\int\\limits_B x_{/O}^2+y_{/O}^2\\,dm\n",
    "    \\label{eq:inmomzzo}\n",
    "\\end{equation}\n",
    "\n",
    "Frequently, the chosen point to compute the moment of inertia is the center of mass. So if we choose the point O as the center of mass, the Eq.~\\eqref{eq:inmomzzo} is written as:\n",
    "\n",
    "\\begin{equation}\n",
    "    I_{zz}^{cm} = \\int\\limits_B x_{/cm}^2+y_{/cm}^2\\,dm\n",
    "\\end{equation}"
   ]
  },
  {
   "cell_type": "markdown",
   "metadata": {},
   "source": [
    "Now we will compute the moment of inertia relative to the center of mass of the same bar we computed the center of mass. \n",
    "\n",
    "The moment of inertia relative to the center of mass is:\n",
    "\n",
    "\\begin{equation}\n",
    "    I_{zz}^{cm} = \\int\\limits_B x_{/cm}^2+y_{/cm}^2\\,dm = \\int\\limits_{-l/2}^{l/2} x^2\\rho\\,dx = \\rho\\left.\\left(\\frac{x^3}{3}\\right)\\right|_{-l/2}^{l/2} = \\rho\\left(\\frac{l^3}{24}+\\frac{l^3}{24}\\right)=\\rho\\frac{l^3}{12} = \\frac{ml^2}{12}\n",
    "\\end{equation}"
   ]
  },
  {
   "cell_type": "markdown",
   "metadata": {},
   "source": [
    "#### Radius of gyration\n",
    "\n",
    "Radius of gyration is defined as the distance that a particle would be from the a point O to have the same moment of inertia that the body have. So, the radius of gyration is defined as:\n",
    "\n",
    "\\begin{equation}\n",
    "    r_{gyr} = \\sqrt{\\frac{I_{zz}^{cm}}{m}}\n",
    "\\end{equation}\n",
    "\n",
    "For example, for the homogenous bar with length $l$, the radius of gyration is:\n",
    "\n",
    "\\begin{equation}\n",
    "    r_{gyr} = \\sqrt{\\frac{\\frac{ml^2}{12}}{m}}=\\sqrt{\\frac{l^2}{12}} = \\frac{l\\sqrt{3}}{6} \n",
    "\\end{equation}"
   ]
  },
  {
   "cell_type": "markdown",
   "metadata": {},
   "source": [
    "### Parallel axis theorem\n",
    "\n",
    "If we have computed the moment of inertia relative to the center of mass for an axis, for example the z-axis, and now  want to compute the moment of inertia relative to another point O for an axis parallel to the first, there is an expression to aid the computation of this moment of inertia. \n",
    "\n",
    "In the figure below, the axis is perpendicular to the figure plane.\n",
    "\n",
    "<figure><img src=\"../images/inmomparallel.png\\\" width=500 />\n",
    "\n",
    "The moment of inertia relative to the axis passing through the point O is given by:\n",
    "\n",
    "\\begin{equation}\n",
    "        I_{zz}^O = \\int\\limits_B x_{/O}^2+y_{/O}^2\\,dm = \\int\\limits_B (x_{/cm}+x_{cm/O})^2+(y_{/cm}+y_{cm/O})^2\\,dm = \\int\\limits_B x_{/cm}^2+2x_{/cm}x_{cm/O}+x_{cm/O}^2+y_{/cm}^2+2y_{/cm}y_{cm/O}+y_{cm/O}^2\\,dm =\\underbrace{\\int\\limits_B x_{/cm}^2+y_{/cm}^2\\,dm}_{I_{zz}^{cm}} +\\int\\limits_B 2x_{/cm}x_{cm/O}\\,dm+\\int\\limits_B x_{cm/O}^2+y_{cm/O}^2\\,dm + \\int\\limits_B 2y_{/cm}y_{cm/O}\\,dm = I_{zz}^{cm} +2x_{cm/O}\\underbrace{\\int\\limits_B x_{/cm}\\,dm}_{0}+\\underbrace{(x_{cm/O}^2+y_{cm/O}^2)}_{d^2}\\underbrace{\\int\\limits_B \\,dm}_{m_B} + 2y_{cm/O}\\underbrace{\\int\\limits_B y_{/cm}\\,dm}_{0} \\longrightarrow I_{zz}^{O} =  I_{zz}^{cm} + m_B.d^2\n",
    "\\end{equation}\n",
    "\n",
    "The terms $\\int\\limits_B x_{/cm}\\,dm$ and $\\int\\limits_B y_{/cm}\\,dm$ are equal to zero because of the definition of center of mass. The term $d$ is the distance between the two axes. Note that this theorem is valid only for parallel axes."
   ]
  },
  {
   "cell_type": "markdown",
   "metadata": {},
   "source": [
    "Now we will compute the moment of inertia the moment of inertia of a bar relative to one of its extremities, by using the parallel axis theorem. \n",
    "\n",
    "\\begin{equation}\n",
    "    I_{zz}^O = I_{zz}^{cm} + m\\left(\\frac{l}{2}\\right)^2 = \\frac{ml^2}{12} + \\frac{ml^2}{4} = \\frac{ml^2}{3}\n",
    "\\end{equation}"
   ]
  },
  {
   "cell_type": "markdown",
   "metadata": {
    "collapsed": true
   },
   "source": [
    "### Moment of inertia of a complex system\n",
    "\n",
    "To compute the moment of inertia of a set o $n$ bodies relative to a point O for a given axis (for example, the z axis), we must apply the Eq.~\\eqref{eq:inmomzzo} for all bodies:\n",
    "\n",
    "\\begin{equation}\n",
    "    I_{zz}^{O} = \\int\\limits_{B1,B2,...,Bn} x_{/O}^2+y_{/O}^2\\,dm =  \\int\\limits_{B1} x_{/O}^2+y_{/O}^2\\,dm +\\int\\limits_{B2} x_{/O}^2+y_{/O}^2\\,dm +...+\\int\\limits_{Bn} x_{/O}^2+y_{/O}^2\\,dm\n",
    "\\end{equation}\n",
    "\n",
    "Now, using the parallel axis theorem, we can write the equation above in terms of the moment of inertia relative to the center of mass of each body:\n",
    "\n",
    "\\begin{equation}\n",
    "    I_{zz}^{O} =  I_{zz_{B1}}^{cm_1} + m_{B1}.||\\vec{\\bf{r_{cm_1/O}}}||^2 +I_{zz_{B2}}^{cm_2} + m_{B2}.||\\vec{\\bf{r_{cm_2/O}}}||^2  +...+I_{zz_{Bn}}^{cm_n} + m_{Bn}.||\\vec{\\bf{r_{cm_n/O}}}||^2 \n",
    "    \\label{eq:paral}\n",
    "\\end{equation}\n",
    "where $I_{zz_{Bi}}^{cm_i}$ is the moment of inertia of the body $i$ relative to its center of mass.\n",
    "\n"
   ]
  },
  {
   "cell_type": "markdown",
   "metadata": {},
   "source": [
    "Now we will compute the moment of inertia of the set of eight equal and homogenous bars depicted in the figure below relative to its center of mass.\n",
    "\n",
    "<figure><img src=\"../images/eigthbars.png\\\" width=500 />\n",
    "\n",
    "By symmetry, the center of mass of this system is in the point O. So, to compute the moment of inertia relative to this point, we must use the parallel axis theorem to each bar, and then sum the results, as in Eq.~\\eqref{eq:paral}.\n",
    "\n",
    "\\begin{equation}\n",
    "    I^cm_{zz} = I^{cm1}_{zz}+m\\left(\\frac{l}{2}\\right)^2+I^{cm2}_{zz}+m\\left(\\frac{l}{2}\\right)^2+I^{cm3}_{zz}+m\\left(\\frac{l}{2}\\right)^2+I^{cm4}_{zz}+m\\left(\\frac{l}{2}\\right)^2+I^{cm5}_{zz}+m\\left(\\frac{l}{2}\\right)^2+I^{cm6}_{zz}+m\\left(\\frac{l}{2}\\right)^2+I^{cm7}_{zz}+m\\left(\\frac{l}{2}\\right)^2+I^{cm8}_{zz}+m\\left(\\frac{l}{2}\\right)^2\n",
    "\\end{equation}\n",
    "\n",
    "The moment of inertia of a bar relative to its center of mass is $\\frac{ml^2}{12}$. So the moment of inertia of the system relative to its center of mass is:\n",
    "\n",
    "\\begin{equation}\n",
    "    I^cm_{zz} = 8.\\left[\\frac{ml^2}{12}+m\\left(\\frac{l}{2}\\right)^2\\right]=\\frac{8ml^2}{3}\n",
    "\\end{equation}"
   ]
  },
  {
   "cell_type": "markdown",
   "metadata": {},
   "source": [
    "<a id='matrixinertia'></a>"
   ]
  },
  {
   "cell_type": "markdown",
   "metadata": {},
   "source": [
    "### Matrix of Inertia\n",
    "\n",
    "For 3D movements we must consider the moments of inertia inertia in the three directions besides three other quantities called products of inertia. A product of inertia is defined as in Eq.~\\eqref{eq:inmomgen}, but with each versor orthogonal to each other. So, the product of inertia relative to point O for axes a and b is:\n",
    "\n",
    "\n",
    "\\begin{equation}\n",
    "    I_{ab}^O= \\int\\limits_B  (\\vec{\\bf{r_{/O}}} \\times \\hat{\\bf{n_a}}).(\\vec{\\bf{r_{/O}}} \\times \\hat{\\bf{n_b}})\\,dm\n",
    "    \\label{eq:prodinmomgen}\n",
    "\\end{equation}\n",
    "\n",
    "Note that $I_{ab}^O$ is equal to $I_{ba}^O$.\n",
    "\n",
    "The matrix of inertia is defined as:\n",
    "\n",
    "\\begin{equation}\n",
    "    I^O = \\left[\\begin{array}{ccc}I_{xx}^O&I_{xy}^O&I_{xz}^O\\\\\n",
    "                                  I_{yx}^O&I_{yy}^O&I_{yz}^O\\\\\n",
    "                                  I_{zx}^O&I_{zy}^O&I_{zz}^O\\end{array}\\right]\n",
    "\\end{equation}\n",
    "\n",
    "where each term is defined as follows:\n",
    "\n",
    "\\begin{equation}\n",
    "    I_{xx}^O = \\int\\limits_B  (\\vec{\\bf{r_{/O}}} \\times \\hat{\\bf{i}}).(\\vec{\\bf{r_{/O}}} \\times \\hat{\\bf{i}})\\,dm = \\int\\limits_B  y_{/O}^2+z_{/O}^2\\,dm\n",
    "\\end{equation}\n",
    "\n",
    "\\begin{equation}\n",
    "    I_{yy}^O = \\int\\limits_B  (\\vec{\\bf{r_{/O}}} \\times \\hat{\\bf{j}}).(\\vec{\\bf{r_{/O}}} \\times \\hat{\\bf{j}})\\,dm = \\int\\limits_B  x_{/O}^2+z_{/O}^2\\,dm\n",
    "\\end{equation}\n",
    "\n",
    "\\begin{equation}\n",
    "    I_{zz}^O = \\int\\limits_B  (\\vec{\\bf{r_{/O}}} \\times \\hat{\\bf{k}}).(\\vec{\\bf{r_{/O}}} \\times \\hat{\\bf{k}})\\,dm = \\int\\limits_B  x_{/O}^2+y_{/O}^2\\,dm\n",
    "\\end{equation}\n",
    "\n",
    "\\begin{equation}\n",
    "    I_{xy}^O = I_{yx}^O =\\int\\limits_B  (\\vec{\\bf{r_{/O}}} \\times \\hat{\\bf{i}}).(\\vec{\\bf{r_{/O}}} \\times \\hat{\\bf{j}})\\,dm = \\int\\limits_B  \\left[(x_{/O}\\hat{\\bf{i}}+y_{/O}\\hat{\\bf{j}}+z_{/O}\\hat{\\bf{k}}) \\times \\hat{\\bf{i}}\\right].\\left[(x_{/O}\\hat{\\bf{i}}+y_{/O}\\hat{\\bf{j}}+z_{/O}\\hat{\\bf{k}}) \\times \\hat{\\bf{j}}\\right]\\,dm = \\int\\limits_B  (-y_{/O}\\hat{\\bf{k}}+z_{/O}\\hat{\\bf{j}}).(x_{/O}\\hat{\\bf{k}}-z_{/O}\\hat{\\bf{i}})\\,dm \\longrightarrow I_{xy}^O = \\int\\limits_B  - y_{/O}x_{/O}\\,dm \n",
    "\\end{equation}\n",
    "\n",
    "\\begin{equation}\n",
    "    I_{xz}^O = I_{zx}^O =\\int\\limits_B  (\\vec{\\bf{r_{/O}}} \\times \\hat{\\bf{i}}).(\\vec{\\bf{r_{/O}}} \\times \\hat{\\bf{k}})\\,dm = \\int\\limits_B  \\left[(x_{/O}\\hat{\\bf{i}}+y_{/O}\\hat{\\bf{j}}+z_{/O}\\hat{\\bf{k}}) \\times \\hat{\\bf{i}}\\right].\\left[(x_{/O}\\hat{\\bf{i}}+y_{/O}\\hat{\\bf{j}}+z_{/O}\\hat{\\bf{k}}) \\times \\hat{\\bf{k}}\\right]\\,dm = \\int\\limits_B  (-y_{/O}\\hat{\\bf{k}}+z_{/O}\\hat{\\bf{j}}).(-x_{/O}\\hat{\\bf{j}}+y_{/O}\\hat{\\bf{i}})\\,dm \\longrightarrow I_{xz}^O = \\int\\limits_B  - z_{/O}x_{/O}\\,dm \n",
    "\\end{equation}\n",
    "\n",
    "\\begin{equation}\n",
    "    I_{yz}^O = I_{zy}^O =\\int\\limits_B  (\\vec{\\bf{r_{/O}}} \\times \\hat{\\bf{j}}).(\\vec{\\bf{r_{/O}}} \\times \\hat{\\bf{k}})\\,dm = \\int\\limits_B  \\left[(x_{/O}\\hat{\\bf{i}}+y_{/O}\\hat{\\bf{j}}+z_{/O}\\hat{\\bf{k}}) \\times \\hat{\\bf{j}}\\right].\\left[(x_{/O}\\hat{\\bf{i}}+y_{/O}\\hat{\\bf{j}}+z_{/O}\\hat{\\bf{k}}) \\times \\hat{\\bf{k}}\\right]\\,dm = \\int\\limits_B  (x_{/O}\\hat{\\bf{k}}-z_{/O}\\hat{\\bf{i}}).(-x_{/O}\\hat{\\bf{j}}+y_{/O}\\hat{\\bf{i}})\\,dm \\longrightarrow I_{yz}^O = \\int\\limits_B  - z_{/O}y_{/O}\\,dm \n",
    "\\end{equation}\n"
   ]
  },
  {
   "cell_type": "markdown",
   "metadata": {},
   "source": [
    "Now, we will consider a cylinder and compute the moment of inertia for the three axes, relative to the center of mass. The mass of this cylinder is $m = \\rho \\pi R^2$ and, by symmetry, it is in the middle of the cylinder.\n",
    "\n",
    "<figure><img src=\"../images/cilinder.png\\\" width=500 />\n",
    "\n",
    "First, for axis $z$:\n",
    "\n",
    "\\begin{equation}\n",
    "    I_{zz}^{cm} = \\int\\limits_B  x_{/cm}^2+y_{/cm}^2\\,dm = \\int\\limits_{-h/2}^{h/2}\\int\\limits_0^R\\int\\limits_0^{2\\pi} r^2 \\rho r \\,d\\theta\\,dr\\,dz = \\rho \\int\\limits_{-h/2}^{h/2}\\int\\limits_0^R\\int\\limits_0^{2\\pi} r^3  \\,d\\theta\\,dr\\,dz = \\rho \\int\\limits_{-h/2}^{h/2}\\int\\limits_0^R 2\\pi r^3  \\,dr\\,dz = \\rho \\int\\limits_{-h/2}^{h/2} 2\\pi \\frac{R^4}{4}  \\,dz =  \\rho \\pi \\frac{R^4}{2}h = \\frac{mR^2}{2}\n",
    "\\end{equation}\n",
    "\n",
    "Now, for the $x axis$:\n",
    "\n",
    "\\begin{equation}\n",
    "    I_{xx}^{cm} = \\int\\limits_B  z_{/cm}^2+y_{/cm}^2\\,dm = \\int\\limits_{-h/2}^{h/2}\\int\\limits_0^R\\int\\limits_0^{2\\pi} z^2+r^2\\sin^2(\\theta) \\rho r \\,d\\theta\\,dr\\,dz = \\int\\limits_{-h/2}^{h/2}\\int\\limits_0^R\\int\\limits_0^{2\\pi} (rz^2+r^3\\sin^2(\\theta) )\\rho  \\,d\\theta\\,dr\\,dz \n",
    "\\end{equation}\n",
    "\n",
    "We will solve this integral using the Sympy lybrary:"
   ]
  },
  {
   "cell_type": "code",
   "execution_count": 32,
   "metadata": {},
   "outputs": [
    {
     "data": {
      "image/png": "[encoded data removed]",
      "text/latex": [
       "$$\\frac{m}{12} \\left(3 R^{2} + h^{2}\\right)$$"
      ],
      "text/plain": [
       "  ⎛   2    2⎞\n",
       "m⋅⎝3⋅R  + h ⎠\n",
       "─────────────\n",
       "      12     "
      ]
     },
     "execution_count": 32,
     "metadata": {},
     "output_type": "execute_result"
    }
   ],
   "source": [
    "h, R, z, theta, r, rho, m1 = sym.symbols('h, R, z, theta, r, rho, m')\n",
    "m = rho*h*sym.pi*R**2\n",
    "Ixx = rho*sym.integrate(sym.integrate(sym.integrate(r*z**2+(r**3)*sym.sin(theta)**2, (theta, 0, 2*sym.pi)), (r, 0, R)), (z,-h/2,h/2))/m\n",
    "sym.simplify(m1*Ixx)"
   ]
  },
  {
   "cell_type": "markdown",
   "metadata": {},
   "source": [
    "So, the moment of inertia of the cylinder for the axis $x$ is:\n",
    "\n",
    "$I_{xx}^{cm} = \\frac{m}{12}(3R^2+h^2)$\n",
    "\n",
    "By symmetry, the moment of inertia for the axis $y$ is equal to  the moment of inertia for the axis $x$.\n",
    "\n",
    "$I_{yy}^{cm} = \\frac{m}{12}(3R^2+h^2)$\n"
   ]
  },
  {
   "cell_type": "markdown",
   "metadata": {},
   "source": [
    "#### Principal axes\n",
    "\n",
    "It is always possible to choose the direction of the axes in a way that the products of inertia are zero. In this situation, the inertia matrix is:\n",
    "\n",
    "\\begin{equation}\n",
    "    I^{cm} = \\left[\\begin{array}{ccc}I_{1}^O&0&0\\\\\n",
    "                                  0&I_{2}^O&0\\\\\n",
    "                                  0&0&I_{3}^O\\end{array}\\right]\n",
    "\\end{equation}\n",
    "\n",
    "where $I_1$, $I_2$ and $I_3$ are the moments of inertia for each of the principal axes."
   ]
  },
  {
   "cell_type": "markdown",
   "metadata": {},
   "source": [
    "### Problems\n",
    "Solve the problems 3.2.5, 3.2.7, 15.3.11, 15.3.15 from Ruina and Pratap book."
   ]
  },
  {
   "cell_type": "markdown",
   "metadata": {
    "collapsed": true
   },
   "source": [
    "## References\n",
    "\n",
    "- Ruina A, Rudra P (2015) [Introduction to Statics and Dynamics](http://ruina.tam.cornell.edu/Book/index.html). Oxford University Press. \n",
    "\n",
    "- Kane T, Levinson D (1985) [Dynamics: Theory and Applications](https://ecommons.cornell.edu/handle/1813/638). McGraw-Hill, Inc"
   ]
  },
  {
   "cell_type": "code",
   "execution_count": null,
   "metadata": {},
   "outputs": [],
   "source": []
  }
 ],
 "metadata": {
  "celltoolbar": "Raw Cell Format",
  "kernelspec": {
   "display_name": "Python 3",
   "language": "python",
   "name": "python3"
  },
  "language_info": {
   "codemirror_mode": {
    "name": "ipython",
    "version": 3
   },
   "file_extension": ".py",
   "mimetype": "text/x-python",
   "name": "python",
   "nbconvert_exporter": "python",
   "pygments_lexer": "ipython3",
   "version": "3.6.8"
  },
  "latex_envs": {
   "LaTeX_envs_menu_present": true,
   "autoclose": false,
   "autocomplete": true,
   "bibliofile": "biblio.bib",
   "cite_by": "apalike",
   "current_citInitial": 1,
   "eqLabelWithNumbers": true,
   "eqNumInitial": 1,
   "hotkeys": {
    "equation": "Ctrl-E",
    "itemize": "Ctrl-I"
   },
   "labels_anchors": false,
   "latex_user_defs": false,
   "report_style_numbering": false,
   "user_envs_cfg": false
  },
  "nbTranslate": {
   "displayLangs": [
    "pt"
   ],
   "hotkey": "alt-t",
   "langInMainMenu": true,
   "sourceLang": "en",
   "targetLang": "pt",
   "useGoogleTranslate": true
  }
 },
 "nbformat": 4,
 "nbformat_minor": 2
}
