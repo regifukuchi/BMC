{
 "cells": [
  {
   "cell_type": "markdown",
   "metadata": {
    "slideshow": {
     "slide_type": "slide"
    }
   },
   "source": [
    "# Free Body Diagram for particles\n",
    "\n",
    "Renato Naville Watanabe"
   ]
  },
  {
   "cell_type": "code",
   "execution_count": 1,
   "metadata": {
    "slideshow": {
     "slide_type": "slide"
    }
   },
   "outputs": [],
   "source": [
    "import numpy as np\n",
    "import matplotlib.pyplot as plt\n",
    "\n",
    "%matplotlib notebook"
   ]
  },
  {
   "cell_type": "markdown",
   "metadata": {
    "slideshow": {
     "slide_type": "slide"
    }
   },
   "source": [
    "### Steps to draw a free-body diagram\n",
    "\n",
    "1 - Draw separately each object considered in the problem. How you separate depends on what questions you want to answer.\n",
    "\n",
    "2 - Identify the forces acting on each object. If you are analyzing more than one object, remember the third Newton law (action and reaction), and identify where the reaction of a force is being applied.\n",
    "\n",
    "3 - Draw all the identified forces, representing them as vectors. The vectors should be represented with the origin in the object. In the case of particles, the origin should be in the center of the particle.\n",
    "\n",
    "4 - If necessary, you should represent the reference frame in the free-body diagram.\n",
    "\n",
    "5 - After this, you can solve the problem using the Second Newton Law (see, e.g,  [Newton Laws](https://nbviewer.jupyter.org/github/BMClab/bmc/blob/master/Notebooks/newtonLawForParticles.ipynb)) to find the motion of the particle."
   ]
  },
  {
   "cell_type": "markdown",
   "metadata": {
    "slideshow": {
     "slide_type": "slide"
    }
   },
   "source": [
    "## Basic element and forces"
   ]
  },
  {
   "cell_type": "markdown",
   "metadata": {
    "slideshow": {
     "slide_type": "slide"
    }
   },
   "source": [
    "### Spring\n",
    "\n",
    "Is an element used to represent a force proportional to some length or displacement. It produces a force in the same direction of the vector linking the spring extremities and opposite to its length or displacement from an equilibrium length. Frequently it has a linear relation, but it could be nonlinear as well. The force exerted by the spring in one of the extremities is: \n",
    "\n",
    "\\begin{equation}\n",
    "\\vec{\\bf{F}} = - k(||\\vec{\\bf{r}}||-l_0)\\frac{\\vec{\\bf{r}}}{||\\vec{\\bf{r}}||} = -k\\vec{\\bf{r}} +kl_0\\frac{\\vec{\\bf{r}}}{||\\vec{\\bf{r}}||} = -k\\left(1-\\frac{l_0}{||\\vec{\\bf{r}}||}\\right)\\vec{\\bf{r}}\n",
    "\\end{equation}\n",
    "\n",
    "where $\\vec{\\bf{r}}$ is the vector linking the extremity applying the force to the other extremity and $l_0$ is the equilibrium length of the spring.\n",
    "\n",
    "Since the spring element is a massless element, the force in  both extremities have the same absolute value and opposite directions. "
   ]
  },
  {
   "cell_type": "markdown",
   "metadata": {
    "slideshow": {
     "slide_type": "slide"
    }
   },
   "source": [
    "### Damping \n",
    "\n",
    "Is an element used to represent a force proportional to the velocity of displacement.  It produces a force in the opposite direction of its velocity.\n",
    "\n",
    "Frequently it has a linear relation, but it could be nonlinear as well. The force exerted by the damping element in one of its extremities is: \n",
    "\n",
    "\\begin{equation}\n",
    "\\vec{\\bf{F}} = - b||\\vec{\\bf{v}}||\\frac{\\vec{\\bf{v}}}{||\\vec{\\bf{v}}||} = -b\\vec{\\bf{v}} = -b\\frac{d\\vec{\\bf{r}}}{dt}\n",
    "\\end{equation}\n",
    "\n",
    "where $\\vec{\\bf{r}}$ is the vector linking the extremity applying the force to the other extremity.\n",
    "\n",
    "For the same reason of the spring, the force in  both extremities have the same absolute value and opposite directions. "
   ]
  },
  {
   "cell_type": "markdown",
   "metadata": {
    "slideshow": {
     "slide_type": "slide"
    }
   },
   "source": [
    "### Gravity\n",
    "\n",
    "\n",
    "The gravity force acts on two masses, each one atracting each other:\n",
    "\n",
    "\\begin{equation}\n",
    "\\vec{{\\bf{F}}} = - G\\frac{m_1m_2}{||\\vec{\\bf{r}}||^2}\\frac{\\vec{\\bf{r}}}{||\\vec{\\bf{r}}||}\n",
    "\\end{equation}\n",
    "\n",
    "where  $G = 6.67.10^{−11} Nm^2/kg^2$ and $\\vec{\\bf{r}}$ is a vector with length equal to the distance between the masses and directing towards the other mass. Note the forces acting on each mass have the same absolute value.\n",
    "\n",
    "Since the mass of the Earth is $m_1=5.9736×10^{24}kg$ and its radius is 6.371×10$^6$ m (see [this notebook](https://nbviewer.jupyter.org/github/BMClab/bmc/blob/master/Notebooks/KineticsFundamentalConcepts.ipynb), for details), the gravity force on Earth is:\n",
    "\n",
    "\n",
    "\\begin{equation}\n",
    "\\vec{{\\bf{F}}} = m\\vec{\\bf{g}}\n",
    "\\end{equation}\n",
    "\n",
    "with the absolute value of $\\vec{\\bf{g}}$ approximately equal to 9.81 $m/s^2$,  and point towards the center of Earth."
   ]
  },
  {
   "cell_type": "markdown",
   "metadata": {
    "slideshow": {
     "slide_type": "slide"
    }
   },
   "source": [
    "## Examples of free-body diagram\n",
    "\n",
    "Below, will be shown some examples of how to draw the free-body diagram and obtain the motion equations to solve the problems."
   ]
  },
  {
   "cell_type": "markdown",
   "metadata": {
    "slideshow": {
     "slide_type": "slide"
    }
   },
   "source": [
    "### 1) No force acting on the particle\n",
    "\n",
    "The most trivial situation is a particle with no force acting on it.   \n",
    "\n",
    "\n",
    "The free-body diagram is below, with no force vectors acting on the particle.\n",
    "\n",
    "<figure><img src=\"../images/ballNoGrav.png\\\" width=700 />\n",
    "    \n",
    "In this situation, the resultant force is:\n",
    "\n",
    "\\begin{equation}\n",
    "\\vec{\\bf{F}} = \\vec{\\bf{0}}\n",
    "\\end{equation}\n",
    "\n",
    "And the second Newton law for this particle is:\n",
    "\n",
    "\\begin{equation}\n",
    "m\\frac{d^2\\vec{\\bf{r}}}{dt^2} = \\vec{\\bf{0}} \\rightarrow \\frac{d^2\\vec{\\bf{r}}}{dt^2} = \\vec{\\bf{0}}\n",
    "\\end{equation}\n",
    "\n",
    "The motion of of the particle can be found by integrating twice both times, getting the following:\n",
    "\n",
    "\\begin{equation}\n",
    "\\vec{\\bf{r}} = \\vec{\\bf{v_0}}t + \\vec{\\bf{r0}}\n",
    "\\end{equation}\n",
    "\n",
    "The particle continues to change its position with the same velocity it was at the beginning of the analysis. This could be predicted by the first Newton law."
   ]
  },
  {
   "cell_type": "markdown",
   "metadata": {
    "slideshow": {
     "slide_type": "slide"
    }
   },
   "source": [
    "### 2) Gravity force acting on the particle\n",
    "\n",
    "Now, we will consider a ball with the gravity force acting on it. The free-body diagram is depicted below.\n",
    "\n",
    "<figure><img src=\"../images/ballGrav.png\\\" width=700 />\n",
    "\n",
    "\n",
    "The only force acting on the ball is the gravitational force:\n",
    "\n",
    "\\begin{equation}\n",
    "\\hat{\\bf{F_g}} = - mg \\hat{\\bf{j}}\n",
    "\\end{equation}\n",
    "\n",
    "So, we write the Second Newton Law:\n",
    "\n",
    "\\begin{equation}\n",
    "\\hat{\\bf{F_g}} = m \\frac{d^2\\vec{\\bf{r}}}{dt^2} \\rightarrow - mg \\hat{\\bf{j}} = m \\frac{d^2\\vec{\\bf{r}}}{dt^2} \\rightarrow - g \\hat{\\bf{j}} =\\frac{d^2\\vec{\\bf{r}}}{dt^2}\n",
    "\\end{equation}\n",
    "\n",
    "Now, we can separate the equation in two components (x and y):\n",
    "\n",
    "\\begin{equation}\n",
    "0 = \\frac{d^2x}{dt^2}\n",
    "\\end{equation}\n",
    "\n",
    "and\n",
    "\n",
    "\\begin{equation}\n",
    "- g = \\frac{d^2y}{dt^2}\n",
    "\\end{equation}\n",
    "\n",
    "These equations were solved in detail in [this Notebook about Newton laws](https://nbviewer.jupyter.org/github/BMClab/bmc/blob/master/Notebooks/newtonLawForParticles.ipynb). "
   ]
  },
  {
   "cell_type": "markdown",
   "metadata": {
    "slideshow": {
     "slide_type": "slide"
    }
   },
   "source": [
    "### 3) Ground reaction force\n",
    "\n",
    "Now, we will analyze the situation of a particle in contact with the ground. To simplify the analysis, only the vertical movement will be considered.\n",
    "\n",
    "<figure><img src=\"../images/ballGravGRF.png\\\" width=500 />"
   ]
  },
  {
   "cell_type": "markdown",
   "metadata": {
    "slideshow": {
     "slide_type": "slide"
    }
   },
   "source": [
    "The forces acting on the particle are the ground reaction force (often called as normal force) and the gravity force. The free-body diagram of the particle is below:\n",
    "\n",
    "<figure><img src=\"../images/ballGravGRFFBD.png\\\" width=200 />\n",
    "\n",
    "So, the resultant force in the particle is:\n",
    "\n",
    "\\begin{equation}\n",
    "    \\vec{\\bf{F}} = \\overrightarrow{\\bf{GRF}} + m\\vec{\\bf{g}} = \\overrightarrow{\\bf{GRF}} - mg\\hat{\\bf{j}}\n",
    "\\end{equation}\n",
    "\n",
    "Considering only the y direction:\n",
    "\n",
    "\\begin{equation}\n",
    "    F = GRF - mg\n",
    "\\end{equation}\n",
    "\n",
    "Applying the second Newton law to the particle:\n",
    "\n",
    "\n",
    "\\begin{equation}\n",
    "    m \\frac{d^2y}{dt^2} = GRF - mg\n",
    "\\end{equation}\n",
    "\n",
    "Note that since we have no information about how the force GRF varies along time, we cannot solve this equation. To find the position of the particle along time, one would have to measure the ground reaction force. See [the notebook on Vertical jump](http://nbviewer.jupyter.org/github/BMClab/bmc/blob/master/notebooks/VerticalJump.ipynb) for an application of this model."
   ]
  },
  {
   "cell_type": "markdown",
   "metadata": {
    "slideshow": {
     "slide_type": "slide"
    }
   },
   "source": [
    "## 4) Linear spring in horizontal movement\n",
    "\n",
    "The example below is mass attached to a spring. The other extremity of the spring is fixed. \n",
    "\n",
    "<figure><img src=\"../images/ballspring.png\\\" width=500 />\n",
    "    "
   ]
  },
  {
   "cell_type": "markdown",
   "metadata": {
    "slideshow": {
     "slide_type": "slide"
    }
   },
   "source": [
    "The only force force acting on the mass is from the spring. Below is the free-body diagram from the mass.\n",
    "\n",
    "<figure><img src=\"../images/ballspringFBD.png\\\" width=200 />\n",
    "\n",
    "\n",
    "Since the movement is horizontal, we can neglect the gravity force.  \n",
    "\n",
    "\\begin{equation}\n",
    "    \\vec{\\bf{F}} = -k\\left(1-\\frac{l_0}{||\\vec{\\bf{r}}||}\\right)\\vec{\\bf{r}}\n",
    "\\end{equation}\n",
    "\n",
    "Applying the second Newton law to the mass:\n",
    "\n",
    "\\begin{equation}\n",
    "    m\\frac{d^2\\vec{\\bf{r}}}{dt^2} = -k\\left(1-\\frac{l_0}{||\\vec{\\bf{r}}||}\\right)\\vec{\\bf{r}} \\rightarrow \\frac{d^2\\vec{\\bf{r}}}{dt^2} = -\\frac{k}{m}\\left(1-\\frac{l_0}{||\\vec{\\bf{r}}||}\\right)\\vec{\\bf{r}}\n",
    "\\end{equation}\n",
    "\n",
    "Since the movement is unidimensional, we can deal with it scalarly:\n",
    "\n",
    "\\begin{equation}\n",
    "    \\frac{d^2x}{dt^2} = -\\frac{k}{m}\\left(1-\\frac{l_0}{x}\\right)x = -\\frac{k}{m}(x-l_0) \n",
    "\\end{equation}\n",
    "\n",
    "\n",
    "To solve this equation numerically, we must break the equations into two first-order differential equation:\n",
    "\n",
    "\\begin{equation}\n",
    "    \\frac{dv_x}{dt} =  -\\frac{k}{m}(x-l_0) \n",
    "\\end{equation}\n",
    "\n",
    "\\begin{equation}\n",
    "    \\frac{dx}{dt} =  v_x\n",
    "\\end{equation}\n",
    "\n",
    "In the numerical solution below, we will use $k = 40 N/m$, $m = 2 kg$, $l_0 = 0.5 m$ and the mass starts from the position $x = 0.8m$ and at rest."
   ]
  },
  {
   "cell_type": "code",
   "execution_count": 3,
   "metadata": {
    "slideshow": {
     "slide_type": "slide"
    }
   },
   "outputs": [
    {
     "data": {
      "image/png": "[encoded data removed]",
      "text/plain": [
       "<matplotlib.figure.Figure at 0x7f51c58f3630>"
      ]
     },
     "metadata": {},
     "output_type": "display_data"
    }
   ],
   "source": [
    "k = 40\n",
    "m = 2\n",
    "l0 = 0.5\n",
    "x0 = 0.8\n",
    "v0 = 0\n",
    "\n",
    "x = x0\n",
    "v = v0\n",
    "\n",
    "dt = 0.001\n",
    "t = np.arange(0, 3, dt)\n",
    "\n",
    "r = np.array([x])\n",
    "\n",
    "for i in t[1:]:\n",
    "    dxdt = v\n",
    "    dvxdt = -k/m*(x-l0)\n",
    "    x = x + dt*dxdt\n",
    "    v = v + dt*dvxdt\n",
    "    r = np.vstack((r,np.array([x])))\n",
    "    \n",
    "\n",
    "plt.figure()\n",
    "plt.plot(t,r)\n",
    "plt.xlabel('t(s)')\n",
    "plt.ylabel('x(m)')\n",
    "plt.title('Spring displacement')\n",
    "plt.show()"
   ]
  },
  {
   "cell_type": "markdown",
   "metadata": {
    "slideshow": {
     "slide_type": "slide"
    }
   },
   "source": [
    "### 5) Linear spring in bidimensional movement in horizontal plane\n",
    "\n",
    "This example has two masses attached to the spring. To solve the motion of both masses, we must draw a free-body diagram for each one of the masses. \n",
    "\n",
    "<figure><img src=\"../images/twoballspring.png\\\" width=500 />\n",
    "\n"
   ]
  },
  {
   "cell_type": "markdown",
   "metadata": {
    "slideshow": {
     "slide_type": "slide"
    }
   },
   "source": [
    "The only force acting on each mass is the force due to the spring. Since the movement is happening in the horizontal plane, the gravity force can be neglected.\n",
    "\n",
    "<figure><img src=\"../images/twoballspringFBD.png\\\" width=200 />\n",
    "\n",
    "So, the forces acting on mass 1 is:\n",
    "\n",
    "\\begin{equation}\n",
    "    \\vec{\\bf{F_1}} = k\\left(||\\vec{\\bf{r_2}}-\\vec{\\bf{r_1}}||-l_0\\right)\\frac{(\\vec{\\bf{r_2}}-\\vec{\\bf{r_1}})}{||\\vec{\\bf{r_2}}-\\vec{\\bf{r_1}}||}\n",
    "\\end{equation}\n",
    "\n",
    "and the forces acting on mass 2 is:\n",
    "\n",
    "\\begin{equation}\n",
    "    \\vec{\\bf{F_2}} =k\\left(||\\vec{\\bf{r_2}}-\\vec{\\bf{r_1}}||-l_0\\right)\\frac{(\\vec{\\bf{r_1}}-\\vec{\\bf{r_2}})}{||\\vec{\\bf{r_2}}-\\vec{\\bf{r_1}}||}\n",
    "\\end{equation}"
   ]
  },
  {
   "cell_type": "markdown",
   "metadata": {
    "slideshow": {
     "slide_type": "slide"
    }
   },
   "source": [
    "Applying the second Newton law for the masses:\n",
    "\n",
    "\\begin{equation}\n",
    "     m_1\\frac{d^2\\vec{\\bf{r_1}}}{dt^2} = k\\left(||\\vec{\\bf{r_2}}-\\vec{\\bf{r_1}}||-l_0\\right)\\frac{(\\vec{\\bf{r_2}}-\\vec{\\bf{r_1}})}{||\\vec{\\bf{r_2}}-\\vec{\\bf{r_1}}||} \\rightarrow \\frac{d^2\\vec{\\bf{r_1}}}{dt^2} = -\\frac{k}{m_1}\\left(1-\\frac{l_0}{||\\vec{\\bf{r_2}}-\\vec{\\bf{r_1}}||}\\right)\\vec{\\bf{r_1}}+\\frac{k}{m_1}\\left(1-\\frac{l_0}{||\\vec{\\bf{r_2}}-\\vec{\\bf{r_1}}||}\\right)\\vec{\\bf{r_2}} \\rightarrow \\frac{d^2x_1\\hat{\\bf{i}}}{dt^2}+\\frac{d^2y_1\\hat{\\bf{j}}}{dt^2} = -\\frac{k}{m_1}\\left(1-\\frac{l_0}{||\\vec{\\bf{r_2}}-\\vec{\\bf{r_1}}||}\\right)(x_1\\hat{\\bf{i}}+y_1\\hat{\\bf{j}})+\\frac{k}{m_1}\\left(1-\\frac{l_0}{||\\vec{\\bf{r_2}}-\\vec{\\bf{r_1}}||}\\right)(x_2\\hat{\\bf{i}}+y_2\\hat{\\bf{j}})\n",
    "\\end{equation}\n",
    "\n",
    "\\begin{equation}\n",
    "     m_2\\frac{d^2\\vec{\\bf{r_2}}}{dt^2} = k\\left(||\\vec{\\bf{r_2}}-\\vec{\\bf{r_1}}||-l_0\\right)\\frac{(\\vec{\\bf{r_1}}-\\vec{\\bf{r_2}})}{||\\vec{\\bf{r_2}}-\\vec{\\bf{r_1}}||} \\rightarrow \\frac{d^2\\vec{\\bf{r_2}}}{dt^2} = -\\frac{k}{m_2}\\left(1-\\frac{l_0}{||\\vec{\\bf{r_2}}-\\vec{\\bf{r_1}}||}\\right)\\vec{\\bf{r_2}}+\\frac{k}{m_2}\\left(1-\\frac{l_0}{||\\vec{\\bf{r_2}}-\\vec{\\bf{r_1}}||}\\right)\\vec{\\bf{r_1}} \\rightarrow \\frac{d^2x_2\\hat{\\bf{i}}}{dt^2}+\\frac{d^2y_2\\hat{\\bf{j}}}{dt^2} = -\\frac{k}{m_2}\\left(1-\\frac{l_0}{||\\vec{\\bf{r_2}}-\\vec{\\bf{r_1}}||}\\right)(x_2\\hat{\\bf{i}}+y_2\\hat{\\bf{j}})+\\frac{k}{m_2}\\left(1-\\frac{l_0}{||\\vec{\\bf{r_2}}-\\vec{\\bf{r_1}}||}\\right)(x_1\\hat{\\bf{i}}+y_1\\hat{\\bf{j}})\n",
    "\\end{equation}"
   ]
  },
  {
   "cell_type": "markdown",
   "metadata": {
    "slideshow": {
     "slide_type": "slide"
    }
   },
   "source": [
    "Now, we can separate the equations for each of the coordinates:\n",
    "\n",
    "\\begin{equation}\n",
    "    \\frac{d^2x_1}{dt^2} = -\\frac{k}{m_1}\\left(1-\\frac{l_0}{||\\vec{\\bf{r_2}}-\\vec{\\bf{r_1}}||}\\right)x_1+\\frac{k}{m_1}\\left(1-\\frac{l_0}{||\\vec{\\bf{r_2}}-\\vec{\\bf{r_1}}||}\\right)x_2=-\\frac{k}{m_1}\\left(1-\\frac{l_0}{\\sqrt{(x_2-x_1)^2+(y_2-y_1)^2}}\\right)(x_1-x_2)\n",
    "\\end{equation}\n",
    "\n",
    "\\begin{equation}\n",
    "    \\frac{d^2y_1}{dt^2} = -\\frac{k}{m_1}\\left(1-\\frac{l_0}{||\\vec{\\bf{r_2}}-\\vec{\\bf{r_1}}||}\\right)y_1+\\frac{k}{m_1}\\left(1-\\frac{l_0}{||\\vec{\\bf{r_2}}-\\vec{\\bf{r_1}}||}\\right)y_2=-\\frac{k}{m_1}\\left(1-\\frac{l_0}{\\sqrt{(x_2-x_1)^2+(y_2-y_1)^2}}\\right)(y_1-y_2)\n",
    "\\end{equation}\n",
    "\n",
    "\\begin{equation}\n",
    "    \\frac{d^2x_2}{dt^2} = -\\frac{k}{m_2}\\left(1-\\frac{l_0}{||\\vec{\\bf{r_2}}-\\vec{\\bf{r_1}}||}\\right)x_2+\\frac{k}{m_2}\\left(1-\\frac{l_0}{||\\vec{\\bf{r_2}}-\\vec{\\bf{r_1}}||}\\right)x_1=-\\frac{k}{m_2}\\left(1-\\frac{l_0}{\\sqrt{(x_2-x_1)^2+(y_2-y_1)^2}}\\right)(x_2-x_1)\n",
    "\\end{equation}\n",
    "\n",
    "\\begin{equation}\n",
    "    \\frac{d^2y_2}{dt^2} = -\\frac{k}{m_2}\\left(1-\\frac{l_0}{||\\vec{\\bf{r_2}}-\\vec{\\bf{r_1}}||}\\right)y_2+\\frac{k}{m_2}\\left(1-\\frac{l_0}{||\\vec{\\bf{r_2}}-\\vec{\\bf{r_1}}||}\\right)y_1=-\\frac{k}{m_2}\\left(1-\\frac{l_0}{\\sqrt{(x_2-x_1)^2+(y_2-y_1)^2}}\\right)(y_2-y_1)\n",
    "\\end{equation}"
   ]
  },
  {
   "cell_type": "markdown",
   "metadata": {
    "slideshow": {
     "slide_type": "slide"
    }
   },
   "source": [
    "To solve these equations numerically, you must break these equations into first-order  equations:\n",
    "\n",
    "\n",
    "\\begin{equation}\n",
    "    \\frac{dv_{x_1}}{dt} = -\\frac{k}{m_1}\\left(1-\\frac{l_0}{\\sqrt{(x_2-x_1)^2+(y_2-y_1)^2}}\\right)(x_1-x_2)\n",
    "\\end{equation}\n",
    "\n",
    "\\begin{equation}\n",
    "    \\frac{dv_{y_1}}{dt} = -\\frac{k}{m_1}\\left(1-\\frac{l_0}{\\sqrt{(x_2-x_1)^2+(y_2-y_1)^2}}\\right)(y_1-y_2)\n",
    "\\end{equation}\n",
    "\n",
    "\\begin{equation}\n",
    "    \\frac{dv_{x_2}}{dt} = -\\frac{k}{m_2}\\left(1-\\frac{l_0}{\\sqrt{(x_2-x_1)^2+(y_2-y_1)^2}}\\right)(x_2-x_1)\n",
    "\\end{equation}\n",
    "\n",
    "\\begin{equation}\n",
    "    \\frac{dv_{y_2}}{dt} = -\\frac{k}{m_2}\\left(1-\\frac{l_0}{\\sqrt{(x_2-x_1)^2+(y_2-y_1)^2}}\\right)(y_2-y_1)\n",
    "\\end{equation}\n",
    "\n",
    "\\begin{equation}\n",
    "    \\frac{dx_1}{dt} = v_{x_1}\n",
    "\\end{equation}\n",
    "\n",
    "\\begin{equation}\n",
    "    \\frac{dy_1}{dt} = v_{y_1}\n",
    "\\end{equation}\n",
    "\n",
    "\\begin{equation}\n",
    "    \\frac{dx_2}{dt} = v_{x_2}\n",
    "\\end{equation}\n",
    "\n",
    "\\begin{equation}\n",
    "    \\frac{dy_2}{dt} = v_{y_2}\n",
    "\\end{equation}"
   ]
  },
  {
   "cell_type": "markdown",
   "metadata": {
    "slideshow": {
     "slide_type": "slide"
    }
   },
   "source": [
    "Note that if you did not wanted to know the details about the motion of each mass, but only the motion of the center of mass of the masses-spring system, you could have modeled the whole system as a single particle.\n",
    "\n",
    "To solve the equations numerically, we will use the $m_1=1 kg$, $m_2 = 2 kg$, $l_0 = 0.5 m$, $k = 90 N/m$ and $x_{1_0} = 0 m$, $x_{2_0} = 0 m$, $y_{1_0} = 1 m$, $y_{2_0} = -1 m$, $v_{x1_0} = -2 m/s$, $v_{x2_0} = 0 m/s$, $v_{y1_0} = 0 m/s$, $v_{y2_0} = 0 m/s$. "
   ]
  },
  {
   "cell_type": "code",
   "execution_count": 4,
   "metadata": {
    "slideshow": {
     "slide_type": "slide"
    }
   },
   "outputs": [
    {
     "data": {
      "image/png": "[encoded data removed]",
      "text/plain": [
       "<matplotlib.figure.Figure at 0x7f51d1b16978>"
      ]
     },
     "metadata": {},
     "output_type": "display_data"
    }
   ],
   "source": [
    "x01 = 0\n",
    "y01= 0.5\n",
    "x02 = 0\n",
    "y02 = -0.5\n",
    "vx01 = 0.1\n",
    "vy01 = 0\n",
    "vx02 = -0.1\n",
    "vy02 = 0\n",
    "\n",
    "x1= x01\n",
    "y1 = y01\n",
    "x2= x02\n",
    "y2 = y02\n",
    "vx1= vx01\n",
    "vy1 = vy01\n",
    "vx2= vx02\n",
    "vy2 = vy02\n",
    "r1 = np.array([x1,y1])\n",
    "r2 = np.array([x2,y2])\n",
    "\n",
    "k = 30\n",
    "m1 = 1\n",
    "m2 = 1\n",
    "l0 = 0.5\n",
    "\n",
    "dt = 0.0001\n",
    "t = np.arange(0,5,dt)\n",
    "\n",
    "for i in t[1:]:\n",
    "    \n",
    "    dvx1dt = -k/m1*(x1-x2)*(1-l0/np.sqrt((x2-x1)**2+(y2-y1)**2))\n",
    "    dvx2dt = -k/m2*(x2-x1)*(1-l0/np.sqrt((x2-x1)**2+(y2-y1)**2))\n",
    "    dvy1dt = -k/m1*(y1-y2)*(1-l0/np.sqrt((x2-x1)**2+(y2-y1)**2))\n",
    "    dvy2dt = -k/m2*(y2-y1)*(1-l0/np.sqrt((x2-x1)**2+(y2-y1)**2))\n",
    "    \n",
    "    dx1dt = vx1\n",
    "    dx2dt = vx2\n",
    "    dy1dt = vy1\n",
    "    dy2dt = vy2\n",
    "    \n",
    "    x1 = x1 + dt*dx1dt\n",
    "    x2 = x2 + dt*dx2dt\n",
    "    y1 = y1 + dt*dy1dt\n",
    "    y2 = y2 + dt*dy2dt\n",
    "    \n",
    "    vx1 = vx1 + dt*dvx1dt\n",
    "    vx2 = vx2 + dt*dvx2dt\n",
    "    vy1 = vy1 + dt*dvy1dt\n",
    "    vy2 = vy2 + dt*dvy2dt\n",
    "    \n",
    "    r1 = np.vstack((r1,np.array([x1,y1])))\n",
    "    r2 = np.vstack((r2,np.array([x2,y2])))\n",
    "\n",
    "springLength = np.sqrt((r1[:,0]-r2[:,0])**2+(r1[:,1]-r2[:,1])**2)    \n",
    "plt.figure()\n",
    "plt.plot(t, springLength)\n",
    "plt.xlabel('t(s)')\n",
    "plt.ylabel('Spring length (m)')\n",
    "plt.show()\n"
   ]
  },
  {
   "cell_type": "markdown",
   "metadata": {
    "slideshow": {
     "slide_type": "slide"
    }
   },
   "source": [
    "### 6)Particle with gravity and linear air resistance\n",
    "\n",
    "Below is the free-body diagram of a particle with the gravity force and a linear drag force due to the air resistance. \n",
    "\n",
    "<figure><img src=\"../images/ballGravLinearRes.png\\\" width=700 />\n",
    "\n",
    "the forces being applied in the ball are:\n",
    "\n",
    "\\begin{equation}\n",
    "\\vec{\\bf{F}} = -mg \\hat{\\bf{j}} - b\\vec{\\bf{v}} = -mg \\hat{\\bf{j}} - b\\frac{d\\vec{\\bf{r}}}{dt} = -mg \\hat{\\bf{j}} - b\\left(\\frac{dx}{dt}\\hat{\\bf{i}}+\\frac{dy}{dt}\\hat{\\bf{j}}\\right) = - b\\frac{dx}{dt}\\hat{\\bf{i}} - \\left(mg + b\\frac{dy}{dt}\\right)\\hat{\\bf{j}}\n",
    "\\end{equation}\n",
    "\n",
    "Writing down the Second Newton Law:\n",
    "\n",
    "\\begin{equation}\n",
    "\\vec{\\bf{F}} = m \\frac{d^2\\vec{\\bf{r}}}{dt^2} \\rightarrow - b\\frac{dx}{dt}\\hat{\\bf{i}} - \\left(mg + b\\frac{dy}{dt}\\right)\\hat{\\bf{j}} = m\\left(\\frac{d^2x}{dt^2}\\hat{\\bf{i}}+\\frac{d^2y}{dt^2}\\hat{\\bf{j}}\\right)\n",
    "\\end{equation}\n",
    "\n",
    "Now, we can separate into one equation for each coordinate:\n",
    "\n",
    "\\begin{equation}\n",
    "- b\\frac{dx}{dt} = m\\frac{d^2x}{dt^2} -\\rightarrow \\frac{d^2x}{dt^2} = -\\frac{b}{m} \\frac{dx}{dt}\n",
    "\\end{equation}\n",
    "\n",
    "\\begin{equation}\n",
    "-mg - b\\frac{dy}{dt} = m\\frac{d^2y}{dt^2} \\rightarrow \\frac{d^2y}{dt^2} = -\\frac{b}{m}\\frac{dy}{dt} - g\n",
    "\\end{equation}\n",
    "\n",
    "\n",
    "These equations were solved  in [this notebook](https://nbviewer.jupyter.org/github/BMClab/bmc/blob/master/Notebooks/newtonLawForParticles.ipynb)."
   ]
  },
  {
   "cell_type": "markdown",
   "metadata": {
    "slideshow": {
     "slide_type": "slide"
    }
   },
   "source": [
    "### 7) Particle with gravity and nonlinear air resistance\n",
    "\n",
    "Below, is the free-body diagram of a particle with the gravity force and a drag force due to the air resistance proportional to the square of the particle velocity. \n",
    "\n",
    "\n",
    "<figure><img src=\"../images/ballGravSquareRes.png\\\" width=700 />\n",
    "\n",
    "\n",
    "The forces being applied in the ball are:\n",
    "\n",
    "\\begin{equation}\n",
    "\\vec{\\bf{F}} = -mg \\hat{\\bf{j}} - bv^2\\hat{\\bf{e_t}} = -mg \\hat{\\bf{j}} - b (v_x^2+v_y^2) \\frac{v_x\\hat{\\bf{i}}+v_y\\hat{\\bf{j}}}{\\sqrt{v_x^2+v_y^2}} =   -mg \\hat{\\bf{j}} - b \\sqrt{v_x^2+v_y^2} \\,(v_x\\hat{\\bf{i}}+v_y\\hat{\\bf{j}}) =  -mg \\hat{\\bf{j}} - b \\sqrt{\\left(\\frac{dx}{dt} \\right)^2+\\left(\\frac{dy}{dt} \\right)^2} \\,\\left(\\frac{dx}{dt} \\hat{\\bf{i}}+\\frac{dy}{dt}\\hat{\\bf{j}}\\right)\n",
    "\\end{equation}\n",
    "\n",
    "Writing down the Second Newton Law:\n",
    "\n",
    "\\begin{equation}\n",
    "\\vec{\\bf{F}} = m \\frac{d^2\\vec{\\bf{r}}}{dt^2} \\rightarrow -mg \\hat{\\bf{j}} - b \\sqrt{\\left(\\frac{dx}{dt} \\right)^2+\\left(\\frac{dy}{dt} \\right)^2} \\,\\left(\\frac{dx}{dt} \\hat{\\bf{i}}+\\frac{dy}{dt}\\hat{\\bf{j}}\\right) = m\\left(\\frac{d^2x}{dt^2}\\hat{\\bf{i}}+\\frac{d^2y}{dt^2}\\hat{\\bf{j}}\\right)\n",
    "\\end{equation}\n",
    "\n",
    "Now, we can separate into one equation for each coordinate:\n",
    "\n",
    "\\begin{equation}\n",
    "- b \\sqrt{\\left(\\frac{dx}{dt} \\right)^2+\\left(\\frac{dy}{dt} \\right)^2} \\,\\frac{dx}{dt} = m\\frac{d^2x}{dt^2} \\rightarrow \\frac{d^2x}{dt^2} = - \\frac{b}{m} \\sqrt{\\left(\\frac{dx}{dt} \\right)^2+\\left(\\frac{dy}{dt} \\right)^2} \\,\\frac{dx}{dt} \n",
    "\\end{equation}\n",
    "\n",
    "\\begin{equation}\n",
    "-mg - b \\sqrt{\\left(\\frac{dx}{dt} \\right)^2+\\left(\\frac{dy}{dt} \\right)^2} \\,\\frac{dy}{dt} = m\\frac{d^2y}{dt^2} \\rightarrow \\frac{d^2y}{dt^2} = - \\frac{b}{m} \\sqrt{\\left(\\frac{dx}{dt} \\right)^2+\\left(\\frac{dy}{dt} \\right)^2} \\,\\frac{dy}{dt} -g \n",
    "\\end{equation}\n",
    "\n",
    "These equations were solved numerically in [this notebook](https://nbviewer.jupyter.org/github/BMClab/bmc/blob/master/Notebooks/newtonLawForParticles.ipynb)."
   ]
  },
  {
   "cell_type": "markdown",
   "metadata": {
    "slideshow": {
     "slide_type": "slide"
    }
   },
   "source": [
    "## 8) Linear spring and damping on bidimensional horizontal  movement\n",
    "\n",
    "This situation is very similar to the example of horizontal movement with one spring and two masses, with a damper added in parallel to the spring.\n",
    "\n",
    "\n",
    "<figure><img src=\"../images/twomassDamp.png\\\" width=500 />\n",
    "    "
   ]
  },
  {
   "cell_type": "markdown",
   "metadata": {
    "slideshow": {
     "slide_type": "slide"
    }
   },
   "source": [
    "Now, the forces acting on each mass are the force due to the spring and the force due to the damper. \n",
    "\n",
    "<figure><img src=\"../images/twomassDampFBD.png\\\" width=200 />\n",
    "\n",
    "So, the forces acting on mass 1 is:\n",
    "\n",
    "\\begin{equation}\n",
    "    \\vec{\\bf{F_1}} = b\\frac{d(\\vec{\\bf{r_2}}-\\vec{\\bf{r_1}})}{dt} +  k\\left(||\\vec{\\bf{r_2}}-\\vec{\\bf{r_1}}||-l_0\\right)\\frac{(\\vec{\\bf{r_2}}-\\vec{\\bf{r_1}})}{||\\vec{\\bf{r_2}}-\\vec{\\bf{r_1}}||} =  b\\frac{d(\\vec{\\bf{r_2}}-\\vec{\\bf{r_1}})}{dt} +  k\\left(1-\\frac{l_0}{||\\vec{\\bf{r_2}}-\\vec{\\bf{r_1}}||}\\right)(\\vec{\\bf{r_2}}-\\vec{\\bf{r_1}})\n",
    "\\end{equation}\n",
    "\n",
    "and the forces acting on mass 2 is:\n",
    "\n",
    "\\begin{equation}\n",
    "    \\vec{\\bf{F_2}} = b\\frac{d(\\vec{\\bf{r_1}}-\\vec{\\bf{r_2}})}{dt} +  k\\left(||\\vec{\\bf{r_2}}-\\vec{\\bf{r_1}}||-l_0\\right)\\frac{(\\vec{\\bf{r_1}}-\\vec{\\bf{r_2}})}{||\\vec{\\bf{r_1}}-\\vec{\\bf{r_2}}||}= b\\frac{d(\\vec{\\bf{r_1}}-\\vec{\\bf{r_2}})}{dt} +  k\\left(1-\\frac{l_0}{||\\vec{\\bf{r_2}}-\\vec{\\bf{r_1}}||}\\right)(\\vec{\\bf{r_1}}-\\vec{\\bf{r_2}})\n",
    "\\end{equation}"
   ]
  },
  {
   "cell_type": "markdown",
   "metadata": {
    "slideshow": {
     "slide_type": "slide"
    }
   },
   "source": [
    "Applying the second Newton law for the masses:\n",
    "\n",
    "\\begin{equation}\n",
    "     m_1\\frac{d^2\\vec{\\bf{r_1}}}{dt^2} = b\\frac{d(\\vec{\\bf{r_2}}-\\vec{\\bf{r_1}})}{dt}+k\\left(1-\\frac{l_0}{||\\vec{\\bf{r_2}}-\\vec{\\bf{r_1}}||}\\right)(\\vec{\\bf{r_2}}-\\vec{\\bf{r_1}})\n",
    "    \\end{equation}\n",
    "    \n",
    "\\begin{equation}\n",
    "     \\frac{d^2\\vec{\\bf{r_1}}}{dt^2} = -\\frac{b}{m_1}\\frac{d\\vec{\\bf{r_1}}}{dt} -\\frac{k}{m_1}\\left(1-\\frac{l_0}{||\\vec{\\bf{r_2}}-\\vec{\\bf{r_1}}||}\\right)\\vec{\\bf{r_1}} + \\frac{b}{m_1}\\frac{d\\vec{\\bf{r_2}}}{dt}+\\frac{k}{m_1}\\left(1-\\frac{l_0}{||\\vec{\\bf{r_2}}-\\vec{\\bf{r_1}}||}\\right)\\vec{\\bf{r_2}}\n",
    "\\end{equation}\n",
    "\n",
    "\\begin{equation}\n",
    "     \\frac{d^2x_1\\hat{\\bf{i}}}{dt^2}+\\frac{d^2y_1\\hat{\\bf{j}}}{dt^2} = -\\frac{b}{m_1}\\left(\\frac{dx_1\\hat{\\bf{i}}}{dt}+\\frac{dy_1\\hat{\\bf{j}}}{dt}\\right)-\\frac{k}{m_1}\\left(1-\\frac{l_0}{||\\vec{\\bf{r_2}}-\\vec{\\bf{r_1}}||}\\right)(x_1\\hat{\\bf{i}}+y_1\\hat{\\bf{j}})+\\frac{b}{m_1}\\left(\\frac{dx_2\\hat{\\bf{i}}}{dt}+\\frac{dy_2\\hat{\\bf{j}}}{dt}\\right)+\\frac{k}{m_1}\\left(1-\\frac{l_0}{||\\vec{\\bf{r_2}}-\\vec{\\bf{r_1}}||}\\right)(x_2\\hat{\\bf{i}}+y_2\\hat{\\bf{j}}) = -\\frac{b}{m_1}\\left(\\frac{dx_1\\hat{\\bf{i}}}{dt}+\\frac{dy_1\\hat{\\bf{j}}}{dt}-\\frac{dx_2\\hat{\\bf{i}}}{dt}-\\frac{dy_2\\hat{\\bf{j}}}{dt}\\right)-\\frac{k}{m_1}\\left(1-\\frac{l_0}{\\sqrt{(x_2-x_1)^2+(y_2-y_1)^2}}\\right)(x_1\\hat{\\bf{i}}+y_1\\hat{\\bf{j}}-x_2\\hat{\\bf{i}}-y_2\\hat{\\bf{j}})\n",
    "\\end{equation}"
   ]
  },
  {
   "cell_type": "markdown",
   "metadata": {
    "slideshow": {
     "slide_type": "slide"
    }
   },
   "source": [
    "\\begin{equation}\n",
    "     m_2\\frac{d^2\\vec{\\bf{r_2}}}{dt^2} = b\\frac{d(\\vec{\\bf{r_1}}-\\vec{\\bf{r_2}})}{dt}+k\\left(1-\\frac{l_0}{||\\vec{\\bf{r_2}}-\\vec{\\bf{r_1}}||}\\right)(\\vec{\\bf{r_1}}-\\vec{\\bf{r_2}})\n",
    "\\end{equation}\n",
    "\n",
    "\\begin{equation}\n",
    "     \\frac{d^2\\vec{\\bf{r_2}}}{dt^2} = -\\frac{b}{m_2}\\frac{d\\vec{\\bf{r_2}}}{dt} -\\frac{k}{m_2}\\left(1-\\frac{l_0}{||\\vec{\\bf{r_2}}-\\vec{\\bf{r_1}}||}\\right)\\vec{\\bf{r_2}} + \\frac{b}{m_2}\\frac{d\\vec{\\bf{r_1}}}{dt}+\\frac{k}{m_2}\\left(1-\\frac{l_0}{||\\vec{\\bf{r_2}}-\\vec{\\bf{r_1}}||}\\right)\\vec{\\bf{r_1}}\n",
    "\\end{equation}\n",
    "\n",
    "\\begin{equation}\n",
    "    \\frac{d^2x_2\\hat{\\bf{i}}}{dt^2}+\\frac{d^2y_2\\hat{\\bf{j}}}{dt^2} = -\\frac{b}{m_2}\\left(\\frac{dx_2\\hat{\\bf{i}}}{dt}+\\frac{dy_2\\hat{\\bf{j}}}{dt}\\right)-\\frac{k}{m_2}\\left(1-\\frac{l_0}{||\\vec{\\bf{r_2}}-\\vec{\\bf{r_1}}||}\\right)(x_2\\hat{\\bf{i}}+y_2\\hat{\\bf{j}})+\\frac{b}{m_2}\\left(\\frac{dx_1\\hat{\\bf{i}}}{dt}+\\frac{dy_1\\hat{\\bf{j}}}{dt}\\right)+\\frac{k}{m_2}\\left(1-\\frac{l_0}{||\\vec{\\bf{r_2}}-\\vec{\\bf{r_1}}||}\\right)(x_1\\hat{\\bf{i}}+y_1\\hat{\\bf{j}})=-\\frac{b}{m_2}\\left(\\frac{dx_2\\hat{\\bf{i}}}{dt}+\\frac{dy_2\\hat{\\bf{j}}}{dt}-\\frac{dx_1\\hat{\\bf{i}}}{dt}-\\frac{dy_1\\hat{\\bf{j}}}{dt}\\right)-\\frac{k}{m_2}\\left(1-\\frac{l_0}{\\sqrt{(x_2-x_1)^2+(y_2-y_1)^2}}\\right)(x_2\\hat{\\bf{i}}+y_2\\hat{\\bf{j}}-x_1\\hat{\\bf{i}}-y_1\\hat{\\bf{j}})\n",
    "\\end{equation}"
   ]
  },
  {
   "cell_type": "markdown",
   "metadata": {
    "slideshow": {
     "slide_type": "slide"
    }
   },
   "source": [
    "Now, we can separate the equations for each of the coordinates:\n",
    "\n",
    "\\begin{equation}\n",
    "    \\frac{d^2x_1}{dt^2} = -\\frac{b}{m_1}\\left(\\frac{dx_1}{dt}-\\frac{dx_2}{dt}\\right)-\\frac{k}{m_1}\\left(1-\\frac{l_0}{\\sqrt{(x_2-x_1)^2+(y_2-y_1)^2}}\\right)(x_1-x_2)\n",
    "\\end{equation}\n",
    "\n",
    "\\begin{equation}\n",
    "    \\frac{d^2y_1}{dt^2} = -\\frac{b}{m_1}\\left(\\frac{dy_1}{dt}-\\frac{dy_2}{dt}\\right)-\\frac{k}{m_1}\\left(1-\\frac{l_0}{\\sqrt{(x_2-x_1)^2+(y_2-y_1)^2}}\\right)(y_1-y_2)\n",
    "\\end{equation}\n",
    "\n",
    "\\begin{equation}\n",
    "    \\frac{d^2x_2}{dt^2} = -\\frac{b}{m_2}\\left(\\frac{dx_2}{dt}-\\frac{dx_1}{dt}\\right)-\\frac{k}{m_2}\\left(1-\\frac{l_0}{\\sqrt{(x_2-x_1)^2+(y_2-y_1)^2}}\\right)(x_2-x_1)\n",
    "\\end{equation}\n",
    "\n",
    "\\begin{equation}\n",
    "    \\frac{d^2y_2}{dt^2} = -\\frac{b}{m_2}\\left(\\frac{dy_2}{dt}-\\frac{dy_1}{dt}\\right)-\\frac{k}{m_2}\\left(1-\\frac{l_0}{\\sqrt{(x_2-x_1)^2+(y_2-y_1)^2}}\\right)(y_2-y_1)\n",
    "\\end{equation}"
   ]
  },
  {
   "cell_type": "markdown",
   "metadata": {
    "slideshow": {
     "slide_type": "slide"
    }
   },
   "source": [
    "If you want to solve these equations numerically, you must break these equations into first-order  equations:\n",
    "\n",
    "\\begin{equation}\n",
    "    \\frac{dv_{x_1}}{dt} = -\\frac{b}{m_1}\\left(v_{x_1}-v_{x_2}\\right)-\\frac{k}{m_1}\\left(1-\\frac{l_0}{\\sqrt{(x_2-x_1)^2+(y_2-y_1)^2}}\\right)(x_1-x_2)\n",
    "\\end{equation}\n",
    "\n",
    "\\begin{equation}\n",
    "    \\frac{dv_{y_1}}{dt} =  -\\frac{b}{m_1}\\left(v_{y_1}-v_{y_2}\\right)-\\frac{k}{m_1}\\left(1-\\frac{l_0}{\\sqrt{(x_2-x_1)^2+(y_2-y_1)^2}}\\right)(y_1-y_2)\n",
    "\\end{equation}\n",
    "\n",
    "\\begin{equation}\n",
    "    \\frac{dv_{x_2}}{dt} = -\\frac{b}{m_2}\\left(v_{x_2}-v_{x_1}\\right)-\\frac{k}{m_2}\\left(1-\\frac{l_0}{\\sqrt{(x_2-x_1)^2+(y_2-y_1)^2}}\\right)(x_2-x_1)\n",
    "\\end{equation}\n",
    "\n",
    "\\begin{equation}\n",
    "    \\frac{dv_{y_2}}{dt} = -\\frac{b}{m_2}\\left(v_{y_2}-v_{y_1}\\right)-\\frac{k}{m_2}\\left(1-\\frac{l_0}{\\sqrt{(x_2-x_1)^2+(y_2-y_1)^2}}\\right)(y_2-y_1)\n",
    "\\end{equation}\n",
    "\n",
    "\\begin{equation}\n",
    "    \\frac{dx_1}{dt} = v_{x_1}\n",
    "\\end{equation}\n",
    "\n",
    "\\begin{equation}\n",
    "    \\frac{dy_1}{dt} = v_{y_1}\n",
    "\\end{equation}\n",
    "\n",
    "\\begin{equation}\n",
    "    \\frac{dx_2}{dt} = v_{x_2}\n",
    "\\end{equation}\n",
    "\n",
    "\\begin{equation}\n",
    "    \\frac{dy_2}{dt} = v_{y_2}\n",
    "\\end{equation}\n",
    "\n",
    "\n",
    "To solve the equations numerically, we will use the $m_1=1 kg$, $m_2 = 2 kg$, $l_0 = 0.5 m$, $k = 10 N/m$, $b = 0.6 Ns/m$ and $x_{1_0} = 0 m$, $x_{2_0} = 0 m$, $y_{1_0} = 1 m$, $y_{2_0} = -1 m$, $v_{x1_0} = -2 m/s$, $v_{x2_0} = 1 m/s$, $v_{y1_0} = 0 m/s$, $v_{y2_0} = 0 m/s$. "
   ]
  },
  {
   "cell_type": "code",
   "execution_count": 9,
   "metadata": {
    "slideshow": {
     "slide_type": "slide"
    }
   },
   "outputs": [
    {
     "data": {
      "image/png": "[encoded data removed]",
      "text/plain": [
       "<matplotlib.figure.Figure at 0x7f51c4dbc438>"
      ]
     },
     "metadata": {},
     "output_type": "display_data"
    },
    {
     "data": {
      "image/png": "[encoded data removed]",
      "text/plain": [
       "<matplotlib.figure.Figure at 0x7f51c4c51cc0>"
      ]
     },
     "metadata": {},
     "output_type": "display_data"
    }
   ],
   "source": [
    "x01 = 0\n",
    "y01= 1\n",
    "x02 = 0\n",
    "y02 = -1\n",
    "\n",
    "vx01 = -2\n",
    "vy01 = 0\n",
    "vx02 = 1\n",
    "vy02 = 0\n",
    "\n",
    "x1= x01\n",
    "y1 = y01\n",
    "x2= x02\n",
    "y2 = y02\n",
    "vx1= vx01\n",
    "vy1 = vy01\n",
    "vx2= vx02\n",
    "vy2 = vy02\n",
    "r1 = np.array([x1,y1])\n",
    "r2 = np.array([x2,y2])\n",
    "\n",
    "k = 10\n",
    "m1 = 1\n",
    "m2 = 2\n",
    "b = 0.6\n",
    "l0 = 0.5\n",
    "\n",
    "dt = 0.001\n",
    "t = np.arange(0,5,dt)\n",
    "\n",
    "for i in t[1:]:\n",
    "    dvx1dt = -b/m1*(vx1-vx2) -k/m1*(1-l0/np.sqrt((x2-x1)**2+(y2-y1)**2))*(x1-x2)\n",
    "    dvx2dt = -b/m2*(vx2-vx1) -k/m2*(1-l0/np.sqrt((x2-x1)**2+(y2-y1)**2))*(x2-x1)\n",
    "    dvy1dt = -b/m1*(vy1-vy2) -k/m1*(1-l0/np.sqrt((x2-x1)**2+(y2-y1)**2))*(y1-y2)\n",
    "    dvy2dt = -b/m2*(vy2-vy1) -k/m2*(1-l0/np.sqrt((x2-x1)**2+(y2-y1)**2))*(y2-y1)\n",
    "    dx1dt = vx1\n",
    "    dx2dt = vx2\n",
    "    dy1dt = vy1\n",
    "    dy2dt = vy2\n",
    "    x1 = x1 + dt*dx1dt\n",
    "    x2 = x2 + dt*dx2dt\n",
    "    y1 = y1 + dt*dy1dt\n",
    "    y2 = y2 + dt*dy2dt\n",
    "    vx1 = vx1 + dt*dvx1dt\n",
    "    vx2 = vx2 + dt*dvx2dt\n",
    "    vy1 = vy1 + dt*dvy1dt\n",
    "    vy2 = vy2 + dt*dvy2dt\n",
    "    r1 = np.vstack((r1,np.array([x1,y1])))\n",
    "    r2 = np.vstack((r2,np.array([x2,y2])))\n",
    "\n",
    "springDampLength = np.sqrt((r1[:,0]-r2[:,0])**2+(r1[:,1]-r2[:,1])**2)\n",
    "\n",
    "plt.figure()\n",
    "plt.plot(t, springDampLength)\n",
    "plt.xlabel('t(s)')\n",
    "plt.ylabel('Spring length (m)')\n",
    "plt.show()\n",
    "\n",
    "plt.figure()\n",
    "plt.plot(r1[:,0], r1[:,1],'r.')\n",
    "plt.plot(r2[:,0], r2[:,1],'b.')\n",
    "plt.plot((m1*r1[:,0]+m2*r2[:,0])/(m1+m2), (m1*r1[:,1]+m2*r2[:,1])/(m1+m2),'g.')\n",
    "plt.xlim(-2,2)\n",
    "plt.ylim(-2,2)\n",
    "plt.xlabel('x(m)')\n",
    "plt.ylabel('y(m)')\n",
    "plt.title('Masses position')\n",
    "plt.legend(('Mass1','Mass 2','Masses center of mass'))\n",
    "plt.show()"
   ]
  },
  {
   "cell_type": "markdown",
   "metadata": {
    "slideshow": {
     "slide_type": "slide"
    }
   },
   "source": [
    "### 9) Simple muscle model\n",
    "\n",
    "The diagram below shows a simple muscle model. The spring in the left represents the tendinous tissues and the spring in the right represents the elastic properties of the muscle fibers. The damping is present to model the viscous properties of the muscle fibers, the element CE is the contractile element (force production) and the mass $m$ is the muscle mass. \n",
    "\n",
    "The length $L_{MT}$ is the length of the muscle plus the tendon. In our model $L_{MT}$ is constant, but it could be a function of the joint angle. \n",
    "\n",
    "<figure><img src=\"../images/simpleMuscle.png\\\" width=500 />\n",
    "\n",
    "\n",
    "\n",
    "The length of the tendon will be denoted by $l_T(t)$ and the muscle length, by $l_{m}(t)$. Both lengths are related by each other  by the following expression:\n",
    "\n",
    "\\begin{equation}\n",
    "l_t(t) + l_m(t) = L_{MT}\n",
    "\\end{equation}"
   ]
  },
  {
   "cell_type": "markdown",
   "metadata": {
    "slideshow": {
     "slide_type": "slide"
    }
   },
   "source": [
    "The free-body diagram of the muscle mass is depicted below.\n",
    "\n",
    "<figure><img src=\"../images/simpleMuscleFBD.png\\\" width=200 />\n",
    "\n",
    "The resultant force being applied in the muscle mass is:\n",
    "\n",
    "$\\vec{\\bf{F}} = -k_T(||\\vec{\\bf{r_m}}||-l_{t_0})\\frac{\\vec{\\bf{r_m}}}{||\\vec{\\bf{r_m}}||} + b\\frac{d(L_{MT}\\hat{\\bf{i}} - \\vec{\\bf{r_{m}}})}{dt} + k_m (||L_{MT}\\hat{\\bf{i}} - \\vec{\\bf{r_{m}}}||-l_{m_0})\\frac{L_{MT}\\hat{\\bf{i}} - \\vec{\\bf{r_{m}}}}{||L_{MT}\\hat{\\bf{i}} - \\vec{\\bf{r_{m}}}||} +\\vec{\\bf{F}}{\\bf{_{CE}}}(t)$\n",
    "\n",
    "where $\\vec{\\bf{r_m}}$ is the muscle mass position."
   ]
  },
  {
   "cell_type": "markdown",
   "metadata": {
    "slideshow": {
     "slide_type": "slide"
    }
   },
   "source": [
    "Since the model is unidimensional, we can assume that the force $\\vec{\\bf{F}}\\bf{_{CE}}(t)$ is in the x direction, so the analysis will be done only in this direction. \n",
    "\n",
    "\n",
    "$F = -k_T(l_t-l_{t_0}) + b\\frac{d(L_{MT} - l_t)}{dt} + k_m (l_m-l_{m_0}) + F_{CE}(t) = -k_T(l_t-l_{t_0}) -b\\frac{dl_t}{dt} + k_m (L_{MT}-l_t-l_{m_0}) + F_{CE}(t) = -b\\frac{dl_t}{dt}-(k_T+k_m)l_t+F_{CE}(t)+k_Tl_{t_0}+k_m(L_{MT}-l_{m_0})$\n",
    "\n",
    "Applying the second Newton law:\n",
    "\n",
    "$m\\frac{d^2l_t}{dt^2} = -b\\frac{dl_t}{dt}-(k_T+k_m)l_t+F_{CE}(t)+k_Tl_{t_0}+k_m(L_{MT}-l_{m_0})$"
   ]
  },
  {
   "cell_type": "markdown",
   "metadata": {
    "slideshow": {
     "slide_type": "slide"
    }
   },
   "source": [
    "To solve this equation, we must break the equation into two first-order differential equations:\n",
    "\n",
    "\\begin{equation}\n",
    "\\frac{dvt}{dt} = - \\frac{b}{m}v_t - \\frac{k_T+k_m}{m}l_t +\\frac{F_{CE}(t)}{m} + \\frac{k_T}{m}l_{t_0}+\\frac{k_m}{m}(L_{MT}-l_{m_0})\n",
    "\\end{equation}\n",
    "\n",
    "\\begin{equation}\n",
    "\\frac{d l_t}{dt} = v_t\n",
    "\\end{equation}\n",
    "\n",
    "Now, we can solve these equations by using some numerical method. To obtain the solution, we will use the damping factor of the muscle as $b = 10\\,Ns/m$, the muscle mass is $m = 2 kg$, the stiffness of the tendon as $k_t=1000\\,N/m$ and the elastic element of the muscle as $k_m=1500\\,N/m$. The tendon-length is $L_{MT} = 0.35\\,m$, and the tendon equilibrium length is $l_{t0} = 0.28\\,m$ and the muscle fiber equilibrium length is $l_{m0} = 0.07\\,m$. Both the tendon and the muscle fiber are at their equilibrium lengths and at rest.\n",
    "\n",
    "Also, we will model the force of the contractile element as a Heaviside step of $90\\,N$ (90 N beginning at $t=0$), but normally it is modeled as a function of $l_m$ and $v_m$ having a neural activation signal as input. "
   ]
  },
  {
   "cell_type": "code",
   "execution_count": 10,
   "metadata": {
    "slideshow": {
     "slide_type": "slide"
    }
   },
   "outputs": [
    {
     "data": {
      "image/png": "[encoded data removed]",
      "text/plain": [
       "<matplotlib.figure.Figure at 0x7f51c4c56400>"
      ]
     },
     "metadata": {},
     "output_type": "display_data"
    },
    {
     "data": {
      "image/png": "[encoded data removed]",
      "text/plain": [
       "<matplotlib.figure.Figure at 0x7f51c5974f28>"
      ]
     },
     "metadata": {},
     "output_type": "display_data"
    }
   ],
   "source": [
    "m = 2\n",
    "b = 10\n",
    "km = 1500\n",
    "kt = 1000\n",
    "lt0 = 0.28\n",
    "lm0 = 0.07\n",
    "\n",
    "Lmt = 0.35\n",
    "vt0 = 0\n",
    "\n",
    "dt = 0.0001\n",
    "t = np.arange(0, 10, dt)\n",
    "\n",
    "Fce = 90\n",
    "\n",
    "lt = lt0\n",
    "vt = vt0\n",
    "ltp = np.array([lt0])\n",
    "lmp = np.array([lm0])\n",
    "Ft = np.array([0])\n",
    "for i in range(1,len(t)):\n",
    "    dvtdt = -b/m*vt-(kt+km)/m*lt  + Fce/m + kt/m*lt0 +km/m*(Lmt-lm0)\n",
    "    dltdt = vt\n",
    "    vt = vt + dt*dvtdt\n",
    "    lt = lt + dt*dltdt\n",
    "    Ft = np.vstack((Ft,np.array(kt*(lt-lt0))))\n",
    "    ltp = np.vstack((ltp,np.array(lt)))\n",
    "    lmp = np.vstack((lmp,np.array(Lmt - lt)))\n",
    "\n",
    "plt.figure()\n",
    "plt.plot(t,Ft)\n",
    "plt.xlabel('t(s)')\n",
    "plt.ylabel('Tendon force (N)')\n",
    "plt.show()\n",
    "plt.figure()\n",
    "plt.plot(t,ltp)\n",
    "plt.plot(t,lmp)\n",
    "plt.xlabel('t(s)')\n",
    "plt.ylabel('Length (m)')\n",
    "plt.legend(('Tendon length', 'Muscle fiber length'))\n",
    "plt.show()"
   ]
  },
  {
   "cell_type": "markdown",
   "metadata": {
    "slideshow": {
     "slide_type": "slide"
    }
   },
   "source": [
    "## Problems\n",
    "\n",
    "Solve the problems 3.3.9, 3.3.20, 10.1.6, 12.1.6(a,b,c,d,f), 12.1.7, 12.1.10 (a,b) from Ruina and Pratap book\n",
    "\n",
    "## References\n",
    "\n",
    "- Ruina A, Rudra P (2015) [Introduction to Statics and Dynamics](http://ruina.tam.cornell.edu/Book/index.html). Oxford University Press. \n",
    "- Nigg & Herzog (2006) [Biomechanics of the Musculo-skeletal System](https://books.google.com.br/books?id=hOIeAQAAIAAJ&dq=editions:ISBN0470017678). 3rd Edition. Wiley."
   ]
  },
  {
   "cell_type": "code",
   "execution_count": null,
   "metadata": {},
   "outputs": [],
   "source": []
  }
 ],
 "metadata": {
  "celltoolbar": "Slideshow",
  "kernelspec": {
   "display_name": "Python 3",
   "language": "python",
   "name": "python3"
  },
  "language_info": {
   "codemirror_mode": {
    "name": "ipython",
    "version": 3
   },
   "file_extension": ".py",
   "mimetype": "text/x-python",
   "name": "python",
   "nbconvert_exporter": "python",
   "pygments_lexer": "ipython3",
   "version": "3.6.8"
  },
  "latex_envs": {
   "LaTeX_envs_menu_present": true,
   "autoclose": false,
   "autocomplete": true,
   "bibliofile": "biblio.bib",
   "cite_by": "apalike",
   "current_citInitial": 1,
   "eqLabelWithNumbers": true,
   "eqNumInitial": 1,
   "hotkeys": {
    "equation": "Ctrl-E",
    "itemize": "Ctrl-I"
   },
   "labels_anchors": false,
   "latex_user_defs": false,
   "report_style_numbering": false,
   "user_envs_cfg": false
  },
  "nbTranslate": {
   "displayLangs": [
    "*"
   ],
   "hotkey": "alt-t",
   "langInMainMenu": true,
   "sourceLang": "en",
   "targetLang": "pt",
   "useGoogleTranslate": true
  }
 },
 "nbformat": 4,
 "nbformat_minor": 2
}
