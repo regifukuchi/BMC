{
 "cells": [
  {
   "cell_type": "markdown",
   "metadata": {
    "slideshow": {
     "slide_type": "slide"
    }
   },
   "source": [
    "# Free Body Diagram for Rigid Bodies\n",
    "\n",
    "Renato Naville Watanabe"
   ]
  },
  {
   "cell_type": "code",
   "execution_count": 2,
   "metadata": {
    "slideshow": {
     "slide_type": "skip"
    }
   },
   "outputs": [],
   "source": [
    "import numpy as np\n",
    "import matplotlib.pyplot as plt\n",
    "%matplotlib notebook"
   ]
  },
  {
   "cell_type": "markdown",
   "metadata": {
    "slideshow": {
     "slide_type": "slide"
    }
   },
   "source": [
    "## Equivalent systems\n",
    "\n",
    "\n",
    "A set of forces and moments is considered equivalent if its resultant force and sum of the moments computed relative to a given point are the same. Normally, we want to reduce all the forces and moments being applied to a body into a single force and a single moment.\n",
    "\n",
    "We have done this with particles for the resultant force. The resultant force is simply the sum of all the forces being applied to the body.\n",
    "\n",
    "\\begin{equation}\n",
    "    \\vec{\\bf{F}} = \\sum\\limits_{i=1}^n \\vec{\\bf{F_i}}\n",
    "\\end{equation}\n",
    "\n",
    "\n",
    "where $\\vec{\\bf{F_i}}$ is each force applied to the body.\n",
    "\n",
    "Similarly, the total moment applied to the body relative to a point O is:\n",
    "\n",
    "\\begin{equation}\n",
    "    \\vec{\\bf{M_O}} = \\sum\\limits_{i}\\vec{\\bf{r_{i/O}}} \\times \\vec{\\bf{F_i}}\n",
    "\\end{equation}\n",
    "\n",
    "where $\\vec{\\bf{r_{i/O}}} $ is the vector from the point O to the point where the force $\\vec{\\bf{F_i}}$ is being applied.\n",
    "\n",
    "But where the resultant force should be applied in the body? If the resultant force were applied to any point different from the point O, it would produce an additional  moment to the body relative to point O. So, the resultant force must be applied to the point O.\n",
    "\n",
    "So, any set of forces can be reduced to a moment relative to a chosen point O and a resultant force applied to the point O.  \n",
    "\n",
    "To compute the resultant force and moment relative to another point O', the new moment is:\n",
    "\n",
    "\\begin{equation}\n",
    "    \\vec{\\bf{M_{O'}}} = \\vec{\\bf{M_O}} + \\vec{\\bf{r_{O'/O}}} \\times \\vec{\\bf{F}}\n",
    "\\end{equation}\n",
    "\n",
    "And the resultant force is the same.\n",
    "\n",
    "It is worth to note that if the resultant force  $\\vec{\\bf{F}}$ is zero, than the moment is the same relative to any point.\n",
    "\n",
    "<figure><img src=\"./../images/equivalentSystem.png\" width=850/></figure>"
   ]
  },
  {
   "cell_type": "markdown",
   "metadata": {
    "slideshow": {
     "slide_type": "slide"
    }
   },
   "source": [
    "## Steps to draw a free-body diagram\n",
    "\n",
    "The steps to draw the free-body diagram of a body is very similar to the case of particles.\n",
    "\n",
    "1 - Draw separately each object considered in the problem. How you separate depends on what questions you want to answer."
   ]
  },
  {
   "cell_type": "markdown",
   "metadata": {
    "slideshow": {
     "slide_type": "slide"
    }
   },
   "source": [
    "2 - Identify the forces acting on each object. If you are analyzing more than one object, remember the third Newton law (action and reaction), and identify where the reaction of a force is being applied. Whenever a movement of translation of the body is constrained, a force at the direction of the constraint must exist."
   ]
  },
  {
   "cell_type": "markdown",
   "metadata": {
    "slideshow": {
     "slide_type": "slide"
    }
   },
   "source": [
    "3 - Identify the moments acting on each object. In the case you are analyzing more than one object, you must consider the  action and reaction law (third Newton-Euler law). Whenever a movement of rotation of the body is constrained, a moment at the direction of the constraint must exist."
   ]
  },
  {
   "cell_type": "markdown",
   "metadata": {
    "slideshow": {
     "slide_type": "slide"
    }
   },
   "source": [
    "4 - Draw all the identified forces, representing them as vectors. The vectors should be represented with the origin in the object. "
   ]
  },
  {
   "cell_type": "markdown",
   "metadata": {
    "slideshow": {
     "slide_type": "slide"
    }
   },
   "source": [
    "5 - Draw all the identified moments, representing them as vectors. In planar movements, the moments we be orthogonal to the considered plane. In these cases, normally the moment vectors are represented as curved arrows."
   ]
  },
  {
   "cell_type": "markdown",
   "metadata": {
    "slideshow": {
     "slide_type": "slide"
    }
   },
   "source": [
    "6 - If necessary, you should represent the reference frame (or references frames in case you use more than one reference frame) in the free-body diagram."
   ]
  },
  {
   "cell_type": "markdown",
   "metadata": {
    "slideshow": {
     "slide_type": "slide"
    }
   },
   "source": [
    "7 - After this, you can solve the problem using the First and Second Newton-Euler  Laws (see, e.g,  [Newton-Euler Laws](newton_euler_equations.ipynb)) to find the motion of the body.\n",
    "\n",
    "\\begin{equation}\n",
    "    \\vec{\\bf{F}} = m\\vec{\\bf{a_{cm}}} = m\\frac{d^2\\vec{\\bf{r_{cm}}}}{dt^2}\n",
    "\\end{equation}\n",
    "\n",
    "\\begin{equation}\n",
    "    \\vec{\\bf{M_O}} = I_{zz}^{cm}\\alpha + m \\vec{\\bf{r_{cm/O}}} \\times \\vec{\\bf{a_{cm}}}=I_{zz}^{cm}\\frac{d^2\\theta}{dt^2} + m \\vec{\\bf{r_{cm/O}}} \\times \\frac{d^2\\vec{\\bf{r_{cm}}}}{dt^2}\n",
    "\\end{equation}"
   ]
  },
  {
   "cell_type": "markdown",
   "metadata": {
    "slideshow": {
     "slide_type": "slide"
    }
   },
   "source": [
    "## Examples\n",
    "\n",
    "Below, we will see some examples of how to draw the free-body diagram and obtain the equation of motion."
   ]
  },
  {
   "cell_type": "markdown",
   "metadata": {
    "slideshow": {
     "slide_type": "slide"
    }
   },
   "source": [
    "## 1) Horizontal fixed bar \n",
    "\n",
    "The first example is an example of statics. The bar has no velocity and no acceleration.\n",
    "\n",
    "<figure><img src=\"../images/bar1.png\\\" width=200 />\n",
    "\n"
   ]
  },
  {
   "cell_type": "markdown",
   "metadata": {
    "slideshow": {
     "slide_type": "slide"
    }
   },
   "source": [
    "The free-body diagram of the bar is depicted below. At the point where the bar is connected to the wall, there is a force $\\vec{\\bf{F_1}}$ constraining the translation movement of the point O and a moment $\\vec{\\bf{M}}$ constraining the rotation of the bar.\n",
    "\n",
    "<figure><img src=\"../images/bar1FBD.png\\\" width=250 />"
   ]
  },
  {
   "cell_type": "markdown",
   "metadata": {
    "slideshow": {
     "slide_type": "slide"
    }
   },
   "source": [
    "The resultant force being applied to the bar is:\n",
    "\n",
    "$$\n",
    "    \\vec{\\bf{F}} = -mg\\hat{\\bf{j}} + \\vec{\\bf{F_1}}\n",
    "$$\n",
    "\n",
    "And the total moment in the z direction around the point O is:\n",
    "\n",
    "$$\n",
    "    \\vec{\\bf{M_O}} = \\vec{\\bf{r_{C/O}}}\\times-mg\\hat{\\bf{j}} + \\vec{\\bf{M}}\n",
    "$$\n",
    "\n",
    "The vector from the point O to the point C is given by $\\vec{\\bf{r_{C/O}}} =\\frac{l}{2}\\hat{\\bf{i}}$. \n",
    "\n",
    "As the bar is fixed, all the accelerations are zero. So we can find the forces and the moment at the constraint.\n",
    "\n",
    "$$\n",
    "    \\vec{\\bf{F}} = \\vec{\\bf{0}}\n",
    "$$\n",
    "$$\n",
    "-mg\\hat{\\bf{j}} + \\vec{\\bf{F_1}} = \\vec{\\bf{0}} \n",
    "$$  \n",
    "$$\n",
    "\\vec{\\bf{F_1}} = mg\\hat{\\bf{j}}\n",
    "$$\n",
    "\n",
    "$$\n",
    "    \\vec{\\bf{M_O}} = \\vec{\\bf{0}} \n",
    "$$\n",
    "$$\n",
    "\\vec{\\bf{r_{C/O}}}\\times-mg\\hat{\\bf{j}} + \\vec{\\bf{M}} = \\vec{\\bf{0}} \n",
    "$$\n",
    "$$\n",
    "\\frac{l}{2}\\hat{\\bf{i}}\\times-mg\\hat{\\bf{j}} + \\vec{\\bf{M}} = \\vec{\\bf{0}} \n",
    "$$ \n",
    "$$\n",
    "-\\frac{mgl}{2}\\hat{\\bf{k}} + \\vec{\\bf{M}} = \\vec{\\bf{0}} \n",
    "$$ \n",
    "$$\n",
    "\\vec{\\bf{M}} = \\frac{mgl}{2}\\hat{\\bf{k}} \n",
    "$$"
   ]
  },
  {
   "cell_type": "markdown",
   "metadata": {
    "slideshow": {
     "slide_type": "slide"
    }
   },
   "source": [
    "## 2) Rotating ball with drag force  \n",
    "\n",
    "\n",
    "A basketball has a mass $m = 0.63$ kg and radius equal $R = 12$ cm. A basketball player shots the ball from the free-throw line (4.6 m from the basket) with a speed of 9.5 m/s, angle of 51 degrees with the court, height of 2 m and angular velocity of 42 rad/s. At the ball is acting a drag force proportional to the modulus of the ball velocity in the opposite direction of the velocity and a drag moment, proportional and in the opposite direction of the angular velocity of the ball. Consider the moment of inertia of the ball as $I_{zz}^{cm} = \\frac{2mR^2}{3}$.\n",
    "\n",
    "Below is depicted the free-body diagram of the ball.\n",
    "\n",
    "<figure><img src=\"../images/ballRotDrag.png\\\" width=250 />"
   ]
  },
  {
   "cell_type": "markdown",
   "metadata": {
    "slideshow": {
     "slide_type": "slide"
    }
   },
   "source": [
    "The resultant force being applied at the ball is:\n",
    "\n",
    "$$\n",
    "    \\vec{\\bf{F}} = -mg\\hat{\\bf{j}} - b_l\\vec{\\bf{v}} + b_m\\omega\\hat{\\bf{k}}\\times \\vec{\\bf{v}} = -mg\\hat{\\bf{j}} - b_l\\frac{d\\vec{\\bf{r}}}{dt} \n",
    "$$\n",
    "\n",
    "$$\n",
    "    \\vec{\\bf{M_C}} = - b_r\\omega\\hat{\\bf{k}}=- b_r\\frac{d\\theta}{dt}\\hat{\\bf{k}}\n",
    "$$\n",
    "\n",
    "$$\n",
    "    \\frac{d\\vec{\\bf{H_C}}}{dt} = I_{zz}^{C}\\frac{d^2\\theta}{dt^2}\\hat{\\bf{k}}\n",
    "$$\n",
    "\n",
    "So, by the second Newton-Euler law:\n",
    "\n",
    "$$\n",
    "    \\frac{d\\vec{\\bf{H_C}}}{dt}=\\vec{\\bf{M_C}}\n",
    "$$\n",
    "$$\n",
    "    I_{zz}^{C}\\frac{d^2\\theta}{dt^2} = - b_r\\frac{d\\theta}{dt}\n",
    "$$\n",
    "and by the first Newton-Euler law (for a revision on Newton-Euler laws, [see this notebook](newton_euler_equations.ipynb)):\n",
    "\n",
    "$$\n",
    "    m\\frac{d\\vec{\\bf{r}}}{dt}=\\vec{\\bf{F}} \\rightarrow \\frac{d\\vec{\\bf{r}}}{dt} = -g\\hat{\\bf{j}} - \\frac{b_l}{m}\\frac{d\\vec{\\bf{r}}}{dt} \n",
    "$$"
   ]
  },
  {
   "cell_type": "markdown",
   "metadata": {
    "slideshow": {
     "slide_type": "slide"
    }
   },
   "source": [
    "So, we can split the differential equations above in three equations:\n",
    "\n",
    "$$\n",
    "    \\frac{d^2\\theta}{dt^2} = - \\frac{b_r}{I_{zz}^{C}}\\frac{d\\theta}{dt}\n",
    "$$\n",
    "\n",
    "$$\n",
    "    \\frac{d^2x}{dt^2} = - \\frac{b_l}{m}\\frac{dx}{dt} \n",
    "$$\n",
    "\n",
    "$$\n",
    "    \\frac{d^2y}{dt^2} = -g - \\frac{b_l}{m}\\frac{dy}{dt} \n",
    "$$"
   ]
  },
  {
   "cell_type": "markdown",
   "metadata": {
    "slideshow": {
     "slide_type": "slide"
    }
   },
   "source": [
    "To solve these equations numerically, we can split each of these equations in first-order equations and the use a numerical method to integrate them. The first-order equations we be written in a matrix form, considering the moment of inertia of the ball as $I_{zz}^{C}=\\frac{2mR^2}{3}$:\n",
    "\n",
    "$$\n",
    "    \\left[\\begin{array}{c}\\frac{d\\omega}{dt}\\\\\\frac{dv_x}{dt}\\\\\\frac{dv_y}{dt}\\\\\\frac{d\\theta}{dt}\\\\\\frac{dx}{dt}\\\\\\frac{dy}{dt} \\end{array}\\right] = \\left[\\begin{array}{c}- \\frac{3b_r}{2mR^2}\\omega\\\\- \\frac{b_l}{m}v_x\\\\-g - \\frac{b_l}{m}v_y\\\\\\omega\\\\v_x\\\\v_y\\end{array}\\right] \n",
    "$$\n",
    "\n",
    "Below, the equations were solved numerically by using the Euler method (for a revision on numerical methods to solve ordinary differential equations, [see this notebook](OrdinaryDifferentialEquation.ipynb))."
   ]
  },
  {
   "cell_type": "code",
   "execution_count": 3,
   "metadata": {
    "slideshow": {
     "slide_type": "slide"
    }
   },
   "outputs": [
    {
     "data": {
      "application/javascript": [
       "/* Put everything inside the global mpl namespace */\n",
       "window.mpl = {};\n",
       "\n",
       "\n",
       "mpl.get_websocket_type = function() {\n",
       "    if (typeof(WebSocket) !== 'undefined') {\n",
       "        return WebSocket;\n",
       "    } else if (typeof(MozWebSocket) !== 'undefined') {\n",
       "        return MozWebSocket;\n",
       "    } else {\n",
       "        alert('Your browser does not have WebSocket support.' +\n",
       "              'Please try Chrome, Safari or Firefox ≥ 6. ' +\n",
       "              'Firefox 4 and 5 are also supported but you ' +\n",
       "              'have to enable WebSockets in about:config.');\n",
       "    };\n",
       "}\n",
       "\n",
       "mpl.figure = function(figure_id, websocket, ondownload, parent_element) {\n",
       "    this.id = figure_id;\n",
       "\n",
       "    this.ws = websocket;\n",
       "\n",
       "    this.supports_binary = (this.ws.binaryType != undefined);\n",
       "\n",
       "    if (!this.supports_binary) {\n",
       "        var warnings = document.getElementById(\"mpl-warnings\");\n",
       "        if (warnings) {\n",
       "            warnings.style.display = 'block';\n",
       "            warnings.textContent = (\n",
       "                \"This browser does not support binary websocket messages. \" +\n",
       "                    \"Performance may be slow.\");\n",
       "        }\n",
       "    }\n",
       "\n",
       "    this.imageObj = new Image();\n",
       "\n",
       "    this.context = undefined;\n",
       "    this.message = undefined;\n",
       "    this.canvas = undefined;\n",
       "    this.rubberband_canvas = undefined;\n",
       "    this.rubberband_context = undefined;\n",
       "    this.format_dropdown = undefined;\n",
       "\n",
       "    this.image_mode = 'full';\n",
       "\n",
       "    this.root = $('<div/>');\n",
       "    this._root_extra_style(this.root)\n",
       "    this.root.attr('style', 'display: inline-block');\n",
       "\n",
       "    $(parent_element).append(this.root);\n",
       "\n",
       "    this._init_header(this);\n",
       "    this._init_canvas(this);\n",
       "    this._init_toolbar(this);\n",
       "\n",
       "    var fig = this;\n",
       "\n",
       "    this.waiting = false;\n",
       "\n",
       "    this.ws.onopen =  function () {\n",
       "            fig.send_message(\"supports_binary\", {value: fig.supports_binary});\n",
       "            fig.send_message(\"send_image_mode\", {});\n",
       "            if (mpl.ratio != 1) {\n",
       "                fig.send_message(\"set_dpi_ratio\", {'dpi_ratio': mpl.ratio});\n",
       "            }\n",
       "            fig.send_message(\"refresh\", {});\n",
       "        }\n",
       "\n",
       "    this.imageObj.onload = function() {\n",
       "            if (fig.image_mode == 'full') {\n",
       "                // Full images could contain transparency (where diff images\n",
       "                // almost always do), so we need to clear the canvas so that\n",
       "                // there is no ghosting.\n",
       "                fig.context.clearRect(0, 0, fig.canvas.width, fig.canvas.height);\n",
       "            }\n",
       "            fig.context.drawImage(fig.imageObj, 0, 0);\n",
       "        };\n",
       "\n",
       "    this.imageObj.onunload = function() {\n",
       "        this.ws.close();\n",
       "    }\n",
       "\n",
       "    this.ws.onmessage = this._make_on_message_function(this);\n",
       "\n",
       "    this.ondownload = ondownload;\n",
       "}\n",
       "\n",
       "mpl.figure.prototype._init_header = function() {\n",
       "    var titlebar = $(\n",
       "        '<div class=\"ui-dialog-titlebar ui-widget-header ui-corner-all ' +\n",
       "        'ui-helper-clearfix\"/>');\n",
       "    var titletext = $(\n",
       "        '<div class=\"ui-dialog-title\" style=\"width: 100%; ' +\n",
       "        'text-align: center; padding: 3px;\"/>');\n",
       "    titlebar.append(titletext)\n",
       "    this.root.append(titlebar);\n",
       "    this.header = titletext[0];\n",
       "}\n",
       "\n",
       "\n",
       "\n",
       "mpl.figure.prototype._canvas_extra_style = function(canvas_div) {\n",
       "\n",
       "}\n",
       "\n",
       "\n",
       "mpl.figure.prototype._root_extra_style = function(canvas_div) {\n",
       "\n",
       "}\n",
       "\n",
       "mpl.figure.prototype._init_canvas = function() {\n",
       "    var fig = this;\n",
       "\n",
       "    var canvas_div = $('<div/>');\n",
       "\n",
       "    canvas_div.attr('style', 'position: relative; clear: both; outline: 0');\n",
       "\n",
       "    function canvas_keyboard_event(event) {\n",
       "        return fig.key_event(event, event['data']);\n",
       "    }\n",
       "\n",
       "    canvas_div.keydown('key_press', canvas_keyboard_event);\n",
       "    canvas_div.keyup('key_release', canvas_keyboard_event);\n",
       "    this.canvas_div = canvas_div\n",
       "    this._canvas_extra_style(canvas_div)\n",
       "    this.root.append(canvas_div);\n",
       "\n",
       "    var canvas = $('<canvas/>');\n",
       "    canvas.addClass('mpl-canvas');\n",
       "    canvas.attr('style', \"left: 0; top: 0; z-index: 0; outline: 0\")\n",
       "\n",
       "    this.canvas = canvas[0];\n",
       "    this.context = canvas[0].getContext(\"2d\");\n",
       "\n",
       "    var backingStore = this.context.backingStorePixelRatio ||\n",
       "\tthis.context.webkitBackingStorePixelRatio ||\n",
       "\tthis.context.mozBackingStorePixelRatio ||\n",
       "\tthis.context.msBackingStorePixelRatio ||\n",
       "\tthis.context.oBackingStorePixelRatio ||\n",
       "\tthis.context.backingStorePixelRatio || 1;\n",
       "\n",
       "    mpl.ratio = (window.devicePixelRatio || 1) / backingStore;\n",
       "\n",
       "    var rubberband = $('<canvas/>');\n",
       "    rubberband.attr('style', \"position: absolute; left: 0; top: 0; z-index: 1;\")\n",
       "\n",
       "    var pass_mouse_events = true;\n",
       "\n",
       "    canvas_div.resizable({\n",
       "        start: function(event, ui) {\n",
       "            pass_mouse_events = false;\n",
       "        },\n",
       "        resize: function(event, ui) {\n",
       "            fig.request_resize(ui.size.width, ui.size.height);\n",
       "        },\n",
       "        stop: function(event, ui) {\n",
       "            pass_mouse_events = true;\n",
       "            fig.request_resize(ui.size.width, ui.size.height);\n",
       "        },\n",
       "    });\n",
       "\n",
       "    function mouse_event_fn(event) {\n",
       "        if (pass_mouse_events)\n",
       "            return fig.mouse_event(event, event['data']);\n",
       "    }\n",
       "\n",
       "    rubberband.mousedown('button_press', mouse_event_fn);\n",
       "    rubberband.mouseup('button_release', mouse_event_fn);\n",
       "    // Throttle sequential mouse events to 1 every 20ms.\n",
       "    rubberband.mousemove('motion_notify', mouse_event_fn);\n",
       "\n",
       "    rubberband.mouseenter('figure_enter', mouse_event_fn);\n",
       "    rubberband.mouseleave('figure_leave', mouse_event_fn);\n",
       "\n",
       "    canvas_div.on(\"wheel\", function (event) {\n",
       "        event = event.originalEvent;\n",
       "        event['data'] = 'scroll'\n",
       "        if (event.deltaY < 0) {\n",
       "            event.step = 1;\n",
       "        } else {\n",
       "            event.step = -1;\n",
       "        }\n",
       "        mouse_event_fn(event);\n",
       "    });\n",
       "\n",
       "    canvas_div.append(canvas);\n",
       "    canvas_div.append(rubberband);\n",
       "\n",
       "    this.rubberband = rubberband;\n",
       "    this.rubberband_canvas = rubberband[0];\n",
       "    this.rubberband_context = rubberband[0].getContext(\"2d\");\n",
       "    this.rubberband_context.strokeStyle = \"#000000\";\n",
       "\n",
       "    this._resize_canvas = function(width, height) {\n",
       "        // Keep the size of the canvas, canvas container, and rubber band\n",
       "        // canvas in synch.\n",
       "        canvas_div.css('width', width)\n",
       "        canvas_div.css('height', height)\n",
       "\n",
       "        canvas.attr('width', width * mpl.ratio);\n",
       "        canvas.attr('height', height * mpl.ratio);\n",
       "        canvas.attr('style', 'width: ' + width + 'px; height: ' + height + 'px;');\n",
       "\n",
       "        rubberband.attr('width', width);\n",
       "        rubberband.attr('height', height);\n",
       "    }\n",
       "\n",
       "    // Set the figure to an initial 600x600px, this will subsequently be updated\n",
       "    // upon first draw.\n",
       "    this._resize_canvas(600, 600);\n",
       "\n",
       "    // Disable right mouse context menu.\n",
       "    $(this.rubberband_canvas).bind(\"contextmenu\",function(e){\n",
       "        return false;\n",
       "    });\n",
       "\n",
       "    function set_focus () {\n",
       "        canvas.focus();\n",
       "        canvas_div.focus();\n",
       "    }\n",
       "\n",
       "    window.setTimeout(set_focus, 100);\n",
       "}\n",
       "\n",
       "mpl.figure.prototype._init_toolbar = function() {\n",
       "    var fig = this;\n",
       "\n",
       "    var nav_element = $('<div/>')\n",
       "    nav_element.attr('style', 'width: 100%');\n",
       "    this.root.append(nav_element);\n",
       "\n",
       "    // Define a callback function for later on.\n",
       "    function toolbar_event(event) {\n",
       "        return fig.toolbar_button_onclick(event['data']);\n",
       "    }\n",
       "    function toolbar_mouse_event(event) {\n",
       "        return fig.toolbar_button_onmouseover(event['data']);\n",
       "    }\n",
       "\n",
       "    for(var toolbar_ind in mpl.toolbar_items) {\n",
       "        var name = mpl.toolbar_items[toolbar_ind][0];\n",
       "        var tooltip = mpl.toolbar_items[toolbar_ind][1];\n",
       "        var image = mpl.toolbar_items[toolbar_ind][2];\n",
       "        var method_name = mpl.toolbar_items[toolbar_ind][3];\n",
       "\n",
       "        if (!name) {\n",
       "            // put a spacer in here.\n",
       "            continue;\n",
       "        }\n",
       "        var button = $('<button/>');\n",
       "        button.addClass('ui-button ui-widget ui-state-default ui-corner-all ' +\n",
       "                        'ui-button-icon-only');\n",
       "        button.attr('role', 'button');\n",
       "        button.attr('aria-disabled', 'false');\n",
       "        button.click(method_name, toolbar_event);\n",
       "        button.mouseover(tooltip, toolbar_mouse_event);\n",
       "\n",
       "        var icon_img = $('<span/>');\n",
       "        icon_img.addClass('ui-button-icon-primary ui-icon');\n",
       "        icon_img.addClass(image);\n",
       "        icon_img.addClass('ui-corner-all');\n",
       "\n",
       "        var tooltip_span = $('<span/>');\n",
       "        tooltip_span.addClass('ui-button-text');\n",
       "        tooltip_span.html(tooltip);\n",
       "\n",
       "        button.append(icon_img);\n",
       "        button.append(tooltip_span);\n",
       "\n",
       "        nav_element.append(button);\n",
       "    }\n",
       "\n",
       "    var fmt_picker_span = $('<span/>');\n",
       "\n",
       "    var fmt_picker = $('<select/>');\n",
       "    fmt_picker.addClass('mpl-toolbar-option ui-widget ui-widget-content');\n",
       "    fmt_picker_span.append(fmt_picker);\n",
       "    nav_element.append(fmt_picker_span);\n",
       "    this.format_dropdown = fmt_picker[0];\n",
       "\n",
       "    for (var ind in mpl.extensions) {\n",
       "        var fmt = mpl.extensions[ind];\n",
       "        var option = $(\n",
       "            '<option/>', {selected: fmt === mpl.default_extension}).html(fmt);\n",
       "        fmt_picker.append(option)\n",
       "    }\n",
       "\n",
       "    // Add hover states to the ui-buttons\n",
       "    $( \".ui-button\" ).hover(\n",
       "        function() { $(this).addClass(\"ui-state-hover\");},\n",
       "        function() { $(this).removeClass(\"ui-state-hover\");}\n",
       "    );\n",
       "\n",
       "    var status_bar = $('<span class=\"mpl-message\"/>');\n",
       "    nav_element.append(status_bar);\n",
       "    this.message = status_bar[0];\n",
       "}\n",
       "\n",
       "mpl.figure.prototype.request_resize = function(x_pixels, y_pixels) {\n",
       "    // Request matplotlib to resize the figure. Matplotlib will then trigger a resize in the client,\n",
       "    // which will in turn request a refresh of the image.\n",
       "    this.send_message('resize', {'width': x_pixels, 'height': y_pixels});\n",
       "}\n",
       "\n",
       "mpl.figure.prototype.send_message = function(type, properties) {\n",
       "    properties['type'] = type;\n",
       "    properties['figure_id'] = this.id;\n",
       "    this.ws.send(JSON.stringify(properties));\n",
       "}\n",
       "\n",
       "mpl.figure.prototype.send_draw_message = function() {\n",
       "    if (!this.waiting) {\n",
       "        this.waiting = true;\n",
       "        this.ws.send(JSON.stringify({type: \"draw\", figure_id: this.id}));\n",
       "    }\n",
       "}\n",
       "\n",
       "\n",
       "mpl.figure.prototype.handle_save = function(fig, msg) {\n",
       "    var format_dropdown = fig.format_dropdown;\n",
       "    var format = format_dropdown.options[format_dropdown.selectedIndex].value;\n",
       "    fig.ondownload(fig, format);\n",
       "}\n",
       "\n",
       "\n",
       "mpl.figure.prototype.handle_resize = function(fig, msg) {\n",
       "    var size = msg['size'];\n",
       "    if (size[0] != fig.canvas.width || size[1] != fig.canvas.height) {\n",
       "        fig._resize_canvas(size[0], size[1]);\n",
       "        fig.send_message(\"refresh\", {});\n",
       "    };\n",
       "}\n",
       "\n",
       "mpl.figure.prototype.handle_rubberband = function(fig, msg) {\n",
       "    var x0 = msg['x0'] / mpl.ratio;\n",
       "    var y0 = (fig.canvas.height - msg['y0']) / mpl.ratio;\n",
       "    var x1 = msg['x1'] / mpl.ratio;\n",
       "    var y1 = (fig.canvas.height - msg['y1']) / mpl.ratio;\n",
       "    x0 = Math.floor(x0) + 0.5;\n",
       "    y0 = Math.floor(y0) + 0.5;\n",
       "    x1 = Math.floor(x1) + 0.5;\n",
       "    y1 = Math.floor(y1) + 0.5;\n",
       "    var min_x = Math.min(x0, x1);\n",
       "    var min_y = Math.min(y0, y1);\n",
       "    var width = Math.abs(x1 - x0);\n",
       "    var height = Math.abs(y1 - y0);\n",
       "\n",
       "    fig.rubberband_context.clearRect(\n",
       "        0, 0, fig.canvas.width, fig.canvas.height);\n",
       "\n",
       "    fig.rubberband_context.strokeRect(min_x, min_y, width, height);\n",
       "}\n",
       "\n",
       "mpl.figure.prototype.handle_figure_label = function(fig, msg) {\n",
       "    // Updates the figure title.\n",
       "    fig.header.textContent = msg['label'];\n",
       "}\n",
       "\n",
       "mpl.figure.prototype.handle_cursor = function(fig, msg) {\n",
       "    var cursor = msg['cursor'];\n",
       "    switch(cursor)\n",
       "    {\n",
       "    case 0:\n",
       "        cursor = 'pointer';\n",
       "        break;\n",
       "    case 1:\n",
       "        cursor = 'default';\n",
       "        break;\n",
       "    case 2:\n",
       "        cursor = 'crosshair';\n",
       "        break;\n",
       "    case 3:\n",
       "        cursor = 'move';\n",
       "        break;\n",
       "    }\n",
       "    fig.rubberband_canvas.style.cursor = cursor;\n",
       "}\n",
       "\n",
       "mpl.figure.prototype.handle_message = function(fig, msg) {\n",
       "    fig.message.textContent = msg['message'];\n",
       "}\n",
       "\n",
       "mpl.figure.prototype.handle_draw = function(fig, msg) {\n",
       "    // Request the server to send over a new figure.\n",
       "    fig.send_draw_message();\n",
       "}\n",
       "\n",
       "mpl.figure.prototype.handle_image_mode = function(fig, msg) {\n",
       "    fig.image_mode = msg['mode'];\n",
       "}\n",
       "\n",
       "mpl.figure.prototype.updated_canvas_event = function() {\n",
       "    // Called whenever the canvas gets updated.\n",
       "    this.send_message(\"ack\", {});\n",
       "}\n",
       "\n",
       "// A function to construct a web socket function for onmessage handling.\n",
       "// Called in the figure constructor.\n",
       "mpl.figure.prototype._make_on_message_function = function(fig) {\n",
       "    return function socket_on_message(evt) {\n",
       "        if (evt.data instanceof Blob) {\n",
       "            /* FIXME: We get \"Resource interpreted as Image but\n",
       "             * transferred with MIME type text/plain:\" errors on\n",
       "             * Chrome.  But how to set the MIME type?  It doesn't seem\n",
       "             * to be part of the websocket stream */\n",
       "            evt.data.type = \"image/png\";\n",
       "\n",
       "            /* Free the memory for the previous frames */\n",
       "            if (fig.imageObj.src) {\n",
       "                (window.URL || window.webkitURL).revokeObjectURL(\n",
       "                    fig.imageObj.src);\n",
       "            }\n",
       "\n",
       "            fig.imageObj.src = (window.URL || window.webkitURL).createObjectURL(\n",
       "                evt.data);\n",
       "            fig.updated_canvas_event();\n",
       "            fig.waiting = false;\n",
       "            return;\n",
       "        }\n",
       "        else if (typeof evt.data === 'string' && evt.data.slice(0, 21) == \"data:image/png;base64\") {\n",
       "            fig.imageObj.src = evt.data;\n",
       "            fig.updated_canvas_event();\n",
       "            fig.waiting = false;\n",
       "            return;\n",
       "        }\n",
       "\n",
       "        var msg = JSON.parse(evt.data);\n",
       "        var msg_type = msg['type'];\n",
       "\n",
       "        // Call the  \"handle_{type}\" callback, which takes\n",
       "        // the figure and JSON message as its only arguments.\n",
       "        try {\n",
       "            var callback = fig[\"handle_\" + msg_type];\n",
       "        } catch (e) {\n",
       "            console.log(\"No handler for the '\" + msg_type + \"' message type: \", msg);\n",
       "            return;\n",
       "        }\n",
       "\n",
       "        if (callback) {\n",
       "            try {\n",
       "                // console.log(\"Handling '\" + msg_type + \"' message: \", msg);\n",
       "                callback(fig, msg);\n",
       "            } catch (e) {\n",
       "                console.log(\"Exception inside the 'handler_\" + msg_type + \"' callback:\", e, e.stack, msg);\n",
       "            }\n",
       "        }\n",
       "    };\n",
       "}\n",
       "\n",
       "// from http://stackoverflow.com/questions/1114465/getting-mouse-location-in-canvas\n",
       "mpl.findpos = function(e) {\n",
       "    //this section is from http://www.quirksmode.org/js/events_properties.html\n",
       "    var targ;\n",
       "    if (!e)\n",
       "        e = window.event;\n",
       "    if (e.target)\n",
       "        targ = e.target;\n",
       "    else if (e.srcElement)\n",
       "        targ = e.srcElement;\n",
       "    if (targ.nodeType == 3) // defeat Safari bug\n",
       "        targ = targ.parentNode;\n",
       "\n",
       "    // jQuery normalizes the pageX and pageY\n",
       "    // pageX,Y are the mouse positions relative to the document\n",
       "    // offset() returns the position of the element relative to the document\n",
       "    var x = e.pageX - $(targ).offset().left;\n",
       "    var y = e.pageY - $(targ).offset().top;\n",
       "\n",
       "    return {\"x\": x, \"y\": y};\n",
       "};\n",
       "\n",
       "/*\n",
       " * return a copy of an object with only non-object keys\n",
       " * we need this to avoid circular references\n",
       " * http://stackoverflow.com/a/24161582/3208463\n",
       " */\n",
       "function simpleKeys (original) {\n",
       "  return Object.keys(original).reduce(function (obj, key) {\n",
       "    if (typeof original[key] !== 'object')\n",
       "        obj[key] = original[key]\n",
       "    return obj;\n",
       "  }, {});\n",
       "}\n",
       "\n",
       "mpl.figure.prototype.mouse_event = function(event, name) {\n",
       "    var canvas_pos = mpl.findpos(event)\n",
       "\n",
       "    if (name === 'button_press')\n",
       "    {\n",
       "        this.canvas.focus();\n",
       "        this.canvas_div.focus();\n",
       "    }\n",
       "\n",
       "    var x = canvas_pos.x * mpl.ratio;\n",
       "    var y = canvas_pos.y * mpl.ratio;\n",
       "\n",
       "    this.send_message(name, {x: x, y: y, button: event.button,\n",
       "                             step: event.step,\n",
       "                             guiEvent: simpleKeys(event)});\n",
       "\n",
       "    /* This prevents the web browser from automatically changing to\n",
       "     * the text insertion cursor when the button is pressed.  We want\n",
       "     * to control all of the cursor setting manually through the\n",
       "     * 'cursor' event from matplotlib */\n",
       "    event.preventDefault();\n",
       "    return false;\n",
       "}\n",
       "\n",
       "mpl.figure.prototype._key_event_extra = function(event, name) {\n",
       "    // Handle any extra behaviour associated with a key event\n",
       "}\n",
       "\n",
       "mpl.figure.prototype.key_event = function(event, name) {\n",
       "\n",
       "    // Prevent repeat events\n",
       "    if (name == 'key_press')\n",
       "    {\n",
       "        if (event.which === this._key)\n",
       "            return;\n",
       "        else\n",
       "            this._key = event.which;\n",
       "    }\n",
       "    if (name == 'key_release')\n",
       "        this._key = null;\n",
       "\n",
       "    var value = '';\n",
       "    if (event.ctrlKey && event.which != 17)\n",
       "        value += \"ctrl+\";\n",
       "    if (event.altKey && event.which != 18)\n",
       "        value += \"alt+\";\n",
       "    if (event.shiftKey && event.which != 16)\n",
       "        value += \"shift+\";\n",
       "\n",
       "    value += 'k';\n",
       "    value += event.which.toString();\n",
       "\n",
       "    this._key_event_extra(event, name);\n",
       "\n",
       "    this.send_message(name, {key: value,\n",
       "                             guiEvent: simpleKeys(event)});\n",
       "    return false;\n",
       "}\n",
       "\n",
       "mpl.figure.prototype.toolbar_button_onclick = function(name) {\n",
       "    if (name == 'download') {\n",
       "        this.handle_save(this, null);\n",
       "    } else {\n",
       "        this.send_message(\"toolbar_button\", {name: name});\n",
       "    }\n",
       "};\n",
       "\n",
       "mpl.figure.prototype.toolbar_button_onmouseover = function(tooltip) {\n",
       "    this.message.textContent = tooltip;\n",
       "};\n",
       "mpl.toolbar_items = [[\"Home\", \"Reset original view\", \"fa fa-home icon-home\", \"home\"], [\"Back\", \"Back to  previous view\", \"fa fa-arrow-left icon-arrow-left\", \"back\"], [\"Forward\", \"Forward to next view\", \"fa fa-arrow-right icon-arrow-right\", \"forward\"], [\"\", \"\", \"\", \"\"], [\"Pan\", \"Pan axes with left mouse, zoom with right\", \"fa fa-arrows icon-move\", \"pan\"], [\"Zoom\", \"Zoom to rectangle\", \"fa fa-square-o icon-check-empty\", \"zoom\"], [\"\", \"\", \"\", \"\"], [\"Download\", \"Download plot\", \"fa fa-floppy-o icon-save\", \"download\"]];\n",
       "\n",
       "mpl.extensions = [\"eps\", \"jpeg\", \"pdf\", \"png\", \"ps\", \"raw\", \"svg\", \"tif\"];\n",
       "\n",
       "mpl.default_extension = \"png\";var comm_websocket_adapter = function(comm) {\n",
       "    // Create a \"websocket\"-like object which calls the given IPython comm\n",
       "    // object with the appropriate methods. Currently this is a non binary\n",
       "    // socket, so there is still some room for performance tuning.\n",
       "    var ws = {};\n",
       "\n",
       "    ws.close = function() {\n",
       "        comm.close()\n",
       "    };\n",
       "    ws.send = function(m) {\n",
       "        //console.log('sending', m);\n",
       "        comm.send(m);\n",
       "    };\n",
       "    // Register the callback with on_msg.\n",
       "    comm.on_msg(function(msg) {\n",
       "        //console.log('receiving', msg['content']['data'], msg);\n",
       "        // Pass the mpl event to the overriden (by mpl) onmessage function.\n",
       "        ws.onmessage(msg['content']['data'])\n",
       "    });\n",
       "    return ws;\n",
       "}\n",
       "\n",
       "mpl.mpl_figure_comm = function(comm, msg) {\n",
       "    // This is the function which gets called when the mpl process\n",
       "    // starts-up an IPython Comm through the \"matplotlib\" channel.\n",
       "\n",
       "    var id = msg.content.data.id;\n",
       "    // Get hold of the div created by the display call when the Comm\n",
       "    // socket was opened in Python.\n",
       "    var element = $(\"#\" + id);\n",
       "    var ws_proxy = comm_websocket_adapter(comm)\n",
       "\n",
       "    function ondownload(figure, format) {\n",
       "        window.open(figure.imageObj.src);\n",
       "    }\n",
       "\n",
       "    var fig = new mpl.figure(id, ws_proxy,\n",
       "                           ondownload,\n",
       "                           element.get(0));\n",
       "\n",
       "    // Call onopen now - mpl needs it, as it is assuming we've passed it a real\n",
       "    // web socket which is closed, not our websocket->open comm proxy.\n",
       "    ws_proxy.onopen();\n",
       "\n",
       "    fig.parent_element = element.get(0);\n",
       "    fig.cell_info = mpl.find_output_cell(\"<div id='\" + id + \"'></div>\");\n",
       "    if (!fig.cell_info) {\n",
       "        console.error(\"Failed to find cell for figure\", id, fig);\n",
       "        return;\n",
       "    }\n",
       "\n",
       "    var output_index = fig.cell_info[2]\n",
       "    var cell = fig.cell_info[0];\n",
       "\n",
       "};\n",
       "\n",
       "mpl.figure.prototype.handle_close = function(fig, msg) {\n",
       "    var width = fig.canvas.width/mpl.ratio\n",
       "    fig.root.unbind('remove')\n",
       "\n",
       "    // Update the output cell to use the data from the current canvas.\n",
       "    fig.push_to_output();\n",
       "    var dataURL = fig.canvas.toDataURL();\n",
       "    // Re-enable the keyboard manager in IPython - without this line, in FF,\n",
       "    // the notebook keyboard shortcuts fail.\n",
       "    IPython.keyboard_manager.enable()\n",
       "    $(fig.parent_element).html('<img src=\"' + dataURL + '\" width=\"' + width + '\">');\n",
       "    fig.close_ws(fig, msg);\n",
       "}\n",
       "\n",
       "mpl.figure.prototype.close_ws = function(fig, msg){\n",
       "    fig.send_message('closing', msg);\n",
       "    // fig.ws.close()\n",
       "}\n",
       "\n",
       "mpl.figure.prototype.push_to_output = function(remove_interactive) {\n",
       "    // Turn the data on the canvas into data in the output cell.\n",
       "    var width = this.canvas.width/mpl.ratio\n",
       "    var dataURL = this.canvas.toDataURL();\n",
       "    this.cell_info[1]['text/html'] = '<img src=\"' + dataURL + '\" width=\"' + width + '\">';\n",
       "}\n",
       "\n",
       "mpl.figure.prototype.updated_canvas_event = function() {\n",
       "    // Tell IPython that the notebook contents must change.\n",
       "    IPython.notebook.set_dirty(true);\n",
       "    this.send_message(\"ack\", {});\n",
       "    var fig = this;\n",
       "    // Wait a second, then push the new image to the DOM so\n",
       "    // that it is saved nicely (might be nice to debounce this).\n",
       "    setTimeout(function () { fig.push_to_output() }, 1000);\n",
       "}\n",
       "\n",
       "mpl.figure.prototype._init_toolbar = function() {\n",
       "    var fig = this;\n",
       "\n",
       "    var nav_element = $('<div/>')\n",
       "    nav_element.attr('style', 'width: 100%');\n",
       "    this.root.append(nav_element);\n",
       "\n",
       "    // Define a callback function for later on.\n",
       "    function toolbar_event(event) {\n",
       "        return fig.toolbar_button_onclick(event['data']);\n",
       "    }\n",
       "    function toolbar_mouse_event(event) {\n",
       "        return fig.toolbar_button_onmouseover(event['data']);\n",
       "    }\n",
       "\n",
       "    for(var toolbar_ind in mpl.toolbar_items){\n",
       "        var name = mpl.toolbar_items[toolbar_ind][0];\n",
       "        var tooltip = mpl.toolbar_items[toolbar_ind][1];\n",
       "        var image = mpl.toolbar_items[toolbar_ind][2];\n",
       "        var method_name = mpl.toolbar_items[toolbar_ind][3];\n",
       "\n",
       "        if (!name) { continue; };\n",
       "\n",
       "        var button = $('<button class=\"btn btn-default\" href=\"#\" title=\"' + name + '\"><i class=\"fa ' + image + ' fa-lg\"></i></button>');\n",
       "        button.click(method_name, toolbar_event);\n",
       "        button.mouseover(tooltip, toolbar_mouse_event);\n",
       "        nav_element.append(button);\n",
       "    }\n",
       "\n",
       "    // Add the status bar.\n",
       "    var status_bar = $('<span class=\"mpl-message\" style=\"text-align:right; float: right;\"/>');\n",
       "    nav_element.append(status_bar);\n",
       "    this.message = status_bar[0];\n",
       "\n",
       "    // Add the close button to the window.\n",
       "    var buttongrp = $('<div class=\"btn-group inline pull-right\"></div>');\n",
       "    var button = $('<button class=\"btn btn-mini btn-primary\" href=\"#\" title=\"Stop Interaction\"><i class=\"fa fa-power-off icon-remove icon-large\"></i></button>');\n",
       "    button.click(function (evt) { fig.handle_close(fig, {}); } );\n",
       "    button.mouseover('Stop Interaction', toolbar_mouse_event);\n",
       "    buttongrp.append(button);\n",
       "    var titlebar = this.root.find($('.ui-dialog-titlebar'));\n",
       "    titlebar.prepend(buttongrp);\n",
       "}\n",
       "\n",
       "mpl.figure.prototype._root_extra_style = function(el){\n",
       "    var fig = this\n",
       "    el.on(\"remove\", function(){\n",
       "\tfig.close_ws(fig, {});\n",
       "    });\n",
       "}\n",
       "\n",
       "mpl.figure.prototype._canvas_extra_style = function(el){\n",
       "    // this is important to make the div 'focusable\n",
       "    el.attr('tabindex', 0)\n",
       "    // reach out to IPython and tell the keyboard manager to turn it's self\n",
       "    // off when our div gets focus\n",
       "\n",
       "    // location in version 3\n",
       "    if (IPython.notebook.keyboard_manager) {\n",
       "        IPython.notebook.keyboard_manager.register_events(el);\n",
       "    }\n",
       "    else {\n",
       "        // location in version 2\n",
       "        IPython.keyboard_manager.register_events(el);\n",
       "    }\n",
       "\n",
       "}\n",
       "\n",
       "mpl.figure.prototype._key_event_extra = function(event, name) {\n",
       "    var manager = IPython.notebook.keyboard_manager;\n",
       "    if (!manager)\n",
       "        manager = IPython.keyboard_manager;\n",
       "\n",
       "    // Check for shift+enter\n",
       "    if (event.shiftKey && event.which == 13) {\n",
       "        this.canvas_div.blur();\n",
       "        // select the cell after this one\n",
       "        var index = IPython.notebook.find_cell_index(this.cell_info[0]);\n",
       "        IPython.notebook.select(index + 1);\n",
       "    }\n",
       "}\n",
       "\n",
       "mpl.figure.prototype.handle_save = function(fig, msg) {\n",
       "    fig.ondownload(fig, null);\n",
       "}\n",
       "\n",
       "\n",
       "mpl.find_output_cell = function(html_output) {\n",
       "    // Return the cell and output element which can be found *uniquely* in the notebook.\n",
       "    // Note - this is a bit hacky, but it is done because the \"notebook_saving.Notebook\"\n",
       "    // IPython event is triggered only after the cells have been serialised, which for\n",
       "    // our purposes (turning an active figure into a static one), is too late.\n",
       "    var cells = IPython.notebook.get_cells();\n",
       "    var ncells = cells.length;\n",
       "    for (var i=0; i<ncells; i++) {\n",
       "        var cell = cells[i];\n",
       "        if (cell.cell_type === 'code'){\n",
       "            for (var j=0; j<cell.output_area.outputs.length; j++) {\n",
       "                var data = cell.output_area.outputs[j];\n",
       "                if (data.data) {\n",
       "                    // IPython >= 3 moved mimebundle to data attribute of output\n",
       "                    data = data.data;\n",
       "                }\n",
       "                if (data['text/html'] == html_output) {\n",
       "                    return [cell, data, j];\n",
       "                }\n",
       "            }\n",
       "        }\n",
       "    }\n",
       "}\n",
       "\n",
       "// Register the function which deals with the matplotlib target/channel.\n",
       "// The kernel may be null if the page has been refreshed.\n",
       "if (IPython.notebook.kernel != null) {\n",
       "    IPython.notebook.kernel.comm_manager.register_target('matplotlib', mpl.mpl_figure_comm);\n",
       "}\n"
      ],
      "text/plain": [
       "<IPython.core.display.Javascript object>"
      ]
     },
     "metadata": {},
     "output_type": "display_data"
    },
    {
     "data": {
      "text/html": [
       "<img src=\"data:image/png;base64,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\" width=\"639.9999861283738\">"
      ],
      "text/plain": [
       "<IPython.core.display.HTML object>"
      ]
     },
     "metadata": {},
     "output_type": "display_data"
    },
    {
     "name": "stdout",
     "output_type": "stream",
     "text": [
      "34.5034544615\n"
     ]
    }
   ],
   "source": [
    "m = 0.63\n",
    "R = 0.12\n",
    "I = 2.0/3*m*R**2\n",
    "\n",
    "\n",
    "bl = 0.5\n",
    "br = 0.001\n",
    "g = 9.81\n",
    "\n",
    "\n",
    "x0 = 0\n",
    "y0 = 2\n",
    "\n",
    "v0 = 9.5\n",
    "angle = 51*np.pi/180.0\n",
    "\n",
    "vx0 = v0*np.cos(angle)\n",
    "vy0 = v0*np.sin(angle)\n",
    "\n",
    "dt = 0.001\n",
    "t = np.arange(0, 2.1, dt)\n",
    "\n",
    "x = x0\n",
    "y = y0\n",
    "vx = vx0\n",
    "vy = vy0\n",
    "\n",
    "omega = 42\n",
    "theta = 0\n",
    "\n",
    "\n",
    "r = np.array([x,y])\n",
    "ballAngle = np.array([theta])\n",
    "\n",
    "state = np.array([omega, vx, vy, theta, x, y])\n",
    "\n",
    "while state[4]<=4.6:\n",
    "\n",
    "    dstatedt = np.array([-br/I*state[0],-bl/m*state[1], -g-bl/m*state[2],state[0], state[1], state[2] ])\n",
    "    state = state + dt * dstatedt\n",
    "    \n",
    "    r = np.vstack((r, [state[4], state[5]]))\n",
    "    ballAngle = np.vstack((ballAngle, [state[3]]))\n",
    "    \n",
    "    \n",
    "plt.figure()\n",
    "plt.plot(r[0:-1:50,0], r[0:-1:50,1], 'o', color = np.array([1, 0.6,0]), markerSize =10)\n",
    "plt.plot(np.array([4, 4.45]), np.array([3.05, 3.05]))\n",
    "for i in range(len(r[0:-1:50,0])):\n",
    "    plt.plot(r[i*50,0]+np.array([-0.05*(np.cos(ballAngle[i*50])-np.sin(ballAngle[i*50])), 0.05*(np.cos(ballAngle[i*50])-np.sin(ballAngle[i*50]))]), \n",
    "             r[i*50,1] + np.array([-0.05*(np.sin(ballAngle[i*50])+np.cos(ballAngle[i*50])), 0.05*(np.sin(ballAngle[i*50])+np.cos(ballAngle[i*50]))]),'k')\n",
    "plt.ylim((0,4.5))\n",
    "plt.show()\n",
    "print(state[0])"
   ]
  },
  {
   "cell_type": "markdown",
   "metadata": {},
   "source": [
    "Above is the trajectory of the ball until it reaches the basket (height of 3.05 m, marked with a blue line)."
   ]
  },
  {
   "cell_type": "markdown",
   "metadata": {
    "slideshow": {
     "slide_type": "slide"
    }
   },
   "source": [
    "## 3) Pendulum \n",
    "\n",
    "Now, we will analyze a pendulum. It consists of a bar with its upper part linked to a hinge.\n",
    "\n",
    "<figure><img src=\"../images/pendulum.png\\\" width=350 />\n",
    "    \n"
   ]
  },
  {
   "cell_type": "markdown",
   "metadata": {
    "slideshow": {
     "slide_type": "slide"
    }
   },
   "source": [
    "### Free-body diagram\n",
    "\n",
    "Below is the free-body diagram of the bar. On the center of mass of the bar is acting the gravitational force. On the point O, where there is a hinge, a force $\\vec{\\bf{F_1}}$ restrains the point to translate. As the hinge does not constrains a rotational movement of the bar, there is no moment applied by the hinge. \n",
    "\n",
    "<figure><img src=\"../images/pendulumFBD.png\\\" width=300 />"
   ]
  },
  {
   "cell_type": "markdown",
   "metadata": {
    "slideshow": {
     "slide_type": "slide"
    }
   },
   "source": [
    "### Sum of the forces and moments\n",
    "\n",
    "To find the equation of motion of the bar we can use the second Newton-Euler law. So, we must find the sum of the moments and the resultant force being applied to the bar. The sum of moments could be computed relative to any point, but if we choose the fixed point O, it is easier because we can ignore the force $\\vec{\\bf{F_1}}$.\n",
    "\n",
    "The moment around the fixed point is:\n",
    "\n",
    "\\begin{equation}\n",
    "    \\vec{\\bf{M_O}} = \\vec{\\bf{r_{cm/O}}} \\times (-mg\\hat{\\bf{j}})\n",
    "\\end{equation}\n",
    "\n",
    "The resultant force applied in the bar is:\n",
    "\n",
    "\n",
    "\\begin{equation}\n",
    "        \\vec{\\bf{F}} = -mg\\hat{\\bf{j}} + \\vec{\\bf{F_1}}\n",
    "\\end{equation}"
   ]
  },
  {
   "cell_type": "markdown",
   "metadata": {
    "slideshow": {
     "slide_type": "slide"
    }
   },
   "source": [
    "### Second Newton-Euler law\n",
    "\n",
    "The second Newton-Euler law is:\n",
    "\n",
    "$$\\vec{\\bf{M_O}} = \\frac{d\\vec{\\bf{H_O}}}{dt} $$\n",
    "\n",
    "The angular momentum derivative of the bar around point O is:\n",
    "\n",
    "$$\n",
    "    \\frac{d\\vec{\\bf{H_O}}}{dt} = I_{zz}^{cm} \\frac{d^2\\theta}{dt^2} \\hat{\\bf{k}}  + m \\vec{\\bf{r_{cm/O}}} \\times \\vec{\\bf{a_{cm}}}\n",
    "$$"
   ]
  },
  {
   "cell_type": "markdown",
   "metadata": {
    "slideshow": {
     "slide_type": "slide"
    }
   },
   "source": [
    "### Kinematics\n",
    "\n",
    "The vector from point O to the center of mass is:\n",
    "\n",
    "$$\n",
    "    \\vec{\\bf{r_{cm/O}}} = \\frac{l}{2}\\sin{\\theta}\\hat{\\bf{i}}-\\frac{l}{2}\\cos{\\theta}\\hat{\\bf{j}}\n",
    "$$\n",
    "\n",
    "The position of the center of mass is, considering the point O as the origin, equal to $\\vec{\\bf{r_{cm/O}}}$. So, the center of mass acceleration is obtained by deriving it twice. \n",
    "\n",
    "$$\n",
    "    \\vec{\\bf{v_{cm}}} = \\frac{\\vec{\\bf{r_{cm/O}}}}{dt} = \\frac{l}{2}(\\cos{\\theta}\\hat{\\bf{i}}+\\sin{\\theta}\\hat{\\bf{j}})\\frac{d\\theta}{dt}\n",
    "$$ \n",
    "\n",
    "$$\n",
    "\\vec{\\bf{a_{cm}}} = \\frac{l}{2}(-\\sin{\\theta}\\hat{\\bf{i}}+\\cos{\\theta}\\hat{\\bf{j}})\\left(\\frac{d\\theta}{dt}\\right)^2 + \\frac{l}{2}(\\cos{\\theta}\\hat{\\bf{i}}+\\sin{\\theta}\\hat{\\bf{j}})\\frac{d^2\\theta}{dt^2}   \n",
    "$$"
   ]
  },
  {
   "cell_type": "markdown",
   "metadata": {
    "slideshow": {
     "slide_type": "slide"
    }
   },
   "source": [
    "### Sum of the moments\n",
    "\n",
    "So, the moment around the point O:\n",
    "\n",
    "\\begin{equation}\n",
    "    \\vec{\\bf{M_O}} = \\vec{\\bf{r_{cm/O}}} \\times (-mg\\hat{\\bf{j}}) = \\left(\\frac{l}{2}\\sin{\\theta}\\hat{\\bf{i}}-\\frac{l}{2}\\cos{\\theta}\\hat{\\bf{j}}\\right) \\times (-mg\\hat{\\bf{j}}) = \\frac{-mgl}{2}\\sin{\\theta}\\hat{\\bf{k}}\n",
    "\\end{equation}"
   ]
  },
  {
   "cell_type": "markdown",
   "metadata": {
    "slideshow": {
     "slide_type": "slide"
    }
   },
   "source": [
    "### Derivative of the angular momentum\n",
    "\n",
    "And the derivative of the angular momentum is:\n",
    "\n",
    "\\begin{equation}\n",
    "    \\frac{d\\vec{\\bf{H_O}}}{dt} = I_{zz}^{cm} \\frac{d^2\\theta}{dt^2}\\hat{\\bf{k}}  + m \\frac{l}{2}(\\sin{\\theta}\\hat{\\bf{i}}-\\cos{\\theta}\\hat{\\bf{j}}) \\times \\left[ \\frac{l}{2}(-\\sin{\\theta}\\hat{\\bf{i}}+\\cos{\\theta}\\hat{\\bf{j}})\\left(\\frac{d\\theta}{dt}\\right)^2 + \\frac{l}{2}(\\cos{\\theta}\\hat{\\bf{i}}+\\sin{\\theta}\\hat{\\bf{j}})\\frac{d^2\\theta}{dt^2}    \\right] = I_{zz}^{cm} \\frac{d^2\\theta}{dt^2}\\hat{\\bf{k}}  + m \\frac{l^2}{4}\\frac{d^2\\theta}{dt^2} \\hat{\\bf{k}}  =\\left(I_{zz}^{cm} + \\frac{ml^2}{4}\\right)\\frac{d^2\\theta}{dt^2} \\hat{\\bf{k}}\n",
    "\\end{equation}"
   ]
  },
  {
   "cell_type": "markdown",
   "metadata": {
    "slideshow": {
     "slide_type": "slide"
    }
   },
   "source": [
    "### The equation of motion\n",
    "\n",
    "Now, by using the Newton-Euler laws, we can obtain the differential equation that describes the bar angle along time:\n",
    "\n",
    "\\begin{equation}\n",
    "    \\frac{d\\vec{\\bf{H_O}}}{dt} = \\vec{\\bf{M_O}} \\rightarrow \\frac{-mgl}{2}\\sin{\\theta} = \\left(I_{zz}^{cm} + \\frac{ml^2}{4}\\right)\\frac{d^2\\theta}{dt^2} \\rightarrow \\frac{d^2\\theta}{dt^2} = \\frac{-2mgl}{\\left(4I_{zz}^{cm} + ml^2\\right)}\\sin{\\theta}\n",
    "\\end{equation}\n",
    "\n",
    "The moment of inertia of the bar relative to its center of mass is $I_{zz}^{cm} = \\frac{ml^2}{12}$ (for a revision on moment of inertia see [this notebook](CenterOfMassAndMomentOfInertia.ipynb)).  So, the equation of motion of the pendulum is:\n",
    "\n",
    "\\begin{equation}\n",
    "    \\frac{d^2\\theta}{dt^2} = \\frac{-3g}{2l}\\sin{\\theta}\n",
    "\\end{equation}"
   ]
  },
  {
   "cell_type": "markdown",
   "metadata": {
    "slideshow": {
     "slide_type": "slide"
    }
   },
   "source": [
    "## 4) Inverted Pendulum\n",
    "\n",
    "At this example we analyze the inverted pendulum. It consists of a bar with its lowest extremity linked to a hinge.\n",
    "\n",
    "<figure><img src=\"../images/invertedPendulum.png\\\" width=350 />\n",
    "    "
   ]
  },
  {
   "cell_type": "markdown",
   "metadata": {
    "slideshow": {
     "slide_type": "slide"
    }
   },
   "source": [
    "### Free-body diagram\n",
    "\n",
    "The free-body diagram of the bar is depicted below. At the point where the bar is linked to the hinge, a force $\\vec{\\bf{F_1}}$ acts at the bar due to the restraint of the translation imposed to the point O by the hinge. Additionally, the gravitational force acts at the center of mass of the bar. \n",
    "   \n",
    "<figure><img src=\"../images/invertedPendulumFBD.png\\\" width=300 />"
   ]
  },
  {
   "cell_type": "markdown",
   "metadata": {
    "slideshow": {
     "slide_type": "slide"
    }
   },
   "source": [
    "### Sum of the forces and moments\n",
    "\n",
    "Similarly to pendulum, in this case we can find the equation of motion of the bar by using the second Newton-Euler law. To do that we must find the sum of the moments and the resultant force being applied to the bar. The sum of moments could be computed relative to any point, but if we choose the fixed point O, it is easier because we can ignore the force $\\vec{\\bf{F_1}}$.\n",
    "\n",
    "The moment around the fixed point is:\n",
    "\n",
    "\\begin{equation}\n",
    "    \\vec{\\bf{M_O}} = \\vec{\\bf{r_{cm/O}}} \\times (-mg\\hat{\\bf{j}})\n",
    "\\end{equation}\n",
    "\n",
    "The resultant force applied in the bar is:\n",
    "\n",
    "\\begin{equation}\n",
    "        \\vec{\\bf{F}} = -mg\\hat{\\bf{j}} + \\vec{\\bf{F_1}}\n",
    "\\end{equation}"
   ]
  },
  {
   "cell_type": "markdown",
   "metadata": {
    "slideshow": {
     "slide_type": "slide"
    }
   },
   "source": [
    "### Second Newton-Euler law\n",
    "\n",
    "The second Newton-Euler law is:\n",
    "\n",
    "$$\\vec{\\bf{M_O}} = \\frac{d\\vec{\\bf{H_O}}}{dt} $$\n",
    "\n",
    "\n",
    "The angular momentum derivative of the bar around point O is:\n",
    "\n",
    "\\begin{equation}\n",
    "    \\frac{d\\vec{\\bf{H_O}}}{dt} = I_{zz}^{cm} \\frac{d^2\\theta}{dt^2} \\hat{\\bf{k}}  + m \\vec{\\bf{r_{cm/O}}} \\times \\vec{\\bf{a_{cm}}}\n",
    "\\end{equation}"
   ]
  },
  {
   "cell_type": "markdown",
   "metadata": {
    "slideshow": {
     "slide_type": "slide"
    }
   },
   "source": [
    "### Kinematics\n",
    "\n",
    "The equations above are exactly the same of the pendulum example. The difference is in the kinematics of the bar. Now,the vector from point O to the center of mass is:\n",
    "\n",
    "$$\n",
    "    \\vec{\\bf{r_{cm/O}}} = -\\frac{l}{2}\\sin{\\theta}\\hat{\\bf{i}}+\\frac{l}{2}\\cos{\\theta}\\hat{\\bf{j}}\n",
    "$$\n",
    "\n",
    "\n",
    "The position of the center of mass of the bar is equal to the vector $\\vec{\\bf{r_{cm/O}}}$, since the point O is with velocity zero relative to the global reference frame. So the center of mass acceleration can be obtained by deriving this vector twice:\n",
    "\n",
    "$$\n",
    "    \\vec{\\bf{v_{cm}}} = \\frac{\\vec{\\bf{r_{cm/O}}}}{dt} = -\\frac{l}{2}(\\cos{\\theta}\\hat{\\bf{i}}+\\sin{\\theta}\\hat{\\bf{j}})\\frac{d\\theta}{dt} \n",
    "$$\n",
    "$$\n",
    "\\vec{\\bf{a_{cm}}} = \\frac{l}{2}(\\sin{\\theta}\\hat{\\bf{i}}-\\cos{\\theta}\\hat{\\bf{j}})\\left(\\frac{d\\theta}{dt}\\right)^2 - \\frac{l}{2}(\\cos{\\theta}\\hat{\\bf{i}}+\\sin{\\theta}\\hat{\\bf{j}})\\frac{d^2\\theta}{dt^2}   \n",
    "$$"
   ]
  },
  {
   "cell_type": "markdown",
   "metadata": {
    "slideshow": {
     "slide_type": "slide"
    }
   },
   "source": [
    "### Sum of the moments\n",
    "\n",
    "\n",
    "So, the moment around the point O is:\n",
    "\n",
    "$$\n",
    "\\vec{\\bf{M_O}} = \\vec{\\bf{r_{cm/O}}} \\times (-mg\\hat{\\bf{j}}) = \\left(-\\frac{l}{2}\\sin{\\theta}\\hat{\\bf{i}}+\\frac{l}{2}\\cos{\\theta}\\hat{\\bf{j}}\\right) \\times (-mg\\hat{\\bf{j}}) = \\frac{mgl}{2}\\sin{\\theta} \\hat{\\bf{k}}\n",
    "$$"
   ]
  },
  {
   "cell_type": "markdown",
   "metadata": {
    "slideshow": {
     "slide_type": "slide"
    }
   },
   "source": [
    "### Derivative of the angular momentum\n",
    "\n",
    "\n",
    "And the derivative of the angular momentum is:\n",
    "\n",
    "$$\n",
    "    \\frac{d\\vec{\\bf{H_O}}}{dt} = I_{zz}^{cm} \\frac{d^2\\theta}{dt^2} \\hat{\\bf{k}}  + m \\left(-\\frac{l}{2}\\sin{\\theta}\\hat{\\bf{i}}+\\frac{l}{2}\\cos{\\theta}\\hat{\\bf{j}}\\right) \\times \\left[\\frac{l}{2}(\\sin{\\theta}\\hat{\\bf{i}}-\\cos{\\theta}\\hat{\\bf{j}})\\left(\\frac{d\\theta}{dt}\\right)^2 - \\frac{l}{2}(\\cos{\\theta}\\hat{\\bf{i}}+\\sin{\\theta}\\hat{\\bf{j}})\\frac{d^2\\theta}{dt^2}\\right] = I_{zz}^{cm} \\frac{d^2\\theta}{dt^2} \\hat{\\bf{k}}  + m \\frac{l^2}{4}\\frac{d^2\\theta}{dt^2}\\hat{\\bf{k}} = \\left(I_{zz}^{cm} +  \\frac{ml^2}{4}\\right)\\frac{d^2\\theta}{dt^2}\\hat{\\bf{k}}\n",
    "$$"
   ]
  },
  {
   "cell_type": "markdown",
   "metadata": {
    "slideshow": {
     "slide_type": "slide"
    }
   },
   "source": [
    "### The equation of motion\n",
    "\n",
    "\n",
    "By using the Newton-Euler laws, we can find the equation of motion of the bar:\n",
    "\n",
    "\\begin{equation}\n",
    "    \\frac{d\\vec{\\bf{H_O}}}{dt} = \\vec{\\bf{M_O}} \\rightarrow \\left(I_{zz}^{cm} +  \\frac{ml^2}{4}\\right)\\frac{d^2\\theta}{dt^2} = \\frac{mgl}{2}\\sin{\\theta} \\rightarrow \\frac{d^2\\theta}{dt^2} = \\frac{2mgl}{\\left(4I_{zz}^{cm} + ml^2\\right)}\\sin(\\theta)\n",
    "\\end{equation}\n",
    "\n",
    "The moment of inertia of the bar is $I_{zz}^{cm} = \\frac{ml^2}{12}$. So, the equation of motion of the bar is:\n",
    "\n",
    "\\begin{equation}\n",
    "    \\frac{d^2\\theta}{dt^2} = \\frac{3g}{2l}\\sin(\\theta)\n",
    "\\end{equation}"
   ]
  },
  {
   "cell_type": "markdown",
   "metadata": {
    "slideshow": {
     "slide_type": "slide"
    }
   },
   "source": [
    "## 5) Human quiet standing \n",
    "\n",
    "A very simple model of the human quiet standing (and still today frequently used) is to use an inverted pendulum to model the human body. On [this notebook](http://nbviewer.jupyter.org/github/demotu/BMC/blob/master/notebooks/IP_Model.ipynb) there is a more comprehensive explanation of human standing.\n",
    "\n",
    "<figure><img src=\"../images/quietStanding.png\\\" width=350 /></figure> \n",
    "\n",
    "Adapted from [Elias, Watanabe and Kohn (2014)](https://journals.plos.org/ploscompbiol/article?id=10.1371/journal.pcbi.1003944)."
   ]
  },
  {
   "cell_type": "markdown",
   "metadata": {
    "slideshow": {
     "slide_type": "slide"
    }
   },
   "source": [
    "### Free-body diagram\n",
    "\n",
    "Below is depicted the free-body diagram of the foot and the rest of the body. At the ankle joint there is a constraint to the translation of the ankle joint. So, a force $\\vec{\\bf{F_1}}$ is applied to the body at the ankle joint. By the third Newton law, a force  $-\\vec{\\bf{F_1}}$ is applied to the foot at the ankle joint. At the center of mass of the body and of the foot, gravitational forces are applied. Additionally, a ground reaction force is applied to the foot at the center of pressure of the forces applied at the foot.\n",
    "\n",
    "Additionally, a moment $\\vec{\\bf{T_A}}$ is applied at the body and its reaction is applied to the foot. This moment $\\vec{\\bf{T_A}}$ comes from the muscles around the ankle joint. It is usual in Biomechanics to represent the net torque generated by all the muscles on a single joint as a single moment applied to the body. \n",
    "\n",
    "    \n",
    "<figure><img src=\"../images/quietStandingFBD.png\\\" width=300 /></figure>"
   ]
  },
  {
   "cell_type": "markdown",
   "metadata": {
    "slideshow": {
     "slide_type": "slide"
    }
   },
   "source": [
    "### Sum of the moments\n",
    "\n",
    "The process to obtain the equation of motion of the body is very similar to the pendulums. The moment around the ankle being applied to the body is:\n",
    "\n",
    "\\begin{equation}\n",
    "    \\vec{\\bf{M_A}} = \\vec{\\bf{T_A}} + \\vec{\\bf{r_{cm/A}}} \\times (-m_Bg\\hat{\\bf{j}})\n",
    "\\end{equation}"
   ]
  },
  {
   "cell_type": "markdown",
   "metadata": {
    "slideshow": {
     "slide_type": "slide"
    }
   },
   "source": [
    "### Second Newton-Euler law\n",
    "\n",
    "And the derivative of the angular momentum is:\n",
    "\n",
    "$$\n",
    "    \\frac{d\\vec{\\bf{H_A}}}{dt} = I_{zz}^{cm}\\frac{d\\theta_A}{dt} + m\\vec{\\bf{r_{cm/A}}} \\times \\vec{\\bf{a_{cm}}}\n",
    "$$"
   ]
  },
  {
   "cell_type": "markdown",
   "metadata": {
    "slideshow": {
     "slide_type": "slide"
    }
   },
   "source": [
    "### Kinematics\n",
    "\n",
    "To find the kinematics of the bar, we could do the same procedure we have used in the pendulum and inverted pendulum examples, but this time we will use polar coordinates (for a revision on polar coordinates, see [Polar coordinates notebook](PolarCoordinates.ipynb)). \n",
    "\n",
    "$$\n",
    "    \\vec{\\bf{r_{cm/A}}} = \\vec{\\bf{r_{cm}}} = h_G\\hat{\\bf{e_r}}\n",
    "$$\n",
    "$$\n",
    "\\vec{\\bf{v_{cm}}} = h_G\\frac{d\\theta_A}{dt}\\hat{\\bf{e_\\theta}}\n",
    "$$\n",
    "$$\n",
    "\\vec{\\bf{a_{cm}}} = -h_G\\left(\\frac{d\\theta_A}{dt}\\right)^2\\hat{\\bf{e_r}} + h_G\\frac{d^2\\theta_A}{dt^2}\\hat{\\bf{e_\\theta}}\n",
    "$$\n",
    "\n",
    "where $\\hat{\\bf{e_r}} = -\\sin(\\theta_A)\\hat{\\bf{i}} + \\cos(\\theta_A)\\hat{\\bf{j}}$ and $\\hat{\\bf{e_\\theta}} = -\\cos(\\theta_A)\\hat{\\bf{i}} - \\sin(\\theta_A)\\hat{\\bf{j}}$"
   ]
  },
  {
   "cell_type": "markdown",
   "metadata": {
    "slideshow": {
     "slide_type": "slide"
    }
   },
   "source": [
    "### Sum of the moments\n",
    "\n",
    "Having the kinematics computed, we can go back to the moment and derivative of the angular momentum:\n",
    "\n",
    "$$\n",
    "     \\vec{\\bf{M_A}} =  \\vec{\\bf{T_A}} + h_G\\hat{\\bf{e_r}} \\times (-m_Bg\\hat{\\bf{j}}) = T_A\\hat{\\bf{k}} + h_Gm_Bg\\sin(\\theta_A)\\hat{\\bf{k}}\n",
    "$$"
   ]
  },
  {
   "cell_type": "markdown",
   "metadata": {
    "slideshow": {
     "slide_type": "slide"
    }
   },
   "source": [
    "### Derivative of the angular momentum\n",
    "\n",
    "\\begin{equation}\n",
    "    \\frac{d\\vec{\\bf{H_A}}}{dt} = I_{zz}^{cm}\\frac{d^2\\theta_A}{dt^2} \\hat{\\bf{k}} + mh_G\\hat{\\bf{e_r}} \\times \\left(-h_G\\left(\\frac{d^2\\theta_A}{dt^2}\\right)^2\\hat{\\bf{e_r}} + h_G\\frac{d^2\\theta_A}{dt^2}\\hat{\\bf{e_\\theta}}\\right) = I_{zz}^{cm}\\frac{d^2\\theta_A}{dt^2}\\hat{\\bf{k}} + mh_G^2\\frac{d^2\\theta_A}{dt^2}\\hat{\\bf{k}} = \\left(I_{zz}^{cm} + mh_G^2\\right)\\frac{d^2\\theta_A}{dt^2}\\hat{\\bf{k}}\n",
    "\\end{equation}"
   ]
  },
  {
   "cell_type": "markdown",
   "metadata": {
    "slideshow": {
     "slide_type": "slide"
    }
   },
   "source": [
    "### The equation of motion\n",
    "\n",
    "By using the Newton-Euler equations, we can now find the equation of motion of the body during quiet standing:\n",
    "\n",
    "$$\n",
    "    \\vec{\\bf{M_A}}=\\frac{d\\vec{\\bf{H_A}}}{dt} \n",
    "$$\n",
    "$$\n",
    "\\left(I_{zz}^{cm} + mh_G^2\\right)\\frac{d^2\\theta_A}{dt^2} =  T_A + h_Gm_B g\\sin(\\theta_A) \n",
    "$$\n",
    "$$\n",
    "\\frac{d^2\\theta_A}{dt^2} = \\frac{h_Gm_B g}{I_{zz}^{cm} + mh_G^2}\\sin(\\theta_A)+ \\frac{T_A}{I_{zz}^{cm} + m_Bh_G^2}\n",
    "$$\n",
    "\n",
    "If we consider the body as a rigid uniform bar, the moment of inertia is $I_{zz}^{cm} = \\frac{m_Bh_G^2}{3}$. So, the equation of motion of the body is:\n",
    "\n",
    "$$\n",
    "    \\frac{d^2\\theta_A}{dt^2} = \\frac{3 g}{4h_g}\\sin(\\theta_A)+ \\frac{3 T_A}{4m_bh_G^2}\n",
    "$$"
   ]
  },
  {
   "cell_type": "markdown",
   "metadata": {
    "slideshow": {
     "slide_type": "slide"
    }
   },
   "source": [
    "## 6) Force platform (position of the center of pressure)\n",
    "\n",
    "\n",
    "From the same example above, now we will find the position of the center of pressure ($COP_x$) during the quiet standing. The $COP_x$ is the point where the ground reaction force is being applied. The point O is linked to the ground in a way that it constraints the translation and rotation movement of the platform and is located at known distance $y_0$ below the ground. Also, it is in the point O that sensors of force and moments are located. \n",
    "\n",
    "\n",
    "<figure><img src=\"../images/forcePlatform2DS.png\\\" width=350 />"
   ]
  },
  {
   "cell_type": "markdown",
   "metadata": {
    "slideshow": {
     "slide_type": "slide"
    }
   },
   "source": [
    "### Free-body diagram\n",
    "\n",
    "The free-body diagram of the foot and the force platform is depicted below.\n",
    "\n",
    "<figure><img src=\"../images/forcePlatform2D.png\\\" width=350 />"
   ]
  },
  {
   "cell_type": "markdown",
   "metadata": {
    "slideshow": {
     "slide_type": "slide"
    }
   },
   "source": [
    "In the platform , the distance $y_0$ is known. As the platform is in equilibrium its derivative of the angular momentum is zero. Now, we must find the sum of the moments. As we can choose any point, we will choose, the point where the force $\\vec{\\bf{F}}$ is being applied, and equal it to zero.\n",
    "\n",
    "\\begin{equation}\n",
    "    \\vec{\\bf{M}} + \\vec{\\bf{r_{COP/O}}} \\times (-\\vec{\\bf{GRF}}) = 0\n",
    "\\end{equation}\n",
    "\n",
    "The vector $\\vec{\\bf{r_{COP/O}}}$ is:\n",
    "\n",
    "\\begin{equation}\n",
    "    \\vec{\\bf{r_{COP/O}}} = COP_x \\hat{\\bf{i}} + y_0 \\hat{\\bf{j}}\n",
    "\\end{equation}\n",
    "\n",
    "So, from the equation of the sum of the moments we can isolate the postion of the center of pressure:\n",
    "\n",
    "\\begin{equation}\n",
    "    M - COP_x GRF_y + y_0 GRF_x = 0 \\rightarrow COP_x = \\frac{M+y_0 GRF_x}{GRF_y}\n",
    "\\end{equation}\n",
    "\n",
    "Using the expression above, we can track the position of the center of pressure during an experiment."
   ]
  },
  {
   "cell_type": "markdown",
   "metadata": {
    "slideshow": {
     "slide_type": "slide"
    }
   },
   "source": [
    "## 7) Standing dummy (from Ruina and Pratap book)\n",
    "\n",
    "A standing dummy is modeled as having massless rigid circular feet of radius $R$ rigidly attached to their\n",
    "uniform rigid body of length $L$ and mass $m$. The feet do not slip on the floor.\n",
    "\n",
    "<figure><img src=\"../images/rocker.png\\\" width=550 />\n",
    "  "
   ]
  },
  {
   "cell_type": "markdown",
   "metadata": {
    "slideshow": {
     "slide_type": "slide"
    }
   },
   "source": [
    "  \n",
    "### Free-body diagram\n",
    "\n",
    "Below is depicted the fee-body diagram. The point C is the point of contact with the ground. Note that this point changes its position along time, but instantly it has velocity zero.\n",
    "\n",
    "<figure><img src=\"../images/rockerFBD.png\\\" width=550 />\n",
    " "
   ]
  },
  {
   "cell_type": "markdown",
   "metadata": {
    "slideshow": {
     "slide_type": "slide"
    }
   },
   "source": [
    "### Kinematics\n",
    "\n",
    "Using the versors:\n",
    "\n",
    "$$ \n",
    "\\hat{\\bf{e_r}} = -\\sin(\\theta_A)\\hat{\\bf{i}} + \\cos(\\theta_A)\\hat{\\bf{j}}\n",
    "$$\n",
    "$$\n",
    "\\hat{\\bf{e_\\theta}} = -\\cos(\\theta_A)\\hat{\\bf{i}} - \\sin(\\theta_A)\\hat{\\bf{j}}\n",
    "$$\n",
    "\n",
    "The vector from the point C to the center of mass is:\n",
    "\n",
    "$$\n",
    "\\vec{\\bf{r_{cm/C}}} = R\\hat{\\bf{j}} + \\left(\\frac{L}{2} - R \\right)\\hat{\\bf{e_r}}\n",
    "$$\n",
    "\n",
    "The position of the center of mass, relative to the origin is different from $\\vec{\\bf{r_{cm/C}}}$. We can consider the origin of the system as the point of contact with the ground when the standing dummy is at the vertical position.\n",
    "\n",
    "$$\n",
    "\\vec{\\bf{r_{cm}}} = -R\\theta\\hat{\\bf{i}} + R\\hat{\\bf{j}} + \\left(\\frac{L}{2} - R \\right)\\hat{\\bf{e_r}}\n",
    "$$\n",
    "\n",
    "$$\n",
    "\\vec{\\bf{v_{cm}}} = -R\\dot{\\theta}\\hat{\\bf{i}} + \\left(\\frac{L}{2} - R \\right)\\dot{\\theta}\\hat{\\bf{e_\\theta}}\n",
    "$$\n",
    "\n",
    "$$\n",
    "\\vec{\\bf{a_{cm}}} = -R\\ddot{\\theta}\\hat{\\bf{i}} + \\left(\\frac{L}{2} - R \\right)\\ddot{\\theta}\\hat{\\bf{e_\\theta}} - \\left(\\frac{L}{2} - R \\right)\\dot{\\theta}²\\hat{\\bf{e_r}}\n",
    "$$\n",
    "\n",
    "\n"
   ]
  },
  {
   "cell_type": "markdown",
   "metadata": {
    "slideshow": {
     "slide_type": "slide"
    }
   },
   "source": [
    "### Sum of the moments\n",
    "\n",
    "\n",
    "So, the moment around the point C is:\n",
    "\n",
    "$$\n",
    "\\vec{\\bf{M_C}} = \\vec{\\bf{r_{cm/C}}} \\times (-mg\\hat{\\bf{j}}) = \\left[R\\hat{\\bf{j}} + \\left(\\frac{L}{2} - R \\right)\\hat{\\bf{e_r}} \\right] \\times (-mg\\hat{\\bf{j}})\n",
    "$$\n",
    "\n",
    "$$\n",
    "\\vec{\\bf{M_C}} = mg\\left(\\frac{L}{2} - R \\right)\\sin{\\theta}\n",
    "$$"
   ]
  },
  {
   "cell_type": "markdown",
   "metadata": {
    "slideshow": {
     "slide_type": "slide"
    }
   },
   "source": [
    "### Derivative of the angular momentum\n",
    "\n",
    "$$\n",
    "    \\frac{d\\vec{\\bf{H_C}}}{dt} = I_{zz}^{cm}\\ddot{\\theta} \\hat{\\bf{k}} + m\\vec{\\bf{r_{cm/C}}} \\times \\vec{\\bf{a_{cm}}} =  \\left[mR\\hat{\\bf{j}} + m\\left(\\frac{L}{2} - R \\right)\\hat{\\bf{e_r}}\\right] \\times \\left[-R\\ddot{\\theta}\\hat{\\bf{i}} + \\left(\\frac{L}{2} - R \\right)\\ddot{\\theta}\\hat{\\bf{e_\\theta}} - \\left(\\frac{L}{2} - R \\right)\\dot{\\theta}^2\\hat{\\bf{e_r}}\\right]\n",
    "$$\n",
    "\n",
    "$$\n",
    "    \\frac{d\\vec{\\bf{H_C}}}{dt} = \\left(I_{zz}^{cm}\\ddot{\\theta} + mR^2\\ddot{\\theta} + mR\\left(\\frac{L}{2} - mR \\right)\\ddot{\\theta}\\cos{\\theta} - mR\\left(\\frac{L}{2} - mR \\right)\\dot{\\theta}^2\\sin{\\theta} + mR\\ddot{\\theta}\\left(\\frac{L}{2} - R \\right)\\cos{\\theta}+m\\left(\\frac{L}{2} - R \\right)^2\\ddot{\\theta}\\right)\\hat{\\bf{k}} = \\left(I_{zz}^{cm}\\ddot{\\theta}+mR^2\\ddot{\\theta} + 2mR\\left(\\frac{L}{2} - R \\right)\\ddot{\\theta}\\cos{\\theta} - mR\\left(\\frac{L}{2} - R \\right)\\dot{\\theta}^2\\sin{\\theta} + m\\left(\\frac{L}{2} - R \\right)^2\\ddot{\\theta}\\right)\\hat{\\bf{k}} = \\left(I_{zz}^{cm}\\ddot{\\theta} + mR^2\\ddot{\\theta} + m\\left(RL - 2R^2 \\right)\\ddot{\\theta}\\cos{\\theta} - m\\left(\\frac{RL}{2} - R^2 \\right)\\dot{\\theta}^2\\sin{\\theta} + m\\left(\\frac{L^2}{4} - LR + R^2 \\right)\\ddot{\\theta}\\right)\\hat{\\bf{k}}\n",
    "$$\n",
    "\n",
    "$$\n",
    "\\frac{d\\vec{\\bf{H_C}}}{dt} = \\left(I_{zz}^{cm}+2mR^2 + mRL\\cos{\\theta} - 2mR^2\\cos{\\theta} + m\\frac{L^2}{4}-mLR\\right)\\ddot{\\theta} - m\\left(\\frac{RL}{2} - R^2 \\right)\\dot{\\theta}^2\\sin{\\theta}\n",
    "$$\n",
    "\n",
    "Considering the moment of inertia of the bar as $I_{zz}^{cm} = \\frac{mL^2}{12}$:\n",
    "\n",
    "$$\n",
    "\\frac{d\\vec{\\bf{H_C}}}{dt} = \\left(\\frac{mL^2}{12}+2mR^2 + mRL\\cos{\\theta} - 2mR^2\\cos{\\theta} + \\frac{mL^2}{4}-mLR\\right)\\ddot{\\theta} - m\\left(\\frac{RL}{2} - R^2 \\right)\\dot{\\theta}^2\\sin{\\theta}\n",
    "$$\n",
    "\n",
    "$$\n",
    "\\frac{d\\vec{\\bf{H_C}}}{dt} = \\left(\\frac{mL^2}{3}+(2mR^2- mRL)(1-\\cos{\\theta})\\right)\\ddot{\\theta} - m\\left(\\frac{RL}{2} - R^2 \\right)\\dot{\\theta}^2\\sin{\\theta}\n",
    "$$"
   ]
  },
  {
   "cell_type": "markdown",
   "metadata": {
    "slideshow": {
     "slide_type": "slide"
    }
   },
   "source": [
    "### The equation of motion\n",
    "\n",
    "By the second Newton-Euler law:\n",
    "\n",
    "$$\n",
    "\\left(2mL^2+(12mR^2- 6mRL)(1-\\cos{\\theta})\\right)\\ddot{\\theta} - m\\left(3RL - 6R^2 \\right)\\dot{\\theta}^2\\sin{\\theta} = mg\\left(3L - 6R \\right)\\sin{\\theta}\n",
    "$$\n",
    "\n",
    "$$\n",
    "\\left(2L^2+(12R^2- 6RL)(1-\\cos{\\theta})\\right)\\ddot{\\theta} = g\\left(3L - 6R \\right)\\sin{\\theta} + \\left(3RL - 6R^2 \\right)\\dot{\\theta}^2\\sin{\\theta}\n",
    "$$\n",
    "\n",
    "\n",
    "\n",
    "$$\n",
    "\\ddot{\\theta} = \\frac{3\\left(L - 2R \\right)\\sin{\\theta}\\left(g + R\\dot{\\theta}^2\\right)}{2L^2+(12R^2- 6RL)(1-\\cos{\\theta})}\n",
    "$$\n"
   ]
  },
  {
   "cell_type": "markdown",
   "metadata": {
    "slideshow": {
     "slide_type": "slide"
    }
   },
   "source": [
    "## 8) Double pendulum with actuators\n",
    "\n",
    "The figure below shows a  double pendulum. This model can represent, for example, the arm and forearm of a subject. \n",
    "\n",
    "<figure><img src=\"../images/doublePendulum.png\\\" width=350 />\n",
    "    "
   ]
  },
  {
   "cell_type": "markdown",
   "metadata": {
    "slideshow": {
     "slide_type": "slide"
    }
   },
   "source": [
    "### Free-body diagram\n",
    "\n",
    "The free-body diagrams of both bars are depicted below. There are constraint  forces at all joints and moments from the muscles from both joints. \n",
    "    \n",
    "<figure><img src=\"../images/doublePendulumFBD.png\\\" width=800 />"
   ]
  },
  {
   "cell_type": "markdown",
   "metadata": {
    "slideshow": {
     "slide_type": "slide"
    }
   },
   "source": [
    "### Definition of versors\n",
    "\n",
    "The versors $\\hat{\\bf{e_{R_1}}}$, $\\hat{\\bf{e_{R_2}}}$, $\\hat{\\bf{e_{\\theta_1}}}$ and $\\hat{\\bf{e_{\\theta_2}}}$ are defined as:\n",
    "\n",
    "\\begin{equation}\n",
    "    \\hat{\\bf{e_{R_1}}} = \\sin(\\theta_1) \\hat{\\bf{i}} - \\cos(\\theta_1) \\hat{\\bf{j}} \n",
    "\\end{equation}\n",
    "\n",
    "\\begin{equation}\n",
    "    \\hat{\\bf{e_{\\theta_1}}} = \\cos(\\theta_1) \\hat{\\bf{i}} + \\sin(\\theta_1) \\hat{\\bf{j}} \n",
    "\\end{equation}\n",
    "\n",
    "\\begin{equation}\n",
    "    \\hat{\\bf{e_{R_2}}} = \\sin(\\theta_2) \\hat{\\bf{i}} - \\cos(\\theta_2) \\hat{\\bf{j}} \n",
    "\\end{equation}\n",
    "\n",
    "\\begin{equation}\n",
    "    \\hat{\\bf{e_{\\theta_2}}} = \\cos(\\theta_2) \\hat{\\bf{i}} + \\sin(\\theta_2) \\hat{\\bf{j}} \n",
    "\\end{equation}"
   ]
  },
  {
   "cell_type": "markdown",
   "metadata": {},
   "source": [
    "### Kinematics\n",
    "\n",
    "$$\\vec{\\bf{r_{C1/O1}}} = \\frac{l_1}{2}  \\hat{\\bf{e_{R_1}}}$$\n",
    "\n",
    "$$\\vec{\\bf{r_{O2/O1}}} = l_1\\hat{\\bf{e_{R_1}}}$$\n",
    "\n",
    "$$\\vec{\\bf{r_{C1}}} = \\vec{\\bf{r_{C1/O1}}} = \\frac{l_1}{2}  \\hat{\\bf{e_{R_1}}} $$\n",
    "\n",
    "$$\\vec{\\bf{v_{C1}}} = \\frac{l_1}{2}\\frac{d\\theta_1}{dt}\\hat{\\bf{e_{\\theta_1}}} $$\n",
    "\n",
    "$$\\vec{\\bf{a_{C1}}} = -\\frac{l_1}{2}\\left(\\frac{d\\theta_1}{dt}\\right)^2 \\hat{\\bf{e_{R_1}}} + \\frac{l_1}{2}\\frac{d^2\\theta_1}{dt^2} \\hat{\\bf{e_{\\theta_1}}}$$\n",
    "\n",
    "$$\n",
    "\\vec{\\bf{r_{C2/O2}}} = \\frac{l_2}{2}\\hat{\\bf{e_{R_2}}} \n",
    "$$\n",
    "\n",
    "$$\n",
    "\\vec{\\bf{r_{C2}}} = \\vec{\\bf{r_{O2/O1}}} + \\vec{\\bf{r_{C2/O2}}} =  l_1\\hat{\\bf{e_{R_1}}} + \\frac{l_2}{2}\\hat{\\bf{e_{R_2}}} \n",
    "$$\n",
    "\n",
    "$$\n",
    "\\vec{\\bf{v_{C2}}} = l_1\\frac{d\\theta_1}{dt}\\hat{\\bf{e_{\\theta_1}}} + \\frac{l_2}{2}\\frac{d\\theta_1}{dt}\\hat{\\bf{e_{\\theta_2}}} \n",
    "$$\n",
    "\n",
    "$$\n",
    "\\vec{\\bf{a_{C2}}} = -l_1\\left(\\frac{d\\theta_1}{dt}\\right)^2 \\hat{\\bf{e_{R_1}}} + l_1\\frac{d^2\\theta_1}{dt^2} \\hat{\\bf{e_{\\theta_1}}} -\\frac{l_2}{2}\\left(\\frac{d\\theta_2}{dt}\\right)^2 \\hat{\\bf{e_{R_2}}} + \\frac{l_2}{2}\\frac{d^2\\theta_2}{dt^2} \\hat{\\bf{e_{\\theta_2}}}\n",
    "$$\n"
   ]
  },
  {
   "cell_type": "markdown",
   "metadata": {
    "slideshow": {
     "slide_type": "slide"
    }
   },
   "source": [
    "### Sum of the moments of the lower bar around O2\n",
    "\n",
    "First, we can analyze the the sum of the moments and the derivative of the angular momentum at the lower bar relative to the point O2.\n",
    "\n",
    "\\begin{equation}\n",
    "    \\vec{\\bf{M_{O2}}} = \\vec{\\bf{r_{C2/O2}}} \\times (-m_2g\\hat{\\bf{j}}) + \\vec{\\bf{M_{12}}} =  \\frac{l_2}{2}   \\hat{\\bf{e_{R_2}}} \\times (-m_2g\\hat{\\bf{j}}) + \\vec{\\bf{M_{12}}} = -\\frac{m_2gl_2}{2}\\sin(\\theta_2)\\hat{\\bf{k}} + \\vec{\\bf{M_{12}}}\n",
    "\\end{equation}"
   ]
  },
  {
   "cell_type": "markdown",
   "metadata": {
    "slideshow": {
     "slide_type": "slide"
    }
   },
   "source": [
    "### Derivative of angular momentum of the lower bar around O2\n",
    "\n",
    "\\begin{equation}\n",
    "    \\frac{d\\vec{\\bf{H_{O2}}}}{dt} = I_{zz}^{C2} \\frac{d^2\\theta_2}{dt^2} + m_2 \\vec{\\bf{r_{C2/O2}}} \\times \\vec{\\bf{a_{C2}}} = I_{zz}^{C2} \\frac{d^2\\theta_2}{dt^2} + m_2 \\frac{l_2}{2}  \\hat{\\bf{e_{R_2}}} \\times \\left[-l_1\\left(\\frac{d\\theta_1}{dt}\\right)^2 \\hat{\\bf{e_{R_1}}} + l_1\\frac{d^2\\theta_1}{dt^2} \\hat{\\bf{e_{\\theta_1}}} -\\frac{l_2}{2}\\left(\\frac{d\\theta_2}{dt}\\right)^2 \\hat{\\bf{e_{R_2}}} + \\frac{l_2}{2}\\frac{d^2\\theta_2}{dt^2} \\hat{\\bf{e_{\\theta_2}}}\\right] \n",
    "\\end{equation}\n",
    "\n",
    "To complete the computation of the derivative of the angular momentum we must find the products $\\hat{\\bf{e_{R_2}}} \\times \\hat{\\bf{e_{R_1}}} $,  $\\hat{\\bf{e_{R_2}}} \\times \\hat{\\bf{e_{\\theta_1}}}$ and $\\hat{\\bf{e_{R_1}}} \\times \\hat{\\bf{e_{\\theta_2}}}$:\n",
    "\n",
    "\\begin{equation}\n",
    "    \\hat{\\bf{e_{R_2}}} \\times \\hat{\\bf{e_{\\theta_1}}} = \\left[\\begin{array}{c}\\sin(\\theta_2)\\\\-\\cos(\\theta_2)\\end{array}\\right] \\times \\left[\\begin{array}{c}\\cos(\\theta_1)\\\\\\sin(\\theta_1)\\end{array}\\right] = \\sin(\\theta_1)\\sin(\\theta_2)+\\cos(\\theta_1)\\cos(\\theta_2) = \\cos(\\theta_1-\\theta_2)\n",
    "\\end{equation}\n",
    "\n",
    "\\begin{equation}\n",
    "    \\hat{\\bf{e_{R_2}}} \\times \\hat{\\bf{e_{R_1}}} = \\left[\\begin{array}{c}\\sin(\\theta_2)\\\\-\\cos(\\theta_2)\\end{array}\\right] \\times \\left[\\begin{array}{c}\\sin(\\theta_1)\\\\-\\cos(\\theta_1)\\end{array}\\right] = -\\sin(\\theta_2)\\cos(\\theta_1)+\\cos(\\theta_2)\\sin(\\theta_1) = \\sin(\\theta_1-\\theta_2)\n",
    "\\end{equation}\n",
    "\n",
    "\\begin{equation}\n",
    "    \\hat{\\bf{e_{R_1}}} \\times \\hat{\\bf{e_{\\theta_2}}} =\\left[\\begin{array}{c}\\sin(\\theta_1)\\\\-\\cos(\\theta_1)\\end{array}\\right] \\times \\left[\\begin{array}{c}\\cos(\\theta_2)\\\\\\sin(\\theta_2)\\end{array}\\right] = \\sin(\\theta_2)\\sin(\\theta_1)+\\cos(\\theta_2)\\cos(\\theta_1) = \\cos(\\theta_1-\\theta_2)\n",
    "\\end{equation}\n",
    "\n",
    "So, the derivative of the angular momentum is:\n",
    "\n",
    "\\begin{align}\n",
    "\\begin{split}\n",
    "    \\frac{d\\vec{\\bf{H_{O2}}}}{dt} &=  I_{zz}^{C2} \\frac{d^2\\theta_2}{dt^2} - \\frac{m_2l_1l_2}{2}\\left(\\frac{d\\theta_1}{dt}\\right)^2 \\sin(\\theta_1-\\theta_2) + \\frac{m_2l_1l_2}{2}\\frac{d^2\\theta_1}{dt^2} \\cos(\\theta_1-\\theta_2) + \\frac{m_2l_2^2}{4}\\frac{d^2\\theta_2}{dt^2} \\\\\n",
    "    &=  \\frac{m_2l_1l_2}{2}\\cos(\\theta_1-\\theta_2)\\frac{d^2\\theta_1}{dt^2} + \\left(I_{zz}^{C2} + \\frac{m_2l_2^2}{4} \\right)\\frac{d^2\\theta_2}{dt^2}- \\frac{m_2l_1l_2}{2}\\left(\\frac{d\\theta_1}{dt}\\right)^2 \\sin(\\theta_1-\\theta_2) \n",
    "    \\end{split}\n",
    "\\end{align}"
   ]
  },
  {
   "cell_type": "markdown",
   "metadata": {
    "slideshow": {
     "slide_type": "slide"
    }
   },
   "source": [
    "### Sum of moments of the upper bar around O1\n",
    "\n",
    "Now we can analyze the sum of the moments and the derivative of the angular momentum at the upper bar. They will be computed relative to the point O1. \n",
    "\n",
    "$$\n",
    "    \\vec{\\bf{M_{O1}}} = \\vec{\\bf{r_{C1/O1}}} \\times (-m_1g\\hat{\\bf{j}}) + \\vec{\\bf{r_{O2/O1}}} \\times (-\\vec{\\bf{F_{12}}}) + \\vec{\\bf{M_{1}}} - \\vec{\\bf{M_{12}}} = \\frac{l_1}{2}  \\hat{\\bf{e_{R_1}}}  \\times (-m_1g\\hat{\\bf{j}}) + l_1\\hat{\\bf{e_{R_1}}} \\times (-\\vec{\\bf{F_{12}}}) + \\vec{\\bf{M_{1}}} - \\vec{\\bf{M_{12}}}\n",
    "$$\n",
    "$$\n",
    "\\vec{\\bf{M_{O1}}}= \\frac{-m_1gl_1}{2}\\sin(\\theta_1)\\hat{\\bf{k}} + l_1\\hat{\\bf{e_{R_1}}} \\times (-\\vec{\\bf{F_{12}}}) + \\vec{\\bf{M_{1}}} - \\vec{\\bf{M_{12}}}\n",
    "$$\n",
    "\n",
    "It remains to find the force $\\vec{\\bf{F_{12}}}$ that is in the sum of moment of the upper bar. It can be found by finding the resultant force in the lower bar and use the First Newton-Euler law:\n",
    "\n",
    "$$\n",
    "    \\vec{\\bf{F_{12}}} - m_2g \\hat{\\bf{j}} = m\\vec{\\bf{a_{C2}}}\n",
    "$$\n",
    "$$\\vec{\\bf{F_{12}}}  =  m_2g \\hat{\\bf{j}}  + m_2\\left[-l_1\\left(\\frac{d\\theta_1}{dt}\\right)^2 \\hat{\\bf{e_{R_1}}} + l_1\\frac{d^2\\theta_1}{dt^2} \\hat{\\bf{e_{\\theta_1}}} -\\frac{l_2}{2}\\left(\\frac{d\\theta_2}{dt}\\right)^2 \\hat{\\bf{e_{R_2}}} + \\frac{l_2}{2}\\frac{d^2\\theta_2}{dt^2} \\hat{\\bf{e_{\\theta_2}}}\\right] \n",
    "$$\n",
    "\n",
    "Now, we can go back to the moment $\\vec{\\bf{M_{O1}}}$:\n",
    "\n",
    "\\begin{align}\n",
    "    \\begin{split}\n",
    "    \\vec{\\bf{M_{O1}}} &= \\frac{-m_1gl_1}{2}\\sin(\\theta_1)\\hat{\\bf{k}} + l_1\\hat{\\bf{e_{R_1}}} \\times (-\\vec{\\bf{F_{12}}}) + \\vec{\\bf{M_{1}}} - \\vec{\\bf{M_{12}}} \\\\\n",
    "    &= -\\frac{m_1gl_1}{2}\\sin(\\theta_1)\\hat{\\bf{k}} - l_1\\hat{\\bf{e_{R_1}}} \\times   m_2\\left[g \\hat{\\bf{j}}-l_1\\left(\\frac{d\\theta_1}{dt}\\right)^2 \\hat{\\bf{e_{R_1}}} + l_1\\frac{d^2\\theta_1}{dt^2} \\hat{\\bf{e_{\\theta_1}}} -\\frac{l_2}{2}\\left(\\frac{d\\theta_2}{dt}\\right)^2 \\hat{\\bf{e_{R_2}}} + \\frac{l_2}{2}\\frac{d^2\\theta_2}{dt^2} \\hat{\\bf{e_{\\theta_2}}}\\right]  + \\vec{\\bf{M_{1}}} - \\vec{\\bf{M_{12}}} \\\\\n",
    "    &= -\\frac{m_1gl_1}{2}\\sin(\\theta_1)\\hat{\\bf{k}} - m_2l_1g \\sin(\\theta_1)\\hat{\\bf{k}}  - m_2l_1^2\\frac{d^2\\theta_1}{dt^2}\\hat{\\bf{k}}  + \\frac{m_2l_1l_2}{2}\\left(\\frac{d\\theta_2}{dt}\\right)^2 \\sin(\\theta_1-\\theta_2)\\hat{\\bf{k}}  - \\frac{m_2l_1l_2}{2}\\frac{d^2\\theta_2}{dt^2} \\cos(\\theta_1-\\theta_2)\\hat{\\bf{k}}  + M_1\\hat{\\bf{k}}  - M_{12}\\hat{\\bf{k}} \n",
    "    \\end{split}\n",
    "\\end{align}"
   ]
  },
  {
   "cell_type": "markdown",
   "metadata": {
    "slideshow": {
     "slide_type": "slide"
    }
   },
   "source": [
    "### Derivative of angular momentum of the upper bar around O1\n",
    "\n",
    "$$\n",
    "    \\frac{d\\vec{\\bf{H_{O1}}}}{dt} = I_{zz}^{C1} \\frac{d^2\\theta_1}{dt^2} + m_1 \\vec{\\bf{r_{C1/O1}}} \\times \\vec{\\bf{a_{C1}}} = I_{zz}^{C1} \\frac{d^2\\theta_1}{dt^2} + m_1 \\frac{l_1}{2}  \\hat{\\bf{e_{R_1}}} \\times \\left[-\\frac{l_1}{2}\\left(\\frac{d\\theta_1}{dt}\\right)^2 \\hat{\\bf{e_{R_1}}} + \\frac{l_1}{2}\\frac{d^2\\theta_1}{dt^2} \\hat{\\bf{e_{\\theta_1}}}\\right]\n",
    "$$\n",
    "$$\n",
    "\\frac{d\\vec{\\bf{H_{O1}}}}{dt} =\\left( I_{zz}^{C1}  + m_1 \\frac{l_1^2}{4}\\right)\\frac{d^2\\theta_1}{dt^2}\n",
    "$$\n",
    "\n"
   ]
  },
  {
   "cell_type": "markdown",
   "metadata": {
    "slideshow": {
     "slide_type": "slide"
    }
   },
   "source": [
    "### The equations of motion\n",
    "\n",
    "Finally, using the second Newton-Euler law for both bars, we can find the equation of motion of both angles:\n",
    "\n",
    "\\begin{equation}\n",
    "    \\frac{d\\vec{\\bf{H_{O1}}}}{dt} = \\vec{\\bf{M_{O1}}} \\rightarrow  \\left( I_{zz}^{C1}  + m_1 \\frac{l_1^2}{4}\\right)\\frac{d^2\\theta_1}{dt^2} =  -\\frac{m_1gl_1}{2}\\sin(\\theta_1)- m_2l_1g \\sin(\\theta_1)  - m_2l_1^2\\frac{d^2\\theta_1}{dt^2}  + \\frac{m_2l_1l_2}{2}\\left(\\frac{d\\theta_2}{dt}\\right)^2 \\sin(\\theta_1-\\theta_2)  - \\frac{m_2l_1l_2}{2}\\frac{d^2\\theta_2}{dt^2} \\cos{(\\theta_1-\\theta_2)}  + M_1 - M_{12} \n",
    "\\end{equation}\n",
    "\n",
    "\\begin{equation}\n",
    "    \\frac{d\\vec{\\bf{H_{O2}}}}{dt} = \\vec{\\bf{M_{O2}}} \\rightarrow \\frac{m_2l_1l_2}{2}\\cos(\\theta_1-\\theta_2)\\frac{d^2\\theta_1}{dt^2} + \\left(I_{zz}^{C2} + \\frac{m_2l_2^2}{4} \\right)\\frac{d^2\\theta_2}{dt^2}- \\frac{m_2l_1l_2}{2}\\left(\\frac{d\\theta_1}{dt}\\right)^2 \\sin(\\theta_1-\\theta_2) = -\\frac{m_2gl_2}{2}\\sin(\\theta_2) + M_{12}\n",
    "\\end{equation}\n",
    "\n",
    "\n",
    "\n",
    "Considering the moment of inertia of the bars as $I_{zz}^{C1}=\\frac{m_1l_1^2}{12}$ and $I_{zz}^{C2}=\\frac{m_2l_2^2}{12}$ the differential equations above are:\n",
    "\n",
    "\\begin{equation}\n",
    "     \\left(\\frac{m_1l_1^2}{3} +m_2l_1^2\\right)\\frac{d^2\\theta_1}{dt^2} + \\frac{m_2l_1l_2}{2} \\cos{(\\theta_1-\\theta_2)\\frac{d^2\\theta_2}{dt^2}}  =  -\\frac{m_1gl_1}{2}\\sin(\\theta_1)- m_2l_1g \\sin(\\theta_1)   + \\frac{m_2l_1l_2}{2}\\left(\\frac{d\\theta_2}{dt}\\right)^2 \\sin(\\theta_1-\\theta_2)  + M_1 - M_{12} \n",
    "\\end{equation}\n",
    "\n",
    "\\begin{equation}\n",
    "    \\frac{m_2l_1l_2}{2}\\cos(\\theta_1-\\theta_2)\\frac{d^2\\theta_1}{dt^2} + \\frac{m_2l_2^2}{3}\\frac{d^2\\theta_2}{dt^2} = -\\frac{m_2gl_2}{2}\\sin(\\theta_2) + \\frac{m_2l_1l_2}{2}\\left(\\frac{d\\theta_1}{dt}\\right)^2 \\sin(\\theta_1-\\theta_2)+ M_{12} \n",
    "\\end{equation}\n",
    "\n",
    "\n",
    "We could isolate the angular accelerations but this would lead to very long equations."
   ]
  },
  {
   "cell_type": "markdown",
   "metadata": {
    "slideshow": {
     "slide_type": "slide"
    }
   },
   "source": [
    "### Problems\n",
    "\n",
    "\n",
    "- Solve the problems 6, 7 and 8 from [this Notebook](FreeBodyDiagram.ipynb).\n",
    "\n",
    "- Solve the problems 16.2.9, 18.3.26, 18.3.29 from Ruina and Pratap book.\n",
    "\n"
   ]
  },
  {
   "cell_type": "markdown",
   "metadata": {
    "slideshow": {
     "slide_type": "slide"
    }
   },
   "source": [
    "### References\n",
    "\n",
    "- Ruina A., Rudra P. (2015) [Introduction to Statics and Dynamics](http://ruina.tam.cornell.edu/Book/index.html). Oxford University Press. \n",
    "\n",
    "- Duarte M. (2017) [Free body diagram](FreeBodyDiagram.ipynb)\n",
    "\n",
    "- Elias, L A, Watanabe, R N, Kohn, A F.(2014) [Spinal Mechanisms May Provide a Combination of Intermittent and Continuous Control of Human Posture: Predictions from a Biologically Based Neuromusculoskeletal Model.](http://dx.doi.org/10.1371/journal.pcbi.1003944) PLOS Computational Biology (Online)\n",
    "\n",
    "- Winter D. A., (2009) Biomechanics and motor control of human movement. John Wiley and Sons.\n",
    "\n",
    "- Duarte M. (2017) [The inverted pendulum model of the human standing](http://nbviewer.jupyter.org/github/demotu/BMC/blob/master/notebooks/IP_Model.ipynb)"
   ]
  }
 ],
 "metadata": {
  "celltoolbar": "Slideshow",
  "kernelspec": {
   "display_name": "Python 3",
   "language": "python",
   "name": "python3"
  },
  "language_info": {
   "codemirror_mode": {
    "name": "ipython",
    "version": 3
   },
   "file_extension": ".py",
   "mimetype": "text/x-python",
   "name": "python",
   "nbconvert_exporter": "python",
   "pygments_lexer": "ipython3",
   "version": "3.6.8"
  },
  "latex_envs": {
   "LaTeX_envs_menu_present": true,
   "autoclose": false,
   "autocomplete": true,
   "bibliofile": "biblio.bib",
   "cite_by": "apalike",
   "current_citInitial": 1,
   "eqLabelWithNumbers": true,
   "eqNumInitial": 1,
   "hotkeys": {
    "equation": "Ctrl-E",
    "itemize": "Ctrl-I"
   },
   "labels_anchors": false,
   "latex_user_defs": false,
   "report_style_numbering": false,
   "user_envs_cfg": false
  },
  "nbTranslate": {
   "displayLangs": [
    "*"
   ],
   "hotkey": "alt-t",
   "langInMainMenu": true,
   "sourceLang": "en",
   "targetLang": "pt",
   "useGoogleTranslate": true
  }
 },
 "nbformat": 4,
 "nbformat_minor": 2
}
